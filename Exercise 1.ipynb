{
 "cells": [
  {
   "cell_type": "markdown",
   "metadata": {},
   "source": [
    "# Exercise 1"
   ]
  },
  {
   "cell_type": "markdown",
   "metadata": {},
   "source": [
    "## Dataset and Library Imports"
   ]
  },
  {
   "cell_type": "code",
   "execution_count": 111,
   "metadata": {},
   "outputs": [],
   "source": [
    "import pandas as pd\n",
    "import sqlite3\n",
    "from sqlite3 import Error\n",
    "\n",
    "from scipy import stats"
   ]
  },
  {
   "cell_type": "code",
   "execution_count": 38,
   "metadata": {},
   "outputs": [],
   "source": [
    "student_df = pd.read_csv('student_records.csv')"
   ]
  },
  {
   "cell_type": "markdown",
   "metadata": {},
   "source": [
    "## Establishing functions for SQLite connection and creation"
   ]
  },
  {
   "cell_type": "code",
   "execution_count": 39,
   "metadata": {},
   "outputs": [],
   "source": [
    "def create_connection(db_file):\n",
    "    \"\"\" create a database connection to a SQLite database \"\"\"\n",
    "    conn = None\n",
    "    try:\n",
    "        conn = sqlite3.connect(db_file)\n",
    "        return conn\n",
    "    except Error as e:\n",
    "        print(e)\n",
    "    \n",
    "    return conn"
   ]
  },
  {
   "cell_type": "code",
   "execution_count": 40,
   "metadata": {},
   "outputs": [],
   "source": [
    "def table_from_df(df, table_name):\n",
    "    try:\n",
    "        df.to_sql(name=table_name, con=conn, if_exists='replace', index=False)\n",
    "    except Error as e:\n",
    "        print(e)\n",
    "    conn.commit()"
   ]
  },
  {
   "cell_type": "code",
   "execution_count": 41,
   "metadata": {},
   "outputs": [],
   "source": [
    "def select_all_from_table(select_sql, table_name):\n",
    "    try:\n",
    "        c = conn.cursor()\n",
    "        c.execute(select_sql)\n",
    "        result = c.fetchall()\n",
    "        return result\n",
    "    except Error as e:\n",
    "        print(e)\n",
    "\n"
   ]
  },
  {
   "cell_type": "markdown",
   "metadata": {},
   "source": [
    "## Database and table creation"
   ]
  },
  {
   "cell_type": "code",
   "execution_count": 133,
   "metadata": {},
   "outputs": [
    {
     "name": "stdout",
     "output_type": "stream",
     "text": [
      "[(1, 'M', 1, 80), (2, 'M', 0, 90), (3, 'M', 0, 60), (4, 'M', 1, 65), (5, 'F', 0, 80), (6, 'F', 0, 55), (7, 'F', 0, 70), (8, 'F', 1, 90), (9, 'F', 1, 92), (10, 'F', 1, 65), (11, 'F', 1, 70), (12, 'M', 0, 75), (13, 'F', 0, 80), (14, 'F', 1, 85), (15, 'F', 1, 90), (16, 'M', 1, 95), (17, 'M', 1, 40), (18, 'M', 1, 50), (19, 'F', 0, 60), (20, 'M', 0, 70), (21, 'M', 0, 80), (22, 'M', 1, 90), (23, 'F', 1, 55), (24, 'F', 1, 60), (25, 'F', 1, 65), (26, 'F', 0, 70), (27, 'F', 0, 75), (28, 'M', 0, 80), (29, 'M', 0, 85), (30, 'M', 1, 90)]\n"
     ]
    }
   ],
   "source": [
    "conn = create_connection(r\"student.db\")\n",
    "tn = 'student'\n",
    "select_sql = '''SELECT * from {}'''.format(tn)\n",
    "\n",
    "if conn is not None:\n",
    "        table_from_df(student_df, tn)\n",
    "        all_data = select_all_from_table(select_sql, tn)\n",
    "        print(all_data)\n",
    "else:\n",
    "    print(\"Error! cannot create the database connection.\")"
   ]
  },
  {
   "cell_type": "code",
   "execution_count": 134,
   "metadata": {
    "scrolled": true
   },
   "outputs": [
    {
     "data": {
      "text/html": [
       "<div>\n",
       "<style scoped>\n",
       "    .dataframe tbody tr th:only-of-type {\n",
       "        vertical-align: middle;\n",
       "    }\n",
       "\n",
       "    .dataframe tbody tr th {\n",
       "        vertical-align: top;\n",
       "    }\n",
       "\n",
       "    .dataframe thead th {\n",
       "        text-align: right;\n",
       "    }\n",
       "</style>\n",
       "<table border=\"1\" class=\"dataframe\">\n",
       "  <thead>\n",
       "    <tr style=\"text-align: right;\">\n",
       "      <th></th>\n",
       "      <th>Student_No.</th>\n",
       "      <th>Gender</th>\n",
       "      <th>Score_Football_Q</th>\n",
       "      <th>Total_Exam_Score</th>\n",
       "    </tr>\n",
       "  </thead>\n",
       "  <tbody>\n",
       "    <tr>\n",
       "      <th>0</th>\n",
       "      <td>1</td>\n",
       "      <td>M</td>\n",
       "      <td>1</td>\n",
       "      <td>80</td>\n",
       "    </tr>\n",
       "    <tr>\n",
       "      <th>1</th>\n",
       "      <td>2</td>\n",
       "      <td>M</td>\n",
       "      <td>0</td>\n",
       "      <td>90</td>\n",
       "    </tr>\n",
       "    <tr>\n",
       "      <th>2</th>\n",
       "      <td>3</td>\n",
       "      <td>M</td>\n",
       "      <td>0</td>\n",
       "      <td>60</td>\n",
       "    </tr>\n",
       "    <tr>\n",
       "      <th>3</th>\n",
       "      <td>4</td>\n",
       "      <td>M</td>\n",
       "      <td>1</td>\n",
       "      <td>65</td>\n",
       "    </tr>\n",
       "    <tr>\n",
       "      <th>4</th>\n",
       "      <td>5</td>\n",
       "      <td>F</td>\n",
       "      <td>0</td>\n",
       "      <td>80</td>\n",
       "    </tr>\n",
       "    <tr>\n",
       "      <th>5</th>\n",
       "      <td>6</td>\n",
       "      <td>F</td>\n",
       "      <td>0</td>\n",
       "      <td>55</td>\n",
       "    </tr>\n",
       "    <tr>\n",
       "      <th>6</th>\n",
       "      <td>7</td>\n",
       "      <td>F</td>\n",
       "      <td>0</td>\n",
       "      <td>70</td>\n",
       "    </tr>\n",
       "    <tr>\n",
       "      <th>7</th>\n",
       "      <td>8</td>\n",
       "      <td>F</td>\n",
       "      <td>1</td>\n",
       "      <td>90</td>\n",
       "    </tr>\n",
       "    <tr>\n",
       "      <th>8</th>\n",
       "      <td>9</td>\n",
       "      <td>F</td>\n",
       "      <td>1</td>\n",
       "      <td>92</td>\n",
       "    </tr>\n",
       "    <tr>\n",
       "      <th>9</th>\n",
       "      <td>10</td>\n",
       "      <td>F</td>\n",
       "      <td>1</td>\n",
       "      <td>65</td>\n",
       "    </tr>\n",
       "    <tr>\n",
       "      <th>10</th>\n",
       "      <td>11</td>\n",
       "      <td>F</td>\n",
       "      <td>1</td>\n",
       "      <td>70</td>\n",
       "    </tr>\n",
       "    <tr>\n",
       "      <th>11</th>\n",
       "      <td>12</td>\n",
       "      <td>M</td>\n",
       "      <td>0</td>\n",
       "      <td>75</td>\n",
       "    </tr>\n",
       "    <tr>\n",
       "      <th>12</th>\n",
       "      <td>13</td>\n",
       "      <td>F</td>\n",
       "      <td>0</td>\n",
       "      <td>80</td>\n",
       "    </tr>\n",
       "    <tr>\n",
       "      <th>13</th>\n",
       "      <td>14</td>\n",
       "      <td>F</td>\n",
       "      <td>1</td>\n",
       "      <td>85</td>\n",
       "    </tr>\n",
       "    <tr>\n",
       "      <th>14</th>\n",
       "      <td>15</td>\n",
       "      <td>F</td>\n",
       "      <td>1</td>\n",
       "      <td>90</td>\n",
       "    </tr>\n",
       "    <tr>\n",
       "      <th>15</th>\n",
       "      <td>16</td>\n",
       "      <td>M</td>\n",
       "      <td>1</td>\n",
       "      <td>95</td>\n",
       "    </tr>\n",
       "    <tr>\n",
       "      <th>16</th>\n",
       "      <td>17</td>\n",
       "      <td>M</td>\n",
       "      <td>1</td>\n",
       "      <td>40</td>\n",
       "    </tr>\n",
       "    <tr>\n",
       "      <th>17</th>\n",
       "      <td>18</td>\n",
       "      <td>M</td>\n",
       "      <td>1</td>\n",
       "      <td>50</td>\n",
       "    </tr>\n",
       "    <tr>\n",
       "      <th>18</th>\n",
       "      <td>19</td>\n",
       "      <td>F</td>\n",
       "      <td>0</td>\n",
       "      <td>60</td>\n",
       "    </tr>\n",
       "    <tr>\n",
       "      <th>19</th>\n",
       "      <td>20</td>\n",
       "      <td>M</td>\n",
       "      <td>0</td>\n",
       "      <td>70</td>\n",
       "    </tr>\n",
       "    <tr>\n",
       "      <th>20</th>\n",
       "      <td>21</td>\n",
       "      <td>M</td>\n",
       "      <td>0</td>\n",
       "      <td>80</td>\n",
       "    </tr>\n",
       "    <tr>\n",
       "      <th>21</th>\n",
       "      <td>22</td>\n",
       "      <td>M</td>\n",
       "      <td>1</td>\n",
       "      <td>90</td>\n",
       "    </tr>\n",
       "    <tr>\n",
       "      <th>22</th>\n",
       "      <td>23</td>\n",
       "      <td>F</td>\n",
       "      <td>1</td>\n",
       "      <td>55</td>\n",
       "    </tr>\n",
       "    <tr>\n",
       "      <th>23</th>\n",
       "      <td>24</td>\n",
       "      <td>F</td>\n",
       "      <td>1</td>\n",
       "      <td>60</td>\n",
       "    </tr>\n",
       "    <tr>\n",
       "      <th>24</th>\n",
       "      <td>25</td>\n",
       "      <td>F</td>\n",
       "      <td>1</td>\n",
       "      <td>65</td>\n",
       "    </tr>\n",
       "    <tr>\n",
       "      <th>25</th>\n",
       "      <td>26</td>\n",
       "      <td>F</td>\n",
       "      <td>0</td>\n",
       "      <td>70</td>\n",
       "    </tr>\n",
       "    <tr>\n",
       "      <th>26</th>\n",
       "      <td>27</td>\n",
       "      <td>F</td>\n",
       "      <td>0</td>\n",
       "      <td>75</td>\n",
       "    </tr>\n",
       "    <tr>\n",
       "      <th>27</th>\n",
       "      <td>28</td>\n",
       "      <td>M</td>\n",
       "      <td>0</td>\n",
       "      <td>80</td>\n",
       "    </tr>\n",
       "    <tr>\n",
       "      <th>28</th>\n",
       "      <td>29</td>\n",
       "      <td>M</td>\n",
       "      <td>0</td>\n",
       "      <td>85</td>\n",
       "    </tr>\n",
       "    <tr>\n",
       "      <th>29</th>\n",
       "      <td>30</td>\n",
       "      <td>M</td>\n",
       "      <td>1</td>\n",
       "      <td>90</td>\n",
       "    </tr>\n",
       "  </tbody>\n",
       "</table>\n",
       "</div>"
      ],
      "text/plain": [
       "    Student_No. Gender  Score_Football_Q  Total_Exam_Score\n",
       "0             1      M                 1                80\n",
       "1             2      M                 0                90\n",
       "2             3      M                 0                60\n",
       "3             4      M                 1                65\n",
       "4             5      F                 0                80\n",
       "5             6      F                 0                55\n",
       "6             7      F                 0                70\n",
       "7             8      F                 1                90\n",
       "8             9      F                 1                92\n",
       "9            10      F                 1                65\n",
       "10           11      F                 1                70\n",
       "11           12      M                 0                75\n",
       "12           13      F                 0                80\n",
       "13           14      F                 1                85\n",
       "14           15      F                 1                90\n",
       "15           16      M                 1                95\n",
       "16           17      M                 1                40\n",
       "17           18      M                 1                50\n",
       "18           19      F                 0                60\n",
       "19           20      M                 0                70\n",
       "20           21      M                 0                80\n",
       "21           22      M                 1                90\n",
       "22           23      F                 1                55\n",
       "23           24      F                 1                60\n",
       "24           25      F                 1                65\n",
       "25           26      F                 0                70\n",
       "26           27      F                 0                75\n",
       "27           28      M                 0                80\n",
       "28           29      M                 0                85\n",
       "29           30      M                 1                90"
      ]
     },
     "execution_count": 134,
     "metadata": {},
     "output_type": "execute_result"
    }
   ],
   "source": [
    "columns = ['Student_No.', 'Gender', 'Score_Football_Q', 'Total_Exam_Score']\n",
    "all_data_df = pd.DataFrame(all_data, columns=columns)\n",
    "all_data_df"
   ]
  },
  {
   "cell_type": "markdown",
   "metadata": {},
   "source": [
    "## Analysis"
   ]
  },
  {
   "cell_type": "markdown",
   "metadata": {},
   "source": [
    "### gender vs football question"
   ]
  },
  {
   "cell_type": "code",
   "execution_count": 46,
   "metadata": {
    "collapsed": true
   },
   "outputs": [
    {
     "data": {
      "text/html": [
       "<div>\n",
       "<style scoped>\n",
       "    .dataframe tbody tr th:only-of-type {\n",
       "        vertical-align: middle;\n",
       "    }\n",
       "\n",
       "    .dataframe tbody tr th {\n",
       "        vertical-align: top;\n",
       "    }\n",
       "\n",
       "    .dataframe thead th {\n",
       "        text-align: right;\n",
       "    }\n",
       "</style>\n",
       "<table border=\"1\" class=\"dataframe\">\n",
       "  <thead>\n",
       "    <tr style=\"text-align: right;\">\n",
       "      <th></th>\n",
       "      <th>Score_Football_Question</th>\n",
       "      <th>Gender</th>\n",
       "      <th>count_student</th>\n",
       "    </tr>\n",
       "  </thead>\n",
       "  <tbody>\n",
       "    <tr>\n",
       "      <th>0</th>\n",
       "      <td>0</td>\n",
       "      <td>F</td>\n",
       "      <td>7</td>\n",
       "    </tr>\n",
       "    <tr>\n",
       "      <th>1</th>\n",
       "      <td>0</td>\n",
       "      <td>M</td>\n",
       "      <td>7</td>\n",
       "    </tr>\n",
       "    <tr>\n",
       "      <th>2</th>\n",
       "      <td>1</td>\n",
       "      <td>F</td>\n",
       "      <td>9</td>\n",
       "    </tr>\n",
       "    <tr>\n",
       "      <th>3</th>\n",
       "      <td>1</td>\n",
       "      <td>M</td>\n",
       "      <td>7</td>\n",
       "    </tr>\n",
       "  </tbody>\n",
       "</table>\n",
       "</div>"
      ],
      "text/plain": [
       "   Score_Football_Question Gender  count_student\n",
       "0                        0      F              7\n",
       "1                        0      M              7\n",
       "2                        1      F              9\n",
       "3                        1      M              7"
      ]
     },
     "execution_count": 46,
     "metadata": {},
     "output_type": "execute_result"
    }
   ],
   "source": [
    "# does the 'football' question have a gender bias? if so, is it a significant difference?\n",
    "analysis_sql = '''  SELECT Score_Football_Question, Gender, count(*)\n",
    "                    from {}\n",
    "                    group by Score_Football_Question, Gender\n",
    "                  \n",
    "               '''.format(tn)\n",
    "query_df = pd.DataFrame(select_all_from_table(analysis_sql, tn), columns=['Score_Football_Question', 'Gender', 'count_student'])\n",
    "query_df"
   ]
  },
  {
   "cell_type": "markdown",
   "metadata": {},
   "source": [
    "we're going to interprete the result of our hyposthesis testing via the p-value\n",
    "\n",
    "A p-value larger than a chosen threshold (e.g. 5% or 1%) indicates that our observation is like to have occurred by chance. Therefore, we do not reject the null hypothesis of equal population means. If the p-value is smaller than our threshold, then we have evidence against the null hypothesis of equal population means."
   ]
  },
  {
   "cell_type": "code",
   "execution_count": 112,
   "metadata": {},
   "outputs": [
    {
     "data": {
      "text/plain": [
       "Ttest_indResult(statistic=-0.3313667478318056, pvalue=0.7428348597535019)"
      ]
     },
     "execution_count": 112,
     "metadata": {},
     "output_type": "execute_result"
    }
   ],
   "source": [
    "# run hypothesis testing (to test if it is a significant difference or not)\n",
    "male_sql = '''  SELECT Score_Football_Question, Gender\n",
    "                from {}\n",
    "                where Gender='M'    \n",
    "           '''.format(tn)\n",
    "male_df = pd.DataFrame(select_all_from_table(male_sql, tn), columns=['Score_Football_Question', 'Gender'])\n",
    "male_responses = male_df['Score_Football_Question'].values\n",
    "\n",
    "female_sql = '''  SELECT Score_Football_Question, Gender\n",
    "                  from {}\n",
    "                  where Gender='F'\n",
    "             '''.format(tn)\n",
    "female_df = pd.DataFrame(select_all_from_table(female_sql, tn), columns=['Score_Football_Question', 'Gender'])\n",
    "female_responses = female_df['Score_Football_Question'].values\n",
    "\n",
    "stats.ttest_ind(male_responses, female_responses)"
   ]
  },
  {
   "cell_type": "markdown",
   "metadata": {},
   "source": [
    "**NULL HYPOTHESIS**: no significant difference between males and females count\n",
    "\n",
    "**THRESHOLD** 5% probability of obtaining the observed results \n",
    "\n",
    "A p-value larger than a chosen threshold (5%) indicates that our observation of obtaining more extreme values is likely to have occurred by chance. Therefore, we do not reject the null hypothesis of equal population means. If the p-value is smaller than our threshold, then we have evidence against the null hypothesis of equal population means.\n",
    "\n",
    "**CONCLUSION** since p-value is approximately 0.743, we accept the null hypothesis, this means that both male and female responses have no significant difference in distribution of football question scores (distribution of count 0/1). we can safely say that no there is no gender bias with regards to answering the football question"
   ]
  },
  {
   "cell_type": "markdown",
   "metadata": {},
   "source": [
    "### gender vs total exam score"
   ]
  },
  {
   "cell_type": "code",
   "execution_count": 116,
   "metadata": {},
   "outputs": [
    {
     "data": {
      "text/html": [
       "<div>\n",
       "<style scoped>\n",
       "    .dataframe tbody tr th:only-of-type {\n",
       "        vertical-align: middle;\n",
       "    }\n",
       "\n",
       "    .dataframe tbody tr th {\n",
       "        vertical-align: top;\n",
       "    }\n",
       "\n",
       "    .dataframe thead th {\n",
       "        text-align: right;\n",
       "    }\n",
       "</style>\n",
       "<table border=\"1\" class=\"dataframe\">\n",
       "  <thead>\n",
       "    <tr style=\"text-align: right;\">\n",
       "      <th></th>\n",
       "      <th>Gender</th>\n",
       "      <th>Total_Exam_Score</th>\n",
       "    </tr>\n",
       "  </thead>\n",
       "  <tbody>\n",
       "    <tr>\n",
       "      <th>0</th>\n",
       "      <td>F</td>\n",
       "      <td>72.625</td>\n",
       "    </tr>\n",
       "    <tr>\n",
       "      <th>1</th>\n",
       "      <td>M</td>\n",
       "      <td>75.000</td>\n",
       "    </tr>\n",
       "  </tbody>\n",
       "</table>\n",
       "</div>"
      ],
      "text/plain": [
       "  Gender  Total_Exam_Score\n",
       "0      F            72.625\n",
       "1      M            75.000"
      ]
     },
     "execution_count": 116,
     "metadata": {},
     "output_type": "execute_result"
    }
   ],
   "source": [
    "# is there a difference between males and females with regards to exam score? \n",
    "analysis_sql2 = '''  SELECT Gender, avg(Total_Examination_Score)\n",
    "                     from {}\n",
    "                     group by Gender\n",
    "                  \n",
    "                '''.format(tn)\n",
    "\n",
    "query_df2 = pd.DataFrame(select_all_from_table(analysis_sql2, tn), columns=['Gender', 'Total_Exam_Score'])\n",
    "query_df2"
   ]
  },
  {
   "cell_type": "markdown",
   "metadata": {},
   "source": [
    "there does not seem to be a significant difference between male and female score by average. we will further test this significance with t-test"
   ]
  },
  {
   "cell_type": "code",
   "execution_count": 118,
   "metadata": {},
   "outputs": [
    {
     "data": {
      "text/plain": [
       "Ttest_indResult(statistic=0.45193608988724343, pvalue=0.6547966580418801)"
      ]
     },
     "execution_count": 118,
     "metadata": {},
     "output_type": "execute_result"
    }
   ],
   "source": [
    "# run hypothesis testing (to test if it is a significant difference or not)\n",
    "male_sql = '''  SELECT Gender, Total_Examination_Score\n",
    "                from {}\n",
    "                where Gender='M'    \n",
    "           '''.format(tn)\n",
    "male_df = pd.DataFrame(select_all_from_table(male_sql, tn), columns=['Gender', 'Total_Examination_Score'])\n",
    "male_responses = male_df['Total_Examination_Score'].values\n",
    "\n",
    "female_sql = '''  SELECT Gender, Total_Examination_Score\n",
    "                  from {}\n",
    "                  where Gender='F'\n",
    "             '''.format(tn)\n",
    "female_df = pd.DataFrame(select_all_from_table(female_sql, tn), columns=['Gender', 'Total_Examination_Score'])\n",
    "female_responses = female_df['Total_Examination_Score'].values\n",
    "\n",
    "stats.ttest_ind(male_responses, female_responses)"
   ]
  },
  {
   "cell_type": "markdown",
   "metadata": {},
   "source": [
    "**CONCLUSION** since p-value is approximately 0.655, we accept the null hypothesis, this means that both male and female exam scores have no significant difference in their distribution. so males and female scores have no signifcant differences between them in the data."
   ]
  },
  {
   "cell_type": "markdown",
   "metadata": {},
   "source": [
    "### Establishing Possible Correlations"
   ]
  },
  {
   "cell_type": "code",
   "execution_count": 144,
   "metadata": {},
   "outputs": [],
   "source": [
    "# is answering the football question correlated with general exam scores? if so, how might that relate to gender?\n",
    "# let's construct a correlation matrix to see if there is any notable correlations\n",
    "import matplotlib.pyplot as plt\n",
    "import seaborn as sns\n",
    "from sklearn.preprocessing import OrdinalEncoder"
   ]
  },
  {
   "cell_type": "code",
   "execution_count": 141,
   "metadata": {
    "scrolled": true
   },
   "outputs": [
    {
     "name": "stderr",
     "output_type": "stream",
     "text": [
      "C:\\Users\\modaj\\AppData\\Local\\Temp\\ipykernel_6128\\3351735667.py:5: SettingWithCopyWarning: \n",
      "A value is trying to be set on a copy of a slice from a DataFrame.\n",
      "Try using .loc[row_indexer,col_indexer] = value instead\n",
      "\n",
      "See the caveats in the documentation: https://pandas.pydata.org/pandas-docs/stable/user_guide/indexing.html#returning-a-view-versus-a-copy\n",
      "  selected_corr_df['Gender'] = all_data_df['Gender'].map({'M': 1, 'F': 0})\n"
     ]
    }
   ],
   "source": [
    "# first we must encode the gender feature \n",
    "selected_corr_df = all_data_df.copy()\n",
    "\n",
    "selected_corr_df = all_data_df[['Gender', 'Score_Football_Q', 'Total_Exam_Score']]\n",
    "selected_corr_df['Gender'] = all_data_df['Gender'].map({'M': 1, 'F': 0})"
   ]
  },
  {
   "cell_type": "code",
   "execution_count": 145,
   "metadata": {},
   "outputs": [
    {
     "data": {
      "image/png": "[encoded data removed]",
      "text/plain": [
       "<Figure size 432x288 with 2 Axes>"
      ]
     },
     "metadata": {
      "needs_background": "light"
     },
     "output_type": "display_data"
    }
   ],
   "source": [
    "correlation_mat = selected_corr_df.corr()\n",
    "sns.heatmap(correlation_mat, annot = True)\n",
    "plt.show()"
   ]
  },
  {
   "cell_type": "markdown",
   "metadata": {},
   "source": [
    "High degree: If the coefficient value lies between ± 0.50 and ± 1, then it is said to be a strong correlation. Moderate degree: If the value lies between ± 0.30 and ± 0.49, then it is said to be a medium correlation. Low degree: When the value lies below + . 29, then it is said to be a small correlation.\n",
    "\n",
    "**CONCLUSION** All the correlations between each feature are very small, thus establishing the fact there is no real relation between score football question and total exam score, in addition to the previous analysis results (gender vs total_exam_score, gender vs score football question). all indicates that there is no gender bias in the data in general."
   ]
  },
  {
   "cell_type": "markdown",
   "metadata": {},
   "source": [
    "### Closing database connection"
   ]
  },
  {
   "cell_type": "code",
   "execution_count": 146,
   "metadata": {},
   "outputs": [],
   "source": [
    "conn.close()"
   ]
  }
 ],
 "metadata": {
  "kernelspec": {
   "display_name": "Python 3",
   "language": "python",
   "name": "python3"
  },
  "language_info": {
   "codemirror_mode": {
    "name": "ipython",
    "version": 3
   },
   "file_extension": ".py",
   "mimetype": "text/x-python",
   "name": "python",
   "nbconvert_exporter": "python",
   "pygments_lexer": "ipython3",
   "version": "3.6.5"
  }
 },
 "nbformat": 4,
 "nbformat_minor": 5
}
