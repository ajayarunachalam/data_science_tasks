{
 "cells": [
  {
   "cell_type": "markdown",
   "metadata": {},
   "source": [
    "# Exercise 2"
   ]
  },
  {
   "cell_type": "code",
   "execution_count": 1,
   "metadata": {},
   "outputs": [],
   "source": [
    "import pandas as pd\n",
    "import numpy as np\n",
    "import os \n",
    "import glob"
   ]
  },
  {
   "cell_type": "code",
   "execution_count": 2,
   "metadata": {},
   "outputs": [],
   "source": [
    "train_path = 'data/train'\n",
    "test_path = 'data/test'\n",
    "train_df = pd.DataFrame()\n",
    "test_df = pd.DataFrame()"
   ]
  },
  {
   "cell_type": "code",
   "execution_count": 3,
   "metadata": {},
   "outputs": [
    {
     "data": {
      "text/plain": [
       "['business', 'entertainment', 'politics', 'sport', 'tech']"
      ]
     },
     "execution_count": 3,
     "metadata": {},
     "output_type": "execute_result"
    }
   ],
   "source": [
    "classes = os.listdir(train_path)\n",
    "classes"
   ]
  },
  {
   "cell_type": "markdown",
   "metadata": {},
   "source": [
    "# 1- Importing Data and Building DataFrames"
   ]
  },
  {
   "cell_type": "code",
   "execution_count": 4,
   "metadata": {},
   "outputs": [],
   "source": [
    "for class_elem in classes:\n",
    "    class_path_train = train_path + f'/{class_elem}'\n",
    "    class_path_test = test_path + f'/{class_elem}'\n",
    "    \n",
    "    # train \n",
    "    passage_l = []\n",
    "    for txtPath in glob.glob(os.path.join(class_path_train, '*.txt')):\n",
    "        txt = open(txtPath).read()\n",
    "        passage_l.append(txt)\n",
    "    data = {'reading_passage': passage_l, 'passage_topic': class_elem}\n",
    "    df_part = pd.DataFrame(data)\n",
    "    train_df = train_df.append(df_part)\n",
    "    \n",
    "    # test \n",
    "    passage_l = []\n",
    "    for txtPath in glob.glob(os.path.join(class_path_test, '*.txt')):\n",
    "        txt = open(txtPath).read()\n",
    "        passage_l.append(txt)\n",
    "    data = {'reading_passage': passage_l, 'passage_topic': class_elem}\n",
    "    df_part = pd.DataFrame(data)\n",
    "    test_df = test_df.append(df_part)\n",
    "\n",
    "train_df = train_df.reset_index(drop=True)\n",
    "test_df = test_df.reset_index(drop=True)   "
   ]
  },
  {
   "cell_type": "code",
   "execution_count": 5,
   "metadata": {},
   "outputs": [
    {
     "data": {
      "text/html": [
       "<div>\n",
       "<style scoped>\n",
       "    .dataframe tbody tr th:only-of-type {\n",
       "        vertical-align: middle;\n",
       "    }\n",
       "\n",
       "    .dataframe tbody tr th {\n",
       "        vertical-align: top;\n",
       "    }\n",
       "\n",
       "    .dataframe thead th {\n",
       "        text-align: right;\n",
       "    }\n",
       "</style>\n",
       "<table border=\"1\" class=\"dataframe\">\n",
       "  <thead>\n",
       "    <tr style=\"text-align: right;\">\n",
       "      <th></th>\n",
       "      <th>reading_passage</th>\n",
       "      <th>passage_topic</th>\n",
       "    </tr>\n",
       "  </thead>\n",
       "  <tbody>\n",
       "    <tr>\n",
       "      <th>0</th>\n",
       "      <td>Ad sales boost Time Warner profit\\n\\nQuarterly...</td>\n",
       "      <td>business</td>\n",
       "    </tr>\n",
       "    <tr>\n",
       "      <th>1</th>\n",
       "      <td>Dollar gains on Greenspan speech\\n\\nThe dollar...</td>\n",
       "      <td>business</td>\n",
       "    </tr>\n",
       "    <tr>\n",
       "      <th>2</th>\n",
       "      <td>Yukos unit buyer faces loan claim\\n\\nThe owner...</td>\n",
       "      <td>business</td>\n",
       "    </tr>\n",
       "    <tr>\n",
       "      <th>3</th>\n",
       "      <td>High fuel prices hit BA's profits\\n\\nBritish A...</td>\n",
       "      <td>business</td>\n",
       "    </tr>\n",
       "    <tr>\n",
       "      <th>4</th>\n",
       "      <td>Pernod takeover talk lifts Domecq\\n\\nShares in...</td>\n",
       "      <td>business</td>\n",
       "    </tr>\n",
       "    <tr>\n",
       "      <th>...</th>\n",
       "      <td>...</td>\n",
       "      <td>...</td>\n",
       "    </tr>\n",
       "    <tr>\n",
       "      <th>1970</th>\n",
       "      <td>Cebit opens to mobile music tune\\n\\nCebit, the...</td>\n",
       "      <td>tech</td>\n",
       "    </tr>\n",
       "    <tr>\n",
       "      <th>1971</th>\n",
       "      <td>Game makers get Xbox 2 sneak peek\\n\\nMicrosoft...</td>\n",
       "      <td>tech</td>\n",
       "    </tr>\n",
       "    <tr>\n",
       "      <th>1972</th>\n",
       "      <td>Broadband set to revolutionise TV\\n\\nBT is sta...</td>\n",
       "      <td>tech</td>\n",
       "    </tr>\n",
       "    <tr>\n",
       "      <th>1973</th>\n",
       "      <td>Chip maker backs net phone calls\\n\\nRich Templ...</td>\n",
       "      <td>tech</td>\n",
       "    </tr>\n",
       "    <tr>\n",
       "      <th>1974</th>\n",
       "      <td>Nintendo DS makes its Euro debut\\n\\nNintendo's...</td>\n",
       "      <td>tech</td>\n",
       "    </tr>\n",
       "  </tbody>\n",
       "</table>\n",
       "<p>1975 rows × 2 columns</p>\n",
       "</div>"
      ],
      "text/plain": [
       "                                        reading_passage passage_topic\n",
       "0     Ad sales boost Time Warner profit\\n\\nQuarterly...      business\n",
       "1     Dollar gains on Greenspan speech\\n\\nThe dollar...      business\n",
       "2     Yukos unit buyer faces loan claim\\n\\nThe owner...      business\n",
       "3     High fuel prices hit BA's profits\\n\\nBritish A...      business\n",
       "4     Pernod takeover talk lifts Domecq\\n\\nShares in...      business\n",
       "...                                                 ...           ...\n",
       "1970  Cebit opens to mobile music tune\\n\\nCebit, the...          tech\n",
       "1971  Game makers get Xbox 2 sneak peek\\n\\nMicrosoft...          tech\n",
       "1972  Broadband set to revolutionise TV\\n\\nBT is sta...          tech\n",
       "1973  Chip maker backs net phone calls\\n\\nRich Templ...          tech\n",
       "1974  Nintendo DS makes its Euro debut\\n\\nNintendo's...          tech\n",
       "\n",
       "[1975 rows x 2 columns]"
      ]
     },
     "execution_count": 5,
     "metadata": {},
     "output_type": "execute_result"
    }
   ],
   "source": [
    "train_df"
   ]
  },
  {
   "cell_type": "markdown",
   "metadata": {},
   "source": [
    "# 2- Data Cleaning and Preprocessing"
   ]
  },
  {
   "cell_type": "markdown",
   "metadata": {},
   "source": [
    "### 2.1 encoding class label"
   ]
  },
  {
   "cell_type": "code",
   "execution_count": 6,
   "metadata": {
    "scrolled": true
   },
   "outputs": [
    {
     "data": {
      "text/html": [
       "<div>\n",
       "<style scoped>\n",
       "    .dataframe tbody tr th:only-of-type {\n",
       "        vertical-align: middle;\n",
       "    }\n",
       "\n",
       "    .dataframe tbody tr th {\n",
       "        vertical-align: top;\n",
       "    }\n",
       "\n",
       "    .dataframe thead th {\n",
       "        text-align: right;\n",
       "    }\n",
       "</style>\n",
       "<table border=\"1\" class=\"dataframe\">\n",
       "  <thead>\n",
       "    <tr style=\"text-align: right;\">\n",
       "      <th></th>\n",
       "      <th>reading_passage</th>\n",
       "      <th>passage_topic</th>\n",
       "    </tr>\n",
       "  </thead>\n",
       "  <tbody>\n",
       "    <tr>\n",
       "      <th>0</th>\n",
       "      <td>Beijingers fume over parking fees\\n\\nChoking t...</td>\n",
       "      <td>0</td>\n",
       "    </tr>\n",
       "    <tr>\n",
       "      <th>1</th>\n",
       "      <td>GM issues 2005 profits warning\\n\\nGeneral Moto...</td>\n",
       "      <td>0</td>\n",
       "    </tr>\n",
       "    <tr>\n",
       "      <th>2</th>\n",
       "      <td>US economy still growing says Fed\\n\\nMost area...</td>\n",
       "      <td>0</td>\n",
       "    </tr>\n",
       "    <tr>\n",
       "      <th>3</th>\n",
       "      <td>Wall Street cool to eBay's profit\\n\\nShares in...</td>\n",
       "      <td>0</td>\n",
       "    </tr>\n",
       "    <tr>\n",
       "      <th>4</th>\n",
       "      <td>WorldCom trial starts in New York\\n\\nThe trial...</td>\n",
       "      <td>0</td>\n",
       "    </tr>\n",
       "    <tr>\n",
       "      <th>...</th>\n",
       "      <td>...</td>\n",
       "      <td>...</td>\n",
       "    </tr>\n",
       "    <tr>\n",
       "      <th>245</th>\n",
       "      <td>BT program to beat dialler scams\\n\\nBT is intr...</td>\n",
       "      <td>4</td>\n",
       "    </tr>\n",
       "    <tr>\n",
       "      <th>246</th>\n",
       "      <td>Spam e-mails tempt net shoppers\\n\\nComputer us...</td>\n",
       "      <td>4</td>\n",
       "    </tr>\n",
       "    <tr>\n",
       "      <th>247</th>\n",
       "      <td>Be careful how you code\\n\\nA new European dire...</td>\n",
       "      <td>4</td>\n",
       "    </tr>\n",
       "    <tr>\n",
       "      <th>248</th>\n",
       "      <td>US cyber security chief resigns\\n\\nThe man mak...</td>\n",
       "      <td>4</td>\n",
       "    </tr>\n",
       "    <tr>\n",
       "      <th>249</th>\n",
       "      <td>Losing yourself in online gaming\\n\\nOnline rol...</td>\n",
       "      <td>4</td>\n",
       "    </tr>\n",
       "  </tbody>\n",
       "</table>\n",
       "<p>250 rows × 2 columns</p>\n",
       "</div>"
      ],
      "text/plain": [
       "                                       reading_passage  passage_topic\n",
       "0    Beijingers fume over parking fees\\n\\nChoking t...              0\n",
       "1    GM issues 2005 profits warning\\n\\nGeneral Moto...              0\n",
       "2    US economy still growing says Fed\\n\\nMost area...              0\n",
       "3    Wall Street cool to eBay's profit\\n\\nShares in...              0\n",
       "4    WorldCom trial starts in New York\\n\\nThe trial...              0\n",
       "..                                                 ...            ...\n",
       "245  BT program to beat dialler scams\\n\\nBT is intr...              4\n",
       "246  Spam e-mails tempt net shoppers\\n\\nComputer us...              4\n",
       "247  Be careful how you code\\n\\nA new European dire...              4\n",
       "248  US cyber security chief resigns\\n\\nThe man mak...              4\n",
       "249  Losing yourself in online gaming\\n\\nOnline rol...              4\n",
       "\n",
       "[250 rows x 2 columns]"
      ]
     },
     "execution_count": 6,
     "metadata": {},
     "output_type": "execute_result"
    }
   ],
   "source": [
    "def encode_class(df, label):\n",
    "    class_mappings = {'business':0, 'entertainment': 1, 'politics': 2, 'sport': 3, 'tech': 4}\n",
    "    df[label] = df[label].map(class_mappings)\n",
    "    return df\n",
    "\n",
    "train_df = encode_class(train_df, 'passage_topic')\n",
    "test_df = encode_class(test_df, 'passage_topic')\n",
    "test_df"
   ]
  },
  {
   "cell_type": "markdown",
   "metadata": {},
   "source": [
    "### 2.2 - text preprocessing"
   ]
  },
  {
   "cell_type": "code",
   "execution_count": 7,
   "metadata": {},
   "outputs": [],
   "source": [
    "cleaned_train_df = train_df.copy()\n",
    "cleaned_test_df = test_df.copy()\n",
    "\n",
    "main_column_transformations = ['reading_passage']"
   ]
  },
  {
   "cell_type": "markdown",
   "metadata": {},
   "source": [
    "#### 2.2.1 replacing new lines with blank spaces"
   ]
  },
  {
   "cell_type": "code",
   "execution_count": 8,
   "metadata": {
    "scrolled": true
   },
   "outputs": [
    {
     "data": {
      "text/html": [
       "<div>\n",
       "<style scoped>\n",
       "    .dataframe tbody tr th:only-of-type {\n",
       "        vertical-align: middle;\n",
       "    }\n",
       "\n",
       "    .dataframe tbody tr th {\n",
       "        vertical-align: top;\n",
       "    }\n",
       "\n",
       "    .dataframe thead th {\n",
       "        text-align: right;\n",
       "    }\n",
       "</style>\n",
       "<table border=\"1\" class=\"dataframe\">\n",
       "  <thead>\n",
       "    <tr style=\"text-align: right;\">\n",
       "      <th></th>\n",
       "      <th>reading_passage</th>\n",
       "      <th>passage_topic</th>\n",
       "      <th>no_new_line</th>\n",
       "    </tr>\n",
       "  </thead>\n",
       "  <tbody>\n",
       "    <tr>\n",
       "      <th>0</th>\n",
       "      <td>Ad sales boost Time Warner profit\\n\\nQuarterly...</td>\n",
       "      <td>0</td>\n",
       "      <td>Ad sales boost Time Warner profit  Quarterly p...</td>\n",
       "    </tr>\n",
       "    <tr>\n",
       "      <th>1</th>\n",
       "      <td>Dollar gains on Greenspan speech\\n\\nThe dollar...</td>\n",
       "      <td>0</td>\n",
       "      <td>Dollar gains on Greenspan speech  The dollar h...</td>\n",
       "    </tr>\n",
       "    <tr>\n",
       "      <th>2</th>\n",
       "      <td>Yukos unit buyer faces loan claim\\n\\nThe owner...</td>\n",
       "      <td>0</td>\n",
       "      <td>Yukos unit buyer faces loan claim  The owners ...</td>\n",
       "    </tr>\n",
       "    <tr>\n",
       "      <th>3</th>\n",
       "      <td>High fuel prices hit BA's profits\\n\\nBritish A...</td>\n",
       "      <td>0</td>\n",
       "      <td>High fuel prices hit BA's profits  British Air...</td>\n",
       "    </tr>\n",
       "    <tr>\n",
       "      <th>4</th>\n",
       "      <td>Pernod takeover talk lifts Domecq\\n\\nShares in...</td>\n",
       "      <td>0</td>\n",
       "      <td>Pernod takeover talk lifts Domecq  Shares in U...</td>\n",
       "    </tr>\n",
       "  </tbody>\n",
       "</table>\n",
       "</div>"
      ],
      "text/plain": [
       "                                     reading_passage  passage_topic  \\\n",
       "0  Ad sales boost Time Warner profit\\n\\nQuarterly...              0   \n",
       "1  Dollar gains on Greenspan speech\\n\\nThe dollar...              0   \n",
       "2  Yukos unit buyer faces loan claim\\n\\nThe owner...              0   \n",
       "3  High fuel prices hit BA's profits\\n\\nBritish A...              0   \n",
       "4  Pernod takeover talk lifts Domecq\\n\\nShares in...              0   \n",
       "\n",
       "                                         no_new_line  \n",
       "0  Ad sales boost Time Warner profit  Quarterly p...  \n",
       "1  Dollar gains on Greenspan speech  The dollar h...  \n",
       "2  Yukos unit buyer faces loan claim  The owners ...  \n",
       "3  High fuel prices hit BA's profits  British Air...  \n",
       "4  Pernod takeover talk lifts Domecq  Shares in U...  "
      ]
     },
     "execution_count": 8,
     "metadata": {},
     "output_type": "execute_result"
    }
   ],
   "source": [
    "cleaned_train_df['no_new_line'] = cleaned_train_df[main_column_transformations[-1]].apply(lambda x: x.replace('\\n', ' '))\n",
    "cleaned_test_df['no_new_line'] = cleaned_test_df[main_column_transformations[-1]].apply(lambda x: x.replace('\\n', ' '))\n",
    "main_column_transformations.append('no_new_line')\n",
    "cleaned_train_df.head()"
   ]
  },
  {
   "cell_type": "markdown",
   "metadata": {},
   "source": [
    "#### 2.2.2 removing punctuation"
   ]
  },
  {
   "cell_type": "markdown",
   "metadata": {},
   "source": [
    "we found that removing punctuation reduced the accuracy score of the model, which indicates possible information loss, so we're not going to remove punctuation words"
   ]
  },
  {
   "cell_type": "code",
   "execution_count": 9,
   "metadata": {
    "scrolled": true
   },
   "outputs": [],
   "source": [
    "# import string\n",
    "\n",
    "# def remove_punctuation(text):\n",
    "#     punctuationfree=\"\".join([i for i in text if i not in string.punctuation])\n",
    "#     return punctuationfree\n",
    "\n",
    "# cleaned_train_df['no_punctuation']= cleaned_train_df[main_column_transformations[-1]].apply(lambda x:remove_punctuation(x))\n",
    "# cleaned_test_df['no_punctuation']= cleaned_test_df[main_column_transformations[-1]].apply(lambda x:remove_punctuation(x))\n",
    "# main_column_transformations.append('no_punctuation')\n",
    "# cleaned_train_df.head()"
   ]
  },
  {
   "cell_type": "markdown",
   "metadata": {},
   "source": [
    "#### 2.2.3 converting to lower case"
   ]
  },
  {
   "cell_type": "code",
   "execution_count": 10,
   "metadata": {
    "scrolled": true
   },
   "outputs": [
    {
     "data": {
      "text/html": [
       "<div>\n",
       "<style scoped>\n",
       "    .dataframe tbody tr th:only-of-type {\n",
       "        vertical-align: middle;\n",
       "    }\n",
       "\n",
       "    .dataframe tbody tr th {\n",
       "        vertical-align: top;\n",
       "    }\n",
       "\n",
       "    .dataframe thead th {\n",
       "        text-align: right;\n",
       "    }\n",
       "</style>\n",
       "<table border=\"1\" class=\"dataframe\">\n",
       "  <thead>\n",
       "    <tr style=\"text-align: right;\">\n",
       "      <th></th>\n",
       "      <th>reading_passage</th>\n",
       "      <th>passage_topic</th>\n",
       "      <th>no_new_line</th>\n",
       "      <th>lower_case</th>\n",
       "    </tr>\n",
       "  </thead>\n",
       "  <tbody>\n",
       "    <tr>\n",
       "      <th>0</th>\n",
       "      <td>Ad sales boost Time Warner profit\\n\\nQuarterly...</td>\n",
       "      <td>0</td>\n",
       "      <td>Ad sales boost Time Warner profit  Quarterly p...</td>\n",
       "      <td>ad sales boost time warner profit  quarterly p...</td>\n",
       "    </tr>\n",
       "    <tr>\n",
       "      <th>1</th>\n",
       "      <td>Dollar gains on Greenspan speech\\n\\nThe dollar...</td>\n",
       "      <td>0</td>\n",
       "      <td>Dollar gains on Greenspan speech  The dollar h...</td>\n",
       "      <td>dollar gains on greenspan speech  the dollar h...</td>\n",
       "    </tr>\n",
       "    <tr>\n",
       "      <th>2</th>\n",
       "      <td>Yukos unit buyer faces loan claim\\n\\nThe owner...</td>\n",
       "      <td>0</td>\n",
       "      <td>Yukos unit buyer faces loan claim  The owners ...</td>\n",
       "      <td>yukos unit buyer faces loan claim  the owners ...</td>\n",
       "    </tr>\n",
       "    <tr>\n",
       "      <th>3</th>\n",
       "      <td>High fuel prices hit BA's profits\\n\\nBritish A...</td>\n",
       "      <td>0</td>\n",
       "      <td>High fuel prices hit BA's profits  British Air...</td>\n",
       "      <td>high fuel prices hit ba's profits  british air...</td>\n",
       "    </tr>\n",
       "    <tr>\n",
       "      <th>4</th>\n",
       "      <td>Pernod takeover talk lifts Domecq\\n\\nShares in...</td>\n",
       "      <td>0</td>\n",
       "      <td>Pernod takeover talk lifts Domecq  Shares in U...</td>\n",
       "      <td>pernod takeover talk lifts domecq  shares in u...</td>\n",
       "    </tr>\n",
       "  </tbody>\n",
       "</table>\n",
       "</div>"
      ],
      "text/plain": [
       "                                     reading_passage  passage_topic  \\\n",
       "0  Ad sales boost Time Warner profit\\n\\nQuarterly...              0   \n",
       "1  Dollar gains on Greenspan speech\\n\\nThe dollar...              0   \n",
       "2  Yukos unit buyer faces loan claim\\n\\nThe owner...              0   \n",
       "3  High fuel prices hit BA's profits\\n\\nBritish A...              0   \n",
       "4  Pernod takeover talk lifts Domecq\\n\\nShares in...              0   \n",
       "\n",
       "                                         no_new_line  \\\n",
       "0  Ad sales boost Time Warner profit  Quarterly p...   \n",
       "1  Dollar gains on Greenspan speech  The dollar h...   \n",
       "2  Yukos unit buyer faces loan claim  The owners ...   \n",
       "3  High fuel prices hit BA's profits  British Air...   \n",
       "4  Pernod takeover talk lifts Domecq  Shares in U...   \n",
       "\n",
       "                                          lower_case  \n",
       "0  ad sales boost time warner profit  quarterly p...  \n",
       "1  dollar gains on greenspan speech  the dollar h...  \n",
       "2  yukos unit buyer faces loan claim  the owners ...  \n",
       "3  high fuel prices hit ba's profits  british air...  \n",
       "4  pernod takeover talk lifts domecq  shares in u...  "
      ]
     },
     "execution_count": 10,
     "metadata": {},
     "output_type": "execute_result"
    }
   ],
   "source": [
    "cleaned_train_df['lower_case']= cleaned_train_df[main_column_transformations[-1]].apply(lambda x: x.lower())\n",
    "cleaned_test_df['lower_case']= cleaned_test_df[main_column_transformations[-1]].apply(lambda x: x.lower())\n",
    "main_column_transformations.append('lower_case')\n",
    "cleaned_train_df.head()"
   ]
  },
  {
   "cell_type": "markdown",
   "metadata": {},
   "source": [
    "#### 2.2.4 tokenization"
   ]
  },
  {
   "cell_type": "code",
   "execution_count": 11,
   "metadata": {
    "scrolled": true
   },
   "outputs": [
    {
     "data": {
      "text/html": [
       "<div>\n",
       "<style scoped>\n",
       "    .dataframe tbody tr th:only-of-type {\n",
       "        vertical-align: middle;\n",
       "    }\n",
       "\n",
       "    .dataframe tbody tr th {\n",
       "        vertical-align: top;\n",
       "    }\n",
       "\n",
       "    .dataframe thead th {\n",
       "        text-align: right;\n",
       "    }\n",
       "</style>\n",
       "<table border=\"1\" class=\"dataframe\">\n",
       "  <thead>\n",
       "    <tr style=\"text-align: right;\">\n",
       "      <th></th>\n",
       "      <th>reading_passage</th>\n",
       "      <th>passage_topic</th>\n",
       "      <th>no_new_line</th>\n",
       "      <th>lower_case</th>\n",
       "      <th>tokenization</th>\n",
       "    </tr>\n",
       "  </thead>\n",
       "  <tbody>\n",
       "    <tr>\n",
       "      <th>0</th>\n",
       "      <td>Ad sales boost Time Warner profit\\n\\nQuarterly...</td>\n",
       "      <td>0</td>\n",
       "      <td>Ad sales boost Time Warner profit  Quarterly p...</td>\n",
       "      <td>ad sales boost time warner profit  quarterly p...</td>\n",
       "      <td>[ad sales boost time warner profit  quarterly ...</td>\n",
       "    </tr>\n",
       "    <tr>\n",
       "      <th>1</th>\n",
       "      <td>Dollar gains on Greenspan speech\\n\\nThe dollar...</td>\n",
       "      <td>0</td>\n",
       "      <td>Dollar gains on Greenspan speech  The dollar h...</td>\n",
       "      <td>dollar gains on greenspan speech  the dollar h...</td>\n",
       "      <td>[dollar gains on greenspan speech  the dollar ...</td>\n",
       "    </tr>\n",
       "    <tr>\n",
       "      <th>2</th>\n",
       "      <td>Yukos unit buyer faces loan claim\\n\\nThe owner...</td>\n",
       "      <td>0</td>\n",
       "      <td>Yukos unit buyer faces loan claim  The owners ...</td>\n",
       "      <td>yukos unit buyer faces loan claim  the owners ...</td>\n",
       "      <td>[yukos unit buyer faces loan claim  the owners...</td>\n",
       "    </tr>\n",
       "    <tr>\n",
       "      <th>3</th>\n",
       "      <td>High fuel prices hit BA's profits\\n\\nBritish A...</td>\n",
       "      <td>0</td>\n",
       "      <td>High fuel prices hit BA's profits  British Air...</td>\n",
       "      <td>high fuel prices hit ba's profits  british air...</td>\n",
       "      <td>[high fuel prices hit ba's profits  british ai...</td>\n",
       "    </tr>\n",
       "    <tr>\n",
       "      <th>4</th>\n",
       "      <td>Pernod takeover talk lifts Domecq\\n\\nShares in...</td>\n",
       "      <td>0</td>\n",
       "      <td>Pernod takeover talk lifts Domecq  Shares in U...</td>\n",
       "      <td>pernod takeover talk lifts domecq  shares in u...</td>\n",
       "      <td>[pernod takeover talk lifts domecq  shares in ...</td>\n",
       "    </tr>\n",
       "  </tbody>\n",
       "</table>\n",
       "</div>"
      ],
      "text/plain": [
       "                                     reading_passage  passage_topic  \\\n",
       "0  Ad sales boost Time Warner profit\\n\\nQuarterly...              0   \n",
       "1  Dollar gains on Greenspan speech\\n\\nThe dollar...              0   \n",
       "2  Yukos unit buyer faces loan claim\\n\\nThe owner...              0   \n",
       "3  High fuel prices hit BA's profits\\n\\nBritish A...              0   \n",
       "4  Pernod takeover talk lifts Domecq\\n\\nShares in...              0   \n",
       "\n",
       "                                         no_new_line  \\\n",
       "0  Ad sales boost Time Warner profit  Quarterly p...   \n",
       "1  Dollar gains on Greenspan speech  The dollar h...   \n",
       "2  Yukos unit buyer faces loan claim  The owners ...   \n",
       "3  High fuel prices hit BA's profits  British Air...   \n",
       "4  Pernod takeover talk lifts Domecq  Shares in U...   \n",
       "\n",
       "                                          lower_case  \\\n",
       "0  ad sales boost time warner profit  quarterly p...   \n",
       "1  dollar gains on greenspan speech  the dollar h...   \n",
       "2  yukos unit buyer faces loan claim  the owners ...   \n",
       "3  high fuel prices hit ba's profits  british air...   \n",
       "4  pernod takeover talk lifts domecq  shares in u...   \n",
       "\n",
       "                                        tokenization  \n",
       "0  [ad sales boost time warner profit  quarterly ...  \n",
       "1  [dollar gains on greenspan speech  the dollar ...  \n",
       "2  [yukos unit buyer faces loan claim  the owners...  \n",
       "3  [high fuel prices hit ba's profits  british ai...  \n",
       "4  [pernod takeover talk lifts domecq  shares in ...  "
      ]
     },
     "execution_count": 11,
     "metadata": {},
     "output_type": "execute_result"
    }
   ],
   "source": [
    "import re\n",
    "\n",
    "def tokenization(text):\n",
    "    tokens = re.split('W+',text)\n",
    "    return tokens\n",
    "\n",
    "cleaned_train_df['tokenization']= cleaned_train_df[main_column_transformations[-1]].apply(lambda x: tokenization(x))\n",
    "cleaned_test_df['tokenization']= cleaned_test_df[main_column_transformations[-1]].apply(lambda x: tokenization(x))\n",
    "main_column_transformations.append('tokenization')\n",
    "cleaned_train_df.head()"
   ]
  },
  {
   "cell_type": "markdown",
   "metadata": {},
   "source": [
    "#### 2.2.5 removing stopwords"
   ]
  },
  {
   "cell_type": "code",
   "execution_count": 12,
   "metadata": {},
   "outputs": [
    {
     "data": {
      "text/html": [
       "<div>\n",
       "<style scoped>\n",
       "    .dataframe tbody tr th:only-of-type {\n",
       "        vertical-align: middle;\n",
       "    }\n",
       "\n",
       "    .dataframe tbody tr th {\n",
       "        vertical-align: top;\n",
       "    }\n",
       "\n",
       "    .dataframe thead th {\n",
       "        text-align: right;\n",
       "    }\n",
       "</style>\n",
       "<table border=\"1\" class=\"dataframe\">\n",
       "  <thead>\n",
       "    <tr style=\"text-align: right;\">\n",
       "      <th></th>\n",
       "      <th>reading_passage</th>\n",
       "      <th>passage_topic</th>\n",
       "      <th>no_new_line</th>\n",
       "      <th>lower_case</th>\n",
       "      <th>tokenization</th>\n",
       "      <th>no_stopwords</th>\n",
       "    </tr>\n",
       "  </thead>\n",
       "  <tbody>\n",
       "    <tr>\n",
       "      <th>0</th>\n",
       "      <td>Ad sales boost Time Warner profit\\n\\nQuarterly...</td>\n",
       "      <td>0</td>\n",
       "      <td>Ad sales boost Time Warner profit  Quarterly p...</td>\n",
       "      <td>ad sales boost time warner profit  quarterly p...</td>\n",
       "      <td>[ad sales boost time warner profit  quarterly ...</td>\n",
       "      <td>[ad sales boost time warner profit  quarterly ...</td>\n",
       "    </tr>\n",
       "    <tr>\n",
       "      <th>1</th>\n",
       "      <td>Dollar gains on Greenspan speech\\n\\nThe dollar...</td>\n",
       "      <td>0</td>\n",
       "      <td>Dollar gains on Greenspan speech  The dollar h...</td>\n",
       "      <td>dollar gains on greenspan speech  the dollar h...</td>\n",
       "      <td>[dollar gains on greenspan speech  the dollar ...</td>\n",
       "      <td>[dollar gains on greenspan speech  the dollar ...</td>\n",
       "    </tr>\n",
       "    <tr>\n",
       "      <th>2</th>\n",
       "      <td>Yukos unit buyer faces loan claim\\n\\nThe owner...</td>\n",
       "      <td>0</td>\n",
       "      <td>Yukos unit buyer faces loan claim  The owners ...</td>\n",
       "      <td>yukos unit buyer faces loan claim  the owners ...</td>\n",
       "      <td>[yukos unit buyer faces loan claim  the owners...</td>\n",
       "      <td>[yukos unit buyer faces loan claim  the owners...</td>\n",
       "    </tr>\n",
       "    <tr>\n",
       "      <th>3</th>\n",
       "      <td>High fuel prices hit BA's profits\\n\\nBritish A...</td>\n",
       "      <td>0</td>\n",
       "      <td>High fuel prices hit BA's profits  British Air...</td>\n",
       "      <td>high fuel prices hit ba's profits  british air...</td>\n",
       "      <td>[high fuel prices hit ba's profits  british ai...</td>\n",
       "      <td>[high fuel prices hit ba's profits  british ai...</td>\n",
       "    </tr>\n",
       "    <tr>\n",
       "      <th>4</th>\n",
       "      <td>Pernod takeover talk lifts Domecq\\n\\nShares in...</td>\n",
       "      <td>0</td>\n",
       "      <td>Pernod takeover talk lifts Domecq  Shares in U...</td>\n",
       "      <td>pernod takeover talk lifts domecq  shares in u...</td>\n",
       "      <td>[pernod takeover talk lifts domecq  shares in ...</td>\n",
       "      <td>[pernod takeover talk lifts domecq  shares in ...</td>\n",
       "    </tr>\n",
       "  </tbody>\n",
       "</table>\n",
       "</div>"
      ],
      "text/plain": [
       "                                     reading_passage  passage_topic  \\\n",
       "0  Ad sales boost Time Warner profit\\n\\nQuarterly...              0   \n",
       "1  Dollar gains on Greenspan speech\\n\\nThe dollar...              0   \n",
       "2  Yukos unit buyer faces loan claim\\n\\nThe owner...              0   \n",
       "3  High fuel prices hit BA's profits\\n\\nBritish A...              0   \n",
       "4  Pernod takeover talk lifts Domecq\\n\\nShares in...              0   \n",
       "\n",
       "                                         no_new_line  \\\n",
       "0  Ad sales boost Time Warner profit  Quarterly p...   \n",
       "1  Dollar gains on Greenspan speech  The dollar h...   \n",
       "2  Yukos unit buyer faces loan claim  The owners ...   \n",
       "3  High fuel prices hit BA's profits  British Air...   \n",
       "4  Pernod takeover talk lifts Domecq  Shares in U...   \n",
       "\n",
       "                                          lower_case  \\\n",
       "0  ad sales boost time warner profit  quarterly p...   \n",
       "1  dollar gains on greenspan speech  the dollar h...   \n",
       "2  yukos unit buyer faces loan claim  the owners ...   \n",
       "3  high fuel prices hit ba's profits  british air...   \n",
       "4  pernod takeover talk lifts domecq  shares in u...   \n",
       "\n",
       "                                        tokenization  \\\n",
       "0  [ad sales boost time warner profit  quarterly ...   \n",
       "1  [dollar gains on greenspan speech  the dollar ...   \n",
       "2  [yukos unit buyer faces loan claim  the owners...   \n",
       "3  [high fuel prices hit ba's profits  british ai...   \n",
       "4  [pernod takeover talk lifts domecq  shares in ...   \n",
       "\n",
       "                                        no_stopwords  \n",
       "0  [ad sales boost time warner profit  quarterly ...  \n",
       "1  [dollar gains on greenspan speech  the dollar ...  \n",
       "2  [yukos unit buyer faces loan claim  the owners...  \n",
       "3  [high fuel prices hit ba's profits  british ai...  \n",
       "4  [pernod takeover talk lifts domecq  shares in ...  "
      ]
     },
     "execution_count": 12,
     "metadata": {},
     "output_type": "execute_result"
    }
   ],
   "source": [
    "import nltk\n",
    "\n",
    "stopwords = nltk.corpus.stopwords.words('english')\n",
    "def remove_stopwords(text):\n",
    "    output= [i for i in text if i not in stopwords]\n",
    "    return output\n",
    "\n",
    "cleaned_train_df['no_stopwords']= cleaned_train_df[main_column_transformations[-1]].apply(lambda x:remove_stopwords(x))\n",
    "cleaned_test_df['no_stopwords']= cleaned_test_df[main_column_transformations[-1]].apply(lambda x:remove_stopwords(x))\n",
    "main_column_transformations.append('no_stopwords')\n",
    "cleaned_train_df.head()"
   ]
  },
  {
   "cell_type": "markdown",
   "metadata": {},
   "source": [
    "#### 2.2.6 lemmentization"
   ]
  },
  {
   "cell_type": "code",
   "execution_count": 13,
   "metadata": {
    "scrolled": true
   },
   "outputs": [
    {
     "name": "stderr",
     "output_type": "stream",
     "text": [
      "[nltk_data] Downloading package wordnet to\n",
      "[nltk_data]     C:\\Users\\modaj\\AppData\\Roaming\\nltk_data...\n",
      "[nltk_data]   Package wordnet is already up-to-date!\n",
      "[nltk_data] Downloading package omw-1.4 to\n",
      "[nltk_data]     C:\\Users\\modaj\\AppData\\Roaming\\nltk_data...\n",
      "[nltk_data]   Package omw-1.4 is already up-to-date!\n"
     ]
    },
    {
     "data": {
      "text/html": [
       "<div>\n",
       "<style scoped>\n",
       "    .dataframe tbody tr th:only-of-type {\n",
       "        vertical-align: middle;\n",
       "    }\n",
       "\n",
       "    .dataframe tbody tr th {\n",
       "        vertical-align: top;\n",
       "    }\n",
       "\n",
       "    .dataframe thead th {\n",
       "        text-align: right;\n",
       "    }\n",
       "</style>\n",
       "<table border=\"1\" class=\"dataframe\">\n",
       "  <thead>\n",
       "    <tr style=\"text-align: right;\">\n",
       "      <th></th>\n",
       "      <th>reading_passage</th>\n",
       "      <th>passage_topic</th>\n",
       "      <th>no_new_line</th>\n",
       "      <th>lower_case</th>\n",
       "      <th>tokenization</th>\n",
       "      <th>no_stopwords</th>\n",
       "      <th>lemmentization</th>\n",
       "    </tr>\n",
       "  </thead>\n",
       "  <tbody>\n",
       "    <tr>\n",
       "      <th>0</th>\n",
       "      <td>Ad sales boost Time Warner profit\\n\\nQuarterly...</td>\n",
       "      <td>0</td>\n",
       "      <td>Ad sales boost Time Warner profit  Quarterly p...</td>\n",
       "      <td>ad sales boost time warner profit  quarterly p...</td>\n",
       "      <td>[ad sales boost time warner profit  quarterly ...</td>\n",
       "      <td>[ad sales boost time warner profit  quarterly ...</td>\n",
       "      <td>[ad sales boost time warner profit  quarterly ...</td>\n",
       "    </tr>\n",
       "    <tr>\n",
       "      <th>1</th>\n",
       "      <td>Dollar gains on Greenspan speech\\n\\nThe dollar...</td>\n",
       "      <td>0</td>\n",
       "      <td>Dollar gains on Greenspan speech  The dollar h...</td>\n",
       "      <td>dollar gains on greenspan speech  the dollar h...</td>\n",
       "      <td>[dollar gains on greenspan speech  the dollar ...</td>\n",
       "      <td>[dollar gains on greenspan speech  the dollar ...</td>\n",
       "      <td>[dollar gains on greenspan speech  the dollar ...</td>\n",
       "    </tr>\n",
       "    <tr>\n",
       "      <th>2</th>\n",
       "      <td>Yukos unit buyer faces loan claim\\n\\nThe owner...</td>\n",
       "      <td>0</td>\n",
       "      <td>Yukos unit buyer faces loan claim  The owners ...</td>\n",
       "      <td>yukos unit buyer faces loan claim  the owners ...</td>\n",
       "      <td>[yukos unit buyer faces loan claim  the owners...</td>\n",
       "      <td>[yukos unit buyer faces loan claim  the owners...</td>\n",
       "      <td>[yukos unit buyer faces loan claim  the owners...</td>\n",
       "    </tr>\n",
       "    <tr>\n",
       "      <th>3</th>\n",
       "      <td>High fuel prices hit BA's profits\\n\\nBritish A...</td>\n",
       "      <td>0</td>\n",
       "      <td>High fuel prices hit BA's profits  British Air...</td>\n",
       "      <td>high fuel prices hit ba's profits  british air...</td>\n",
       "      <td>[high fuel prices hit ba's profits  british ai...</td>\n",
       "      <td>[high fuel prices hit ba's profits  british ai...</td>\n",
       "      <td>[high fuel prices hit ba's profits  british ai...</td>\n",
       "    </tr>\n",
       "    <tr>\n",
       "      <th>4</th>\n",
       "      <td>Pernod takeover talk lifts Domecq\\n\\nShares in...</td>\n",
       "      <td>0</td>\n",
       "      <td>Pernod takeover talk lifts Domecq  Shares in U...</td>\n",
       "      <td>pernod takeover talk lifts domecq  shares in u...</td>\n",
       "      <td>[pernod takeover talk lifts domecq  shares in ...</td>\n",
       "      <td>[pernod takeover talk lifts domecq  shares in ...</td>\n",
       "      <td>[pernod takeover talk lifts domecq  shares in ...</td>\n",
       "    </tr>\n",
       "  </tbody>\n",
       "</table>\n",
       "</div>"
      ],
      "text/plain": [
       "                                     reading_passage  passage_topic  \\\n",
       "0  Ad sales boost Time Warner profit\\n\\nQuarterly...              0   \n",
       "1  Dollar gains on Greenspan speech\\n\\nThe dollar...              0   \n",
       "2  Yukos unit buyer faces loan claim\\n\\nThe owner...              0   \n",
       "3  High fuel prices hit BA's profits\\n\\nBritish A...              0   \n",
       "4  Pernod takeover talk lifts Domecq\\n\\nShares in...              0   \n",
       "\n",
       "                                         no_new_line  \\\n",
       "0  Ad sales boost Time Warner profit  Quarterly p...   \n",
       "1  Dollar gains on Greenspan speech  The dollar h...   \n",
       "2  Yukos unit buyer faces loan claim  The owners ...   \n",
       "3  High fuel prices hit BA's profits  British Air...   \n",
       "4  Pernod takeover talk lifts Domecq  Shares in U...   \n",
       "\n",
       "                                          lower_case  \\\n",
       "0  ad sales boost time warner profit  quarterly p...   \n",
       "1  dollar gains on greenspan speech  the dollar h...   \n",
       "2  yukos unit buyer faces loan claim  the owners ...   \n",
       "3  high fuel prices hit ba's profits  british air...   \n",
       "4  pernod takeover talk lifts domecq  shares in u...   \n",
       "\n",
       "                                        tokenization  \\\n",
       "0  [ad sales boost time warner profit  quarterly ...   \n",
       "1  [dollar gains on greenspan speech  the dollar ...   \n",
       "2  [yukos unit buyer faces loan claim  the owners...   \n",
       "3  [high fuel prices hit ba's profits  british ai...   \n",
       "4  [pernod takeover talk lifts domecq  shares in ...   \n",
       "\n",
       "                                        no_stopwords  \\\n",
       "0  [ad sales boost time warner profit  quarterly ...   \n",
       "1  [dollar gains on greenspan speech  the dollar ...   \n",
       "2  [yukos unit buyer faces loan claim  the owners...   \n",
       "3  [high fuel prices hit ba's profits  british ai...   \n",
       "4  [pernod takeover talk lifts domecq  shares in ...   \n",
       "\n",
       "                                      lemmentization  \n",
       "0  [ad sales boost time warner profit  quarterly ...  \n",
       "1  [dollar gains on greenspan speech  the dollar ...  \n",
       "2  [yukos unit buyer faces loan claim  the owners...  \n",
       "3  [high fuel prices hit ba's profits  british ai...  \n",
       "4  [pernod takeover talk lifts domecq  shares in ...  "
      ]
     },
     "execution_count": 13,
     "metadata": {},
     "output_type": "execute_result"
    }
   ],
   "source": [
    "from nltk.stem import WordNetLemmatizer\n",
    "nltk.download('wordnet')\n",
    "nltk.download('omw-1.4')\n",
    "\n",
    "wordnet_lemmatizer = WordNetLemmatizer()\n",
    "def lemmatizer(text):\n",
    "    lemm_text = [wordnet_lemmatizer.lemmatize(word) for word in text]\n",
    "    return lemm_text\n",
    "cleaned_train_df['lemmentization'] = cleaned_train_df[main_column_transformations[-1]].apply(lambda x:lemmatizer(x))\n",
    "cleaned_test_df['lemmentization'] = cleaned_test_df[main_column_transformations[-1]].apply(lambda x:lemmatizer(x))\n",
    "main_column_transformations.append('lemmentization')\n",
    "cleaned_train_df.head()"
   ]
  },
  {
   "cell_type": "code",
   "execution_count": 14,
   "metadata": {},
   "outputs": [
    {
     "data": {
      "text/plain": [
       "['reading_passage',\n",
       " 'no_new_line',\n",
       " 'lower_case',\n",
       " 'tokenization',\n",
       " 'no_stopwords',\n",
       " 'lemmentization']"
      ]
     },
     "execution_count": 14,
     "metadata": {},
     "output_type": "execute_result"
    }
   ],
   "source": [
    "main_column_transformations"
   ]
  },
  {
   "cell_type": "markdown",
   "metadata": {},
   "source": [
    "#### stemming (not required)"
   ]
  },
  {
   "cell_type": "markdown",
   "metadata": {},
   "source": [
    "the problem with stemming is that it stems the words such that its root form loses the meaning or it is not diminished to a proper English word. so we used lemmentization instead"
   ]
  },
  {
   "cell_type": "code",
   "execution_count": 15,
   "metadata": {},
   "outputs": [],
   "source": [
    "# from nltk.stem.porter import PorterStemmer\n",
    "\n",
    "# porter_stemmer = PorterStemmer()\n",
    "# def stemming(text):\n",
    "#     stem_text = [porter_stemmer.stem(word) for word in text]\n",
    "#     return stem_text\n",
    "# cleaned_train_df['reading_passage'] = cleaned_train_df['reading_passage'].apply(lambda x: stemming(x))\n",
    "# cleaned_test_df['reading_passage'] = cleaned_test_df['reading_passage'].apply(lambda x: stemming(x))\n",
    "# cleaned_train_df.head()"
   ]
  },
  {
   "cell_type": "markdown",
   "metadata": {},
   "source": [
    "#### 2.2.7 join tokens into a string"
   ]
  },
  {
   "cell_type": "code",
   "execution_count": 16,
   "metadata": {},
   "outputs": [
    {
     "data": {
      "text/html": [
       "<div>\n",
       "<style scoped>\n",
       "    .dataframe tbody tr th:only-of-type {\n",
       "        vertical-align: middle;\n",
       "    }\n",
       "\n",
       "    .dataframe tbody tr th {\n",
       "        vertical-align: top;\n",
       "    }\n",
       "\n",
       "    .dataframe thead th {\n",
       "        text-align: right;\n",
       "    }\n",
       "</style>\n",
       "<table border=\"1\" class=\"dataframe\">\n",
       "  <thead>\n",
       "    <tr style=\"text-align: right;\">\n",
       "      <th></th>\n",
       "      <th>reading_passage</th>\n",
       "      <th>passage_topic</th>\n",
       "      <th>no_new_line</th>\n",
       "      <th>lower_case</th>\n",
       "      <th>tokenization</th>\n",
       "      <th>no_stopwords</th>\n",
       "      <th>lemmentization</th>\n",
       "    </tr>\n",
       "  </thead>\n",
       "  <tbody>\n",
       "    <tr>\n",
       "      <th>0</th>\n",
       "      <td>Ad sales boost Time Warner profit\\n\\nQuarterly...</td>\n",
       "      <td>0</td>\n",
       "      <td>Ad sales boost Time Warner profit  Quarterly p...</td>\n",
       "      <td>ad sales boost time warner profit  quarterly p...</td>\n",
       "      <td>ad sales boost time warner profit  quarterly p...</td>\n",
       "      <td>ad sales boost time warner profit  quarterly p...</td>\n",
       "      <td>ad sales boost time warner profit  quarterly p...</td>\n",
       "    </tr>\n",
       "    <tr>\n",
       "      <th>1</th>\n",
       "      <td>Dollar gains on Greenspan speech\\n\\nThe dollar...</td>\n",
       "      <td>0</td>\n",
       "      <td>Dollar gains on Greenspan speech  The dollar h...</td>\n",
       "      <td>dollar gains on greenspan speech  the dollar h...</td>\n",
       "      <td>dollar gains on greenspan speech  the dollar h...</td>\n",
       "      <td>dollar gains on greenspan speech  the dollar h...</td>\n",
       "      <td>dollar gains on greenspan speech  the dollar h...</td>\n",
       "    </tr>\n",
       "    <tr>\n",
       "      <th>2</th>\n",
       "      <td>Yukos unit buyer faces loan claim\\n\\nThe owner...</td>\n",
       "      <td>0</td>\n",
       "      <td>Yukos unit buyer faces loan claim  The owners ...</td>\n",
       "      <td>yukos unit buyer faces loan claim  the owners ...</td>\n",
       "      <td>yukos unit buyer faces loan claim  the owners ...</td>\n",
       "      <td>yukos unit buyer faces loan claim  the owners ...</td>\n",
       "      <td>yukos unit buyer faces loan claim  the owners ...</td>\n",
       "    </tr>\n",
       "    <tr>\n",
       "      <th>3</th>\n",
       "      <td>High fuel prices hit BA's profits\\n\\nBritish A...</td>\n",
       "      <td>0</td>\n",
       "      <td>High fuel prices hit BA's profits  British Air...</td>\n",
       "      <td>high fuel prices hit ba's profits  british air...</td>\n",
       "      <td>high fuel prices hit ba's profits  british air...</td>\n",
       "      <td>high fuel prices hit ba's profits  british air...</td>\n",
       "      <td>high fuel prices hit ba's profits  british air...</td>\n",
       "    </tr>\n",
       "    <tr>\n",
       "      <th>4</th>\n",
       "      <td>Pernod takeover talk lifts Domecq\\n\\nShares in...</td>\n",
       "      <td>0</td>\n",
       "      <td>Pernod takeover talk lifts Domecq  Shares in U...</td>\n",
       "      <td>pernod takeover talk lifts domecq  shares in u...</td>\n",
       "      <td>pernod takeover talk lifts domecq  shares in u...</td>\n",
       "      <td>pernod takeover talk lifts domecq  shares in u...</td>\n",
       "      <td>pernod takeover talk lifts domecq  shares in u...</td>\n",
       "    </tr>\n",
       "  </tbody>\n",
       "</table>\n",
       "</div>"
      ],
      "text/plain": [
       "                                     reading_passage  passage_topic  \\\n",
       "0  Ad sales boost Time Warner profit\\n\\nQuarterly...              0   \n",
       "1  Dollar gains on Greenspan speech\\n\\nThe dollar...              0   \n",
       "2  Yukos unit buyer faces loan claim\\n\\nThe owner...              0   \n",
       "3  High fuel prices hit BA's profits\\n\\nBritish A...              0   \n",
       "4  Pernod takeover talk lifts Domecq\\n\\nShares in...              0   \n",
       "\n",
       "                                         no_new_line  \\\n",
       "0  Ad sales boost Time Warner profit  Quarterly p...   \n",
       "1  Dollar gains on Greenspan speech  The dollar h...   \n",
       "2  Yukos unit buyer faces loan claim  The owners ...   \n",
       "3  High fuel prices hit BA's profits  British Air...   \n",
       "4  Pernod takeover talk lifts Domecq  Shares in U...   \n",
       "\n",
       "                                          lower_case  \\\n",
       "0  ad sales boost time warner profit  quarterly p...   \n",
       "1  dollar gains on greenspan speech  the dollar h...   \n",
       "2  yukos unit buyer faces loan claim  the owners ...   \n",
       "3  high fuel prices hit ba's profits  british air...   \n",
       "4  pernod takeover talk lifts domecq  shares in u...   \n",
       "\n",
       "                                        tokenization  \\\n",
       "0  ad sales boost time warner profit  quarterly p...   \n",
       "1  dollar gains on greenspan speech  the dollar h...   \n",
       "2  yukos unit buyer faces loan claim  the owners ...   \n",
       "3  high fuel prices hit ba's profits  british air...   \n",
       "4  pernod takeover talk lifts domecq  shares in u...   \n",
       "\n",
       "                                        no_stopwords  \\\n",
       "0  ad sales boost time warner profit  quarterly p...   \n",
       "1  dollar gains on greenspan speech  the dollar h...   \n",
       "2  yukos unit buyer faces loan claim  the owners ...   \n",
       "3  high fuel prices hit ba's profits  british air...   \n",
       "4  pernod takeover talk lifts domecq  shares in u...   \n",
       "\n",
       "                                      lemmentization  \n",
       "0  ad sales boost time warner profit  quarterly p...  \n",
       "1  dollar gains on greenspan speech  the dollar h...  \n",
       "2  yukos unit buyer faces loan claim  the owners ...  \n",
       "3  high fuel prices hit ba's profits  british air...  \n",
       "4  pernod takeover talk lifts domecq  shares in u...  "
      ]
     },
     "execution_count": 16,
     "metadata": {},
     "output_type": "execute_result"
    }
   ],
   "source": [
    "cleaned_train_df['tokenization']= cleaned_train_df['tokenization'].apply(lambda x: ' '.join(x))\n",
    "cleaned_test_df['tokenization']= cleaned_test_df['tokenization'].apply(lambda x: ' '.join(x))\n",
    "cleaned_train_df['no_stopwords']= cleaned_train_df['no_stopwords'].apply(lambda x: ' '.join(x))\n",
    "cleaned_test_df['no_stopwords']= cleaned_test_df['no_stopwords'].apply(lambda x: ' '.join(x))\n",
    "cleaned_train_df['lemmentization']= cleaned_train_df['lemmentization'].apply(lambda x: ' '.join(x))\n",
    "cleaned_test_df['lemmentization']= cleaned_test_df['lemmentization'].apply(lambda x: ' '.join(x))\n",
    "cleaned_train_df.head()"
   ]
  },
  {
   "cell_type": "markdown",
   "metadata": {},
   "source": [
    "## 3- ML models"
   ]
  },
  {
   "cell_type": "code",
   "execution_count": 18,
   "metadata": {},
   "outputs": [],
   "source": [
    "from sklearn.linear_model import LogisticRegression\n",
    "from sklearn.tree import DecisionTreeClassifier\n",
    "from sklearn.ensemble import RandomForestClassifier\n",
    "from sklearn.neighbors import KNeighborsClassifier\n",
    "from sklearn.naive_bayes import MultinomialNB\n",
    "from xgboost import XGBClassifier \n",
    "from sklearn.svm import SVC\n",
    "\n",
    "\n",
    "from sklearn.feature_extraction.text import TfidfVectorizer\n",
    "\n",
    "\n",
    "from sklearn.metrics import log_loss\n",
    "from sklearn.metrics import accuracy_score, precision_score, recall_score, f1_score\n",
    "# from sklearn.metrics import roc_curve, auc # Area under curve\n",
    "from sklearn.metrics import roc_auc_score\n",
    "from sklearn.metrics import confusion_matrix, ConfusionMatrixDisplay"
   ]
  },
  {
   "cell_type": "code",
   "execution_count": 19,
   "metadata": {},
   "outputs": [],
   "source": [
    "# from sklearn.model_selection import StratifiedKFold  "
   ]
  },
  {
   "cell_type": "markdown",
   "metadata": {},
   "source": [
    "unfortunately, cross validation does not work well in our case, since the amount of data we have currently is not largely sizable, especially for a text classification problem. in addition to that, upon conducting model training experiments with training folds(one of the cross validation methods), a signifcant decline in perfomance score metrics was noted compared to a simpler approach with train/test split."
   ]
  },
  {
   "cell_type": "code",
   "execution_count": 31,
   "metadata": {},
   "outputs": [],
   "source": [
    "models_evaluated = []\n",
    "models_scores = {}\n",
    "models_scores['accuracy'] = []\n",
    "models_scores['precision'] = []\n",
    "models_scores['recall'] = []\n",
    "models_scores['f1_score'] = []\n",
    "models_scores['roc_auc'] = []"
   ]
  },
  {
   "cell_type": "code",
   "execution_count": 139,
   "metadata": {},
   "outputs": [],
   "source": [
    "def calc_and_store_eval_scores(model, model_name, test_features, y_test, predict_probs=True, provide_preds=[], update=False):\n",
    "    if (model_name not in models_evaluated) or (update==True):\n",
    "        if len(provide_preds) == 0:\n",
    "            preds = model.predict(test_features)\n",
    "        elif len(provide_preds) > 0:\n",
    "            preds = provide_preds\n",
    "        else: \n",
    "            print('provide_preds: invalid argument!')\n",
    "            return None\n",
    "        y = y_test\n",
    "\n",
    "        acc = np.round(accuracy_score(y, preds), 3)\n",
    "        pre = np.round(precision_score(y, preds, average='macro'), 3)\n",
    "        rec = np.round(recall_score(y, preds, average='macro'), 3)\n",
    "        f1 = np.round(f1_score(y, preds, average='macro'), 3)\n",
    "        if predict_probs:\n",
    "            preds_auc = model.predict_proba(test_features)\n",
    "            auc_score = np.round(roc_auc_score(y, preds_auc, multi_class='ovr'), 3)\n",
    "        else:\n",
    "            auc_score = None\n",
    "\n",
    "        models_scores['accuracy'].append(acc)\n",
    "        models_scores['precision'].append(pre)\n",
    "        models_scores['recall'].append(rec)\n",
    "        models_scores['f1_score'].append(f1)\n",
    "        models_scores['roc_auc'].append(auc_score)\n",
    "        models_evaluated.append(model_name)\n",
    "\n",
    "        print(f'Accuracy score for {model_name}:', acc)\n",
    "        print(f'precision score for {model_name}:', pre)\n",
    "        print(f'recall score for {model_name}:', rec)\n",
    "        print(f'f1 score for {model_name}:', f1)\n",
    "        print(f'Area under the curve ({model_name}):', auc_score)\n",
    "    else:\n",
    "        print(f\"results already stored for model: {model_name}\")\n",
    "        print()\n",
    "        i = models_evaluated.index(model_name)\n",
    "        print(f'Accuracy score for {model_name}:', models_scores['accuracy'][i])\n",
    "        print(f'precision score for {model_name}:', models_scores['precision'][i])\n",
    "        print(f'recall score for {model_name}:', models_scores['recall'][i])\n",
    "        print(f'f1 score for {model_name}:', models_scores['f1_score'][i])\n",
    "        print(f'Area under the curve ({model_name}):', models_scores['roc_auc'][i])\n",
    "        \n",
    "        "
   ]
  },
  {
   "cell_type": "markdown",
   "metadata": {},
   "source": [
    "**NOTE** since this is a multi-class problem, I've decided to account the macro average of precision, recall, auc, and f1 scores by calculating metrics for each label, and find their unweighted mean. since the default average parameter for these scores 'binary' suits only binary classification problems."
   ]
  },
  {
   "cell_type": "code",
   "execution_count": 22,
   "metadata": {},
   "outputs": [],
   "source": [
    "def encoding_to_label(label_encoding):\n",
    "    reverse_mappings = {0: 'business', 1: 'entertainment', 2: 'politics', 3: 'sport', 4: 'tech'}\n",
    "    return reverse_mappings[label_encoding]\n",
    "\n",
    "def conf_matrix(y, preds):\n",
    "    '''\n",
    "      0 -> business\n",
    "      1 -> entertainment\n",
    "      2 -> politics\n",
    "      3 -> sport\n",
    "      4 -> tech\n",
    "    '''\n",
    "    y_labeled = (test_df['passage_topic'].apply(lambda x: encoding_to_label(x)))\n",
    "    encoding_to_label_array = np.frompyfunc(encoding_to_label, 1, 1)\n",
    "    preds_labeled = encoding_to_label_array(preds)\n",
    "    y_labeled, preds_labeled\n",
    "    cm = confusion_matrix(y_labeled, preds_labeled, labels=['business', 'entertainment', 'politics', 'sport', 'tech'])\n",
    "    return cm\n",
    "\n",
    "def display_matrix(conf_result, model_name):\n",
    "    print(f' confusion matrix for model: {model_name}')\n",
    "    cm_display = ConfusionMatrixDisplay(conf_result).plot()"
   ]
  },
  {
   "cell_type": "markdown",
   "metadata": {},
   "source": [
    "#### testing whether text preprocessing resulted in information loss"
   ]
  },
  {
   "cell_type": "code",
   "execution_count": 23,
   "metadata": {},
   "outputs": [
    {
     "name": "stdout",
     "output_type": "stream",
     "text": [
      "column:  reading_passage\n",
      "Accuracy score: 0.98\n",
      "------------------------------\n",
      "\n",
      "column:  no_new_line\n",
      "Accuracy score: 0.98\n",
      "------------------------------\n",
      "\n",
      "column:  lower_case\n",
      "Accuracy score: 0.98\n",
      "------------------------------\n",
      "\n",
      "column:  tokenization\n",
      "Accuracy score: 0.98\n",
      "------------------------------\n",
      "\n",
      "column:  no_stopwords\n",
      "Accuracy score: 0.98\n",
      "------------------------------\n",
      "\n",
      "column:  lemmentization\n",
      "Accuracy score: 0.98\n",
      "------------------------------\n",
      "\n"
     ]
    }
   ],
   "source": [
    "for col in main_column_transformations:\n",
    "    print(\"column: \", col)\n",
    "    # data preprocessing\n",
    "    tfv = TfidfVectorizer(ngram_range=(1,2))\n",
    "    tr_text_feats = tfv.fit_transform(cleaned_train_df[col])\n",
    "    te_text_feats = tfv.transform(cleaned_test_df[col])\n",
    "\n",
    "    # model building and fitting\n",
    "    clf = LogisticRegression()\n",
    "    clf.fit(tr_text_feats, cleaned_train_df[\"passage_topic\"].values)\n",
    "    \n",
    "    preds = clf.predict(te_text_feats)\n",
    "    acc = accuracy_score(test_df['passage_topic'].values, preds)\n",
    "    print('Accuracy score:', acc)\n",
    "    print('-' * 30)\n",
    "    print()"
   ]
  },
  {
   "cell_type": "markdown",
   "metadata": {},
   "source": [
    "we can see that applying most of the text processing methods, no information loss was encountered as the accuracy score didn't change. so model training will be based on this processed data."
   ]
  },
  {
   "cell_type": "code",
   "execution_count": 90,
   "metadata": {
    "collapsed": true
   },
   "outputs": [
    {
     "ename": "KeyError",
     "evalue": "'lemmentization'",
     "output_type": "error",
     "traceback": [
      "\u001b[1;31m---------------------------------------------------------------------------\u001b[0m",
      "\u001b[1;31mKeyError\u001b[0m                                  Traceback (most recent call last)",
      "\u001b[1;32m~\\anaconda3\\envs\\DLdev\\lib\\site-packages\\pandas\\core\\indexes\\base.py\u001b[0m in \u001b[0;36mget_loc\u001b[1;34m(self, key, method, tolerance)\u001b[0m\n\u001b[0;32m   3360\u001b[0m             \u001b[1;32mtry\u001b[0m\u001b[1;33m:\u001b[0m\u001b[1;33m\u001b[0m\u001b[1;33m\u001b[0m\u001b[0m\n\u001b[1;32m-> 3361\u001b[1;33m                 \u001b[1;32mreturn\u001b[0m \u001b[0mself\u001b[0m\u001b[1;33m.\u001b[0m\u001b[0m_engine\u001b[0m\u001b[1;33m.\u001b[0m\u001b[0mget_loc\u001b[0m\u001b[1;33m(\u001b[0m\u001b[0mcasted_key\u001b[0m\u001b[1;33m)\u001b[0m\u001b[1;33m\u001b[0m\u001b[1;33m\u001b[0m\u001b[0m\n\u001b[0m\u001b[0;32m   3362\u001b[0m             \u001b[1;32mexcept\u001b[0m \u001b[0mKeyError\u001b[0m \u001b[1;32mas\u001b[0m \u001b[0merr\u001b[0m\u001b[1;33m:\u001b[0m\u001b[1;33m\u001b[0m\u001b[1;33m\u001b[0m\u001b[0m\n",
      "\u001b[1;32m~\\anaconda3\\envs\\DLdev\\lib\\site-packages\\pandas\\_libs\\index.pyx\u001b[0m in \u001b[0;36mpandas._libs.index.IndexEngine.get_loc\u001b[1;34m()\u001b[0m\n",
      "\u001b[1;32m~\\anaconda3\\envs\\DLdev\\lib\\site-packages\\pandas\\_libs\\index.pyx\u001b[0m in \u001b[0;36mpandas._libs.index.IndexEngine.get_loc\u001b[1;34m()\u001b[0m\n",
      "\u001b[1;32mpandas\\_libs\\hashtable_class_helper.pxi\u001b[0m in \u001b[0;36mpandas._libs.hashtable.PyObjectHashTable.get_item\u001b[1;34m()\u001b[0m\n",
      "\u001b[1;32mpandas\\_libs\\hashtable_class_helper.pxi\u001b[0m in \u001b[0;36mpandas._libs.hashtable.PyObjectHashTable.get_item\u001b[1;34m()\u001b[0m\n",
      "\u001b[1;31mKeyError\u001b[0m: 'lemmentization'",
      "\nThe above exception was the direct cause of the following exception:\n",
      "\u001b[1;31mKeyError\u001b[0m                                  Traceback (most recent call last)",
      "\u001b[1;32m~\\AppData\\Local\\Temp\\ipykernel_3300\\1956167858.py\u001b[0m in \u001b[0;36m<module>\u001b[1;34m\u001b[0m\n\u001b[0;32m      1\u001b[0m \u001b[1;31m# replace reading passages with the processed version ones\u001b[0m\u001b[1;33m\u001b[0m\u001b[1;33m\u001b[0m\u001b[1;33m\u001b[0m\u001b[0m\n\u001b[1;32m----> 2\u001b[1;33m \u001b[0mcleaned_train_df\u001b[0m\u001b[1;33m[\u001b[0m\u001b[1;34m'reading_passage'\u001b[0m\u001b[1;33m]\u001b[0m \u001b[1;33m=\u001b[0m \u001b[0mcleaned_train_df\u001b[0m\u001b[1;33m[\u001b[0m\u001b[1;34m'lemmentization'\u001b[0m\u001b[1;33m]\u001b[0m\u001b[1;33m\u001b[0m\u001b[1;33m\u001b[0m\u001b[0m\n\u001b[0m\u001b[0;32m      3\u001b[0m \u001b[0mcleaned_test_df\u001b[0m\u001b[1;33m[\u001b[0m\u001b[1;34m'reading_passage'\u001b[0m\u001b[1;33m]\u001b[0m \u001b[1;33m=\u001b[0m \u001b[0mcleaned_test_df\u001b[0m\u001b[1;33m[\u001b[0m\u001b[1;34m'lemmentization'\u001b[0m\u001b[1;33m]\u001b[0m\u001b[1;33m\u001b[0m\u001b[1;33m\u001b[0m\u001b[0m\n\u001b[0;32m      4\u001b[0m \u001b[1;33m\u001b[0m\u001b[0m\n\u001b[0;32m      5\u001b[0m \u001b[1;31m# remove rest of columns\u001b[0m\u001b[1;33m\u001b[0m\u001b[1;33m\u001b[0m\u001b[1;33m\u001b[0m\u001b[0m\n",
      "\u001b[1;32m~\\anaconda3\\envs\\DLdev\\lib\\site-packages\\pandas\\core\\frame.py\u001b[0m in \u001b[0;36m__getitem__\u001b[1;34m(self, key)\u001b[0m\n\u001b[0;32m   3456\u001b[0m             \u001b[1;32mif\u001b[0m \u001b[0mself\u001b[0m\u001b[1;33m.\u001b[0m\u001b[0mcolumns\u001b[0m\u001b[1;33m.\u001b[0m\u001b[0mnlevels\u001b[0m \u001b[1;33m>\u001b[0m \u001b[1;36m1\u001b[0m\u001b[1;33m:\u001b[0m\u001b[1;33m\u001b[0m\u001b[1;33m\u001b[0m\u001b[0m\n\u001b[0;32m   3457\u001b[0m                 \u001b[1;32mreturn\u001b[0m \u001b[0mself\u001b[0m\u001b[1;33m.\u001b[0m\u001b[0m_getitem_multilevel\u001b[0m\u001b[1;33m(\u001b[0m\u001b[0mkey\u001b[0m\u001b[1;33m)\u001b[0m\u001b[1;33m\u001b[0m\u001b[1;33m\u001b[0m\u001b[0m\n\u001b[1;32m-> 3458\u001b[1;33m             \u001b[0mindexer\u001b[0m \u001b[1;33m=\u001b[0m \u001b[0mself\u001b[0m\u001b[1;33m.\u001b[0m\u001b[0mcolumns\u001b[0m\u001b[1;33m.\u001b[0m\u001b[0mget_loc\u001b[0m\u001b[1;33m(\u001b[0m\u001b[0mkey\u001b[0m\u001b[1;33m)\u001b[0m\u001b[1;33m\u001b[0m\u001b[1;33m\u001b[0m\u001b[0m\n\u001b[0m\u001b[0;32m   3459\u001b[0m             \u001b[1;32mif\u001b[0m \u001b[0mis_integer\u001b[0m\u001b[1;33m(\u001b[0m\u001b[0mindexer\u001b[0m\u001b[1;33m)\u001b[0m\u001b[1;33m:\u001b[0m\u001b[1;33m\u001b[0m\u001b[1;33m\u001b[0m\u001b[0m\n\u001b[0;32m   3460\u001b[0m                 \u001b[0mindexer\u001b[0m \u001b[1;33m=\u001b[0m \u001b[1;33m[\u001b[0m\u001b[0mindexer\u001b[0m\u001b[1;33m]\u001b[0m\u001b[1;33m\u001b[0m\u001b[1;33m\u001b[0m\u001b[0m\n",
      "\u001b[1;32m~\\anaconda3\\envs\\DLdev\\lib\\site-packages\\pandas\\core\\indexes\\base.py\u001b[0m in \u001b[0;36mget_loc\u001b[1;34m(self, key, method, tolerance)\u001b[0m\n\u001b[0;32m   3361\u001b[0m                 \u001b[1;32mreturn\u001b[0m \u001b[0mself\u001b[0m\u001b[1;33m.\u001b[0m\u001b[0m_engine\u001b[0m\u001b[1;33m.\u001b[0m\u001b[0mget_loc\u001b[0m\u001b[1;33m(\u001b[0m\u001b[0mcasted_key\u001b[0m\u001b[1;33m)\u001b[0m\u001b[1;33m\u001b[0m\u001b[1;33m\u001b[0m\u001b[0m\n\u001b[0;32m   3362\u001b[0m             \u001b[1;32mexcept\u001b[0m \u001b[0mKeyError\u001b[0m \u001b[1;32mas\u001b[0m \u001b[0merr\u001b[0m\u001b[1;33m:\u001b[0m\u001b[1;33m\u001b[0m\u001b[1;33m\u001b[0m\u001b[0m\n\u001b[1;32m-> 3363\u001b[1;33m                 \u001b[1;32mraise\u001b[0m \u001b[0mKeyError\u001b[0m\u001b[1;33m(\u001b[0m\u001b[0mkey\u001b[0m\u001b[1;33m)\u001b[0m \u001b[1;32mfrom\u001b[0m \u001b[0merr\u001b[0m\u001b[1;33m\u001b[0m\u001b[1;33m\u001b[0m\u001b[0m\n\u001b[0m\u001b[0;32m   3364\u001b[0m \u001b[1;33m\u001b[0m\u001b[0m\n\u001b[0;32m   3365\u001b[0m         \u001b[1;32mif\u001b[0m \u001b[0mis_scalar\u001b[0m\u001b[1;33m(\u001b[0m\u001b[0mkey\u001b[0m\u001b[1;33m)\u001b[0m \u001b[1;32mand\u001b[0m \u001b[0misna\u001b[0m\u001b[1;33m(\u001b[0m\u001b[0mkey\u001b[0m\u001b[1;33m)\u001b[0m \u001b[1;32mand\u001b[0m \u001b[1;32mnot\u001b[0m \u001b[0mself\u001b[0m\u001b[1;33m.\u001b[0m\u001b[0mhasnans\u001b[0m\u001b[1;33m:\u001b[0m\u001b[1;33m\u001b[0m\u001b[1;33m\u001b[0m\u001b[0m\n",
      "\u001b[1;31mKeyError\u001b[0m: 'lemmentization'"
     ]
    }
   ],
   "source": [
    "# replace reading passages with the processed version ones\n",
    "cleaned_train_df['reading_passage'] = cleaned_train_df['lemmentization'] \n",
    "cleaned_test_df['reading_passage'] = cleaned_test_df['lemmentization'] \n",
    "\n",
    "# remove rest of columns \n",
    "cleaned_train_df = cleaned_train_df[['reading_passage', 'passage_topic']]\n",
    "cleaned_test_df = cleaned_test_df[['reading_passage', 'passage_topic']]"
   ]
  },
  {
   "cell_type": "code",
   "execution_count": 26,
   "metadata": {},
   "outputs": [],
   "source": [
    "tfv = TfidfVectorizer(ngram_range=(1,2))\n",
    "tr_text_feats = tfv.fit_transform(cleaned_train_df['reading_passage'])\n",
    "te_text_feats = tfv.transform(cleaned_test_df['reading_passage'])"
   ]
  },
  {
   "cell_type": "code",
   "execution_count": 27,
   "metadata": {},
   "outputs": [
    {
     "data": {
      "text/plain": [
       "((1975, 327357), (250, 327357), (1975,), (250,))"
      ]
     },
     "execution_count": 27,
     "metadata": {},
     "output_type": "execute_result"
    }
   ],
   "source": [
    "# Data Preparation \n",
    "X_train = tr_text_feats\n",
    "X_test = te_text_feats\n",
    "y_train = cleaned_train_df[\"passage_topic\"].values\n",
    "y_test = cleaned_test_df[\"passage_topic\"].values\n",
    "\n",
    "X_train.shape, X_test.shape, y_train.shape, y_test.shape"
   ]
  },
  {
   "cell_type": "markdown",
   "metadata": {},
   "source": [
    "### 3.1 ML model (logistic regression)"
   ]
  },
  {
   "cell_type": "code",
   "execution_count": 32,
   "metadata": {
    "scrolled": true
   },
   "outputs": [
    {
     "data": {
      "text/plain": [
       "LogisticRegression()"
      ]
     },
     "execution_count": 32,
     "metadata": {},
     "output_type": "execute_result"
    }
   ],
   "source": [
    "# model building and fitting\n",
    "lr = LogisticRegression()\n",
    "lr.fit(X_train, y_train)"
   ]
  },
  {
   "cell_type": "code",
   "execution_count": 33,
   "metadata": {},
   "outputs": [
    {
     "name": "stdout",
     "output_type": "stream",
     "text": [
      "Accuracy score for logistic_regression: 0.98\n",
      "precision score for logistic_regression: 0.98\n",
      "recall score for logistic_regression: 0.98\n",
      "f1 score for logistic_regression: 0.98\n",
      "Area under the curve (logistic_regression): 0.999\n"
     ]
    }
   ],
   "source": [
    "# storing evaluation results\n",
    "calc_and_store_eval_scores(lr, 'logistic_regression', X_test, y_test)\n",
    "preds = lr.predict(X_test)\n",
    "lr_cm = conf_matrix(y_test, preds)  "
   ]
  },
  {
   "cell_type": "markdown",
   "metadata": {},
   "source": [
    "### 3.2 ML model (decision tree)"
   ]
  },
  {
   "cell_type": "code",
   "execution_count": 34,
   "metadata": {},
   "outputs": [
    {
     "data": {
      "text/plain": [
       "DecisionTreeClassifier(random_state=0)"
      ]
     },
     "execution_count": 34,
     "metadata": {},
     "output_type": "execute_result"
    }
   ],
   "source": [
    "dt = DecisionTreeClassifier(random_state=0)\n",
    "dt.fit(X_train, y_train)"
   ]
  },
  {
   "cell_type": "code",
   "execution_count": 35,
   "metadata": {},
   "outputs": [
    {
     "name": "stdout",
     "output_type": "stream",
     "text": [
      "Accuracy score for decision_tree: 0.784\n",
      "precision score for decision_tree: 0.79\n",
      "recall score for decision_tree: 0.784\n",
      "f1 score for decision_tree: 0.784\n",
      "Area under the curve (decision_tree): 0.865\n"
     ]
    }
   ],
   "source": [
    "calc_and_store_eval_scores(dt, 'decision_tree', X_test, y_test)\n",
    "preds = dt.predict(X_test)\n",
    "dt_cm = conf_matrix(y_test, preds)  "
   ]
  },
  {
   "cell_type": "markdown",
   "metadata": {},
   "source": [
    "### 3.3 ML model (random forest)"
   ]
  },
  {
   "cell_type": "code",
   "execution_count": 36,
   "metadata": {},
   "outputs": [
    {
     "data": {
      "text/plain": [
       "RandomForestClassifier(max_depth=4, random_state=0)"
      ]
     },
     "execution_count": 36,
     "metadata": {},
     "output_type": "execute_result"
    }
   ],
   "source": [
    "rf = RandomForestClassifier(max_depth=4, random_state=0)\n",
    "rf.fit(X_train, y_train)"
   ]
  },
  {
   "cell_type": "code",
   "execution_count": 37,
   "metadata": {},
   "outputs": [
    {
     "name": "stdout",
     "output_type": "stream",
     "text": [
      "Accuracy score for random_forest: 0.78\n",
      "precision score for random_forest: 0.85\n",
      "recall score for random_forest: 0.78\n",
      "f1 score for random_forest: 0.765\n",
      "Area under the curve (random_forest): 0.992\n"
     ]
    }
   ],
   "source": [
    "calc_and_store_eval_scores(rf, 'random_forest', X_test, y_test)\n",
    "preds = rf.predict(X_test)\n",
    "rf_cm = conf_matrix(y_test, preds)  "
   ]
  },
  {
   "cell_type": "markdown",
   "metadata": {},
   "source": [
    "### 3.4 ML model (KNN)"
   ]
  },
  {
   "cell_type": "code",
   "execution_count": 38,
   "metadata": {},
   "outputs": [
    {
     "data": {
      "text/plain": [
       "KNeighborsClassifier()"
      ]
     },
     "execution_count": 38,
     "metadata": {},
     "output_type": "execute_result"
    }
   ],
   "source": [
    "knn = KNeighborsClassifier(n_neighbors=5)\n",
    "knn.fit(X_train, y_train)"
   ]
  },
  {
   "cell_type": "code",
   "execution_count": 39,
   "metadata": {},
   "outputs": [
    {
     "name": "stdout",
     "output_type": "stream",
     "text": [
      "Accuracy score for k_nearest_neighbors: 0.936\n",
      "precision score for k_nearest_neighbors: 0.944\n",
      "recall score for k_nearest_neighbors: 0.936\n",
      "f1 score for k_nearest_neighbors: 0.936\n",
      "Area under the curve (k_nearest_neighbors): 0.991\n"
     ]
    }
   ],
   "source": [
    "calc_and_store_eval_scores(knn, 'k_nearest_neighbors', X_test, y_test)\n",
    "preds = knn.predict(X_test)\n",
    "knn_cm = conf_matrix(y_test, preds) "
   ]
  },
  {
   "cell_type": "markdown",
   "metadata": {},
   "source": [
    "### 3.5 ML model (Multinomial Naive Bayes)"
   ]
  },
  {
   "cell_type": "markdown",
   "metadata": {},
   "source": [
    "using naive Bayes algorithm for **multinomially distributed** data, suited for text classification"
   ]
  },
  {
   "cell_type": "code",
   "execution_count": 40,
   "metadata": {},
   "outputs": [
    {
     "data": {
      "text/plain": [
       "MultinomialNB()"
      ]
     },
     "execution_count": 40,
     "metadata": {},
     "output_type": "execute_result"
    }
   ],
   "source": [
    "mnb = MultinomialNB()\n",
    "mnb.fit(X_train, y_train)"
   ]
  },
  {
   "cell_type": "code",
   "execution_count": 41,
   "metadata": {},
   "outputs": [
    {
     "name": "stdout",
     "output_type": "stream",
     "text": [
      "Accuracy score for multinomial_naive_bayes: 0.948\n",
      "precision score for multinomial_naive_bayes: 0.952\n",
      "recall score for multinomial_naive_bayes: 0.948\n",
      "f1 score for multinomial_naive_bayes: 0.947\n",
      "Area under the curve (multinomial_naive_bayes): 1.0\n"
     ]
    }
   ],
   "source": [
    "calc_and_store_eval_scores(mnb, 'multinomial_naive_bayes', X_test, y_test)\n",
    "preds = mnb.predict(X_test)\n",
    "mnb_cm = conf_matrix(y_test, preds) "
   ]
  },
  {
   "cell_type": "markdown",
   "metadata": {},
   "source": [
    "### 3.6 ML model (xgboost)"
   ]
  },
  {
   "cell_type": "code",
   "execution_count": 42,
   "metadata": {},
   "outputs": [
    {
     "name": "stderr",
     "output_type": "stream",
     "text": [
      "C:\\Users\\modaj\\anaconda3\\envs\\DLdev\\lib\\site-packages\\xgboost\\sklearn.py:1224: UserWarning: The use of label encoder in XGBClassifier is deprecated and will be removed in a future release. To remove this warning, do the following: 1) Pass option use_label_encoder=False when constructing XGBClassifier object; and 2) Encode your labels (y) as integers starting with 0, i.e. 0, 1, 2, ..., [num_class - 1].\n",
      "  warnings.warn(label_encoder_deprecation_msg, UserWarning)\n"
     ]
    },
    {
     "name": "stdout",
     "output_type": "stream",
     "text": [
      "[00:21:07] WARNING: D:\\bld\\xgboost-split_1645118015404\\work\\src\\learner.cc:1115: Starting in XGBoost 1.3.0, the default evaluation metric used with the objective 'multi:softprob' was changed from 'merror' to 'mlogloss'. Explicitly set eval_metric if you'd like to restore the old behavior.\n"
     ]
    },
    {
     "data": {
      "text/plain": [
       "XGBClassifier(base_score=0.5, booster='gbtree', colsample_bylevel=1,\n",
       "              colsample_bynode=1, colsample_bytree=1, enable_categorical=False,\n",
       "              gamma=0, gpu_id=-1, importance_type=None,\n",
       "              interaction_constraints='', learning_rate=0.08, max_delta_step=0,\n",
       "              max_depth=3, min_child_weight=1, missing=nan,\n",
       "              monotone_constraints='()', n_estimators=100, n_jobs=-1,\n",
       "              num_parallel_tree=1, objective='multi:softprob', predictor='auto',\n",
       "              random_state=3, reg_alpha=0, reg_lambda=1, scale_pos_weight=None,\n",
       "              subsample=1, tree_method='exact', validate_parameters=1,\n",
       "              verbosity=None)"
      ]
     },
     "execution_count": 42,
     "metadata": {},
     "output_type": "execute_result"
    }
   ],
   "source": [
    "xgb = XGBClassifier(max_depth=3, n_jobs=-1, random_state=3, learning_rate=0.08)\n",
    "xgb.fit(X_train, y_train)"
   ]
  },
  {
   "cell_type": "code",
   "execution_count": 43,
   "metadata": {},
   "outputs": [
    {
     "name": "stdout",
     "output_type": "stream",
     "text": [
      "Accuracy score for extreme_gradient_boosting: 0.968\n",
      "precision score for extreme_gradient_boosting: 0.968\n",
      "recall score for extreme_gradient_boosting: 0.968\n",
      "f1 score for extreme_gradient_boosting: 0.968\n",
      "Area under the curve (extreme_gradient_boosting): 0.998\n"
     ]
    }
   ],
   "source": [
    "calc_and_store_eval_scores(xgb, 'extreme_gradient_boosting', X_test, y_test)\n",
    "preds = xgb.predict(X_test)\n",
    "xgb_cm = conf_matrix(y_test, preds) "
   ]
  },
  {
   "cell_type": "markdown",
   "metadata": {},
   "source": [
    "### 3.7 ML model (support vector machine)"
   ]
  },
  {
   "cell_type": "code",
   "execution_count": 44,
   "metadata": {},
   "outputs": [
    {
     "data": {
      "text/plain": [
       "SVC(kernel='linear', probability=True)"
      ]
     },
     "execution_count": 44,
     "metadata": {},
     "output_type": "execute_result"
    }
   ],
   "source": [
    "lsvc = SVC(kernel='linear', probability=True)\n",
    "lsvc.fit(X_train, y_train)"
   ]
  },
  {
   "cell_type": "code",
   "execution_count": 45,
   "metadata": {},
   "outputs": [
    {
     "name": "stdout",
     "output_type": "stream",
     "text": [
      "Accuracy score for linear_support_vector_classifier: 0.976\n",
      "precision score for linear_support_vector_classifier: 0.976\n",
      "recall score for linear_support_vector_classifier: 0.976\n",
      "f1 score for linear_support_vector_classifier: 0.976\n",
      "Area under the curve (linear_support_vector_classifier): 1.0\n"
     ]
    }
   ],
   "source": [
    "calc_and_store_eval_scores(lsvc, 'linear_support_vector_classifier', X_test, y_test)\n",
    "preds = lsvc.predict(X_test)\n",
    "lsvc_cm = conf_matrix(y_test, preds)  "
   ]
  },
  {
   "cell_type": "markdown",
   "metadata": {},
   "source": [
    "## 4- DL models"
   ]
  },
  {
   "cell_type": "code",
   "execution_count": 49,
   "metadata": {},
   "outputs": [
    {
     "name": "stderr",
     "output_type": "stream",
     "text": [
      "C:\\Users\\modaj\\anaconda3\\envs\\DLdev\\lib\\site-packages\\tqdm\\auto.py:22: TqdmWarning: IProgress not found. Please update jupyter and ipywidgets. See https://ipywidgets.readthedocs.io/en/stable/user_install.html\n",
      "  from .autonotebook import tqdm as notebook_tqdm\n"
     ]
    }
   ],
   "source": [
    "import os\n",
    "import tensorflow as tf\n",
    "from tensorflow import keras\n",
    "\n",
    "from tensorflow.keras.layers import MultiHeadAttention, LayerNormalization, Dropout, Layer\n",
    "from tensorflow.keras.layers import Embedding, Input, GlobalAveragePooling1D, Dense\n",
    "from tensorflow.keras.datasets import imdb\n",
    "from tensorflow.keras.models import Sequential, Model\n",
    "from tensorflow.keras.optimizers import Adam\n",
    "from tensorflow.keras.callbacks import ModelCheckpoint\n",
    "\n",
    "import transformers\n",
    "from tqdm import tqdm\n",
    "from tokenizers import BertWordPieceTokenizer\n",
    "\n",
    "import warnings\n",
    "warnings.filterwarnings(\"ignore\", category=np.VisibleDeprecationWarning)"
   ]
  },
  {
   "cell_type": "code",
   "execution_count": 50,
   "metadata": {},
   "outputs": [
    {
     "data": {
      "text/plain": [
       "((1975,), (250,), (1975,), (250,))"
      ]
     },
     "execution_count": 50,
     "metadata": {},
     "output_type": "execute_result"
    }
   ],
   "source": [
    "X_train = cleaned_train_df['reading_passage'].values\n",
    "X_test = cleaned_test_df['reading_passage'].values\n",
    "y_train = cleaned_train_df['passage_topic'].values\n",
    "y_test = cleaned_test_df['passage_topic'].values\n",
    "X_train.shape, X_test.shape, y_train.shape, y_test.shape"
   ]
  },
  {
   "cell_type": "code",
   "execution_count": 51,
   "metadata": {},
   "outputs": [],
   "source": [
    "def fast_encode(texts, tokenizer, chunk_size=256, maxlen=512):\n",
    "    \"\"\"\n",
    "    Encoder for encoding the text into sequence of integers for BERT Input\n",
    "    \"\"\"\n",
    "    tokenizer.enable_truncation(max_length=maxlen)\n",
    "    tokenizer.enable_padding(length=maxlen)\n",
    "    all_ids = []\n",
    "    \n",
    "    for i in tqdm(range(0, len(texts), chunk_size)):\n",
    "        text_chunk = texts[i:i+chunk_size].tolist()\n",
    "        encs = tokenizer.encode_batch(text_chunk)\n",
    "        all_ids.extend([enc.ids for enc in encs])\n",
    "    \n",
    "    return np.array(all_ids)"
   ]
  },
  {
   "cell_type": "code",
   "execution_count": 52,
   "metadata": {
    "scrolled": true
   },
   "outputs": [
    {
     "data": {
      "text/plain": [
       "Tokenizer(vocabulary_size=119547, model=BertWordPiece, unk_token=[UNK], sep_token=[SEP], cls_token=[CLS], pad_token=[PAD], mask_token=[MASK], clean_text=True, handle_chinese_chars=True, strip_accents=None, lowercase=False, wordpieces_prefix=##)"
      ]
     },
     "execution_count": 52,
     "metadata": {},
     "output_type": "execute_result"
    }
   ],
   "source": [
    "# First load the real tokenizer\n",
    "tokenizer = transformers.DistilBertTokenizer.from_pretrained('distilbert-base-multilingual-cased')\n",
    "# Save the loaded tokenizer locally\n",
    "tokenizer.save_pretrained('.')\n",
    "# Reload it with the huggingface tokenizers library\n",
    "fast_tokenizer = BertWordPieceTokenizer('vocab.txt', lowercase=False)\n",
    "fast_tokenizer"
   ]
  },
  {
   "cell_type": "markdown",
   "metadata": {},
   "source": [
    "### 4.1 DL model (Tranformer Network with tf/keras)"
   ]
  },
  {
   "cell_type": "markdown",
   "metadata": {},
   "source": [
    "- In the Transformer, the Attention module repeats its computations multiple times in parallel. Each of these is called an **Attention Head**"
   ]
  },
  {
   "cell_type": "markdown",
   "metadata": {},
   "source": [
    "#### 4.1.1 Data Preprocessing (tokenization, encoding, truncation) + Configuration"
   ]
  },
  {
   "cell_type": "code",
   "execution_count": 53,
   "metadata": {},
   "outputs": [
    {
     "name": "stderr",
     "output_type": "stream",
     "text": [
      "100%|████████████████████████████████████████████████████████████████████████████████████| 8/8 [00:00<00:00, 19.00it/s]\n",
      "100%|████████████████████████████████████████████████████████████████████████████████████| 1/1 [00:00<00:00, 18.18it/s]\n"
     ]
    }
   ],
   "source": [
    "#IMP DATA FOR CONFIG\n",
    "AUTO = tf.data.experimental.AUTOTUNE\n",
    "# Configuration\n",
    "EPOCHS = 3\n",
    "BATCH_SIZE = 32 \n",
    "MAX_LEN = 512\n",
    "\n",
    "X_train_encoded = fast_encode(X_train, fast_tokenizer, maxlen=MAX_LEN)\n",
    "X_test_encoded = fast_encode(X_test, fast_tokenizer, maxlen=MAX_LEN)"
   ]
  },
  {
   "cell_type": "code",
   "execution_count": 54,
   "metadata": {},
   "outputs": [
    {
     "data": {
      "text/plain": [
       "((1975, 512), (250, 512), (1975,), (250,))"
      ]
     },
     "execution_count": 54,
     "metadata": {},
     "output_type": "execute_result"
    }
   ],
   "source": [
    "X_train_encoded.shape, X_test_encoded.shape, y_train.shape, y_test.shape"
   ]
  },
  {
   "cell_type": "markdown",
   "metadata": {},
   "source": [
    "#### 4.1.2 building transformer "
   ]
  },
  {
   "cell_type": "code",
   "execution_count": 55,
   "metadata": {},
   "outputs": [],
   "source": [
    "class TransformerBlock(Layer):\n",
    "    def __init__(self, embed_dim, num_heads, ff_dim, rate=0.1):\n",
    "        super(TransformerBlock, self).__init__()\n",
    "        self.att = MultiHeadAttention(num_heads=num_heads, key_dim=embed_dim)\n",
    "        self.ffn = Sequential(\n",
    "            [Dense(ff_dim, activation=\"relu\"), \n",
    "             Dense(embed_dim),]\n",
    "        )\n",
    "        self.layernorm1 = LayerNormalization(epsilon=1e-6)\n",
    "        self.layernorm2 = LayerNormalization(epsilon=1e-6)\n",
    "        self.dropout1 = Dropout(rate)\n",
    "        self.dropout2 = Dropout(rate)\n",
    "\n",
    "    def call(self, inputs, training):\n",
    "        attn_output = self.att(inputs, inputs)\n",
    "        attn_output = self.dropout1(attn_output, training=training)\n",
    "        out1 = self.layernorm1(inputs + attn_output)\n",
    "        ffn_output = self.ffn(out1)\n",
    "        ffn_output = self.dropout2(ffn_output, training=training)\n",
    "        return self.layernorm2(out1 + ffn_output)"
   ]
  },
  {
   "cell_type": "code",
   "execution_count": 56,
   "metadata": {},
   "outputs": [],
   "source": [
    "class TokenAndPositionEmbedding(Layer):\n",
    "    def __init__(self, maxlen, vocab_size, embed_dim):\n",
    "        super(TokenAndPositionEmbedding, self).__init__()\n",
    "        self.token_emb = Embedding(input_dim=vocab_size, output_dim=embed_dim)\n",
    "        self.pos_emb = Embedding(input_dim=maxlen, output_dim=embed_dim)\n",
    "\n",
    "    def call(self, x):\n",
    "        maxlen = tf.shape(x)[-1]\n",
    "        positions = tf.range(start=0, limit=maxlen, delta=1)\n",
    "        positions = self.pos_emb(positions)\n",
    "        x = self.token_emb(x)\n",
    "        return x + positions"
   ]
  },
  {
   "cell_type": "code",
   "execution_count": 57,
   "metadata": {},
   "outputs": [],
   "source": [
    "embed_dim = 32  # Embedding size for each token\n",
    "num_heads = 2  # Number of attention heads\n",
    "ff_dim = 32  # Hidden layer size in feed forward network inside transformer\n",
    "vocab_size = 1000000  # Only consider the top 20k words\n",
    "maxlen = 512  # Only consider the first 200 words of each movie review"
   ]
  },
  {
   "cell_type": "code",
   "execution_count": 58,
   "metadata": {},
   "outputs": [],
   "source": [
    "inputs = Input(shape=(maxlen,))\n",
    "embedding_layer = TokenAndPositionEmbedding(maxlen, vocab_size, embed_dim)\n",
    "x = embedding_layer(inputs)\n",
    "transformer_block = TransformerBlock(embed_dim, num_heads, ff_dim)\n",
    "x = transformer_block(x)\n",
    "x = GlobalAveragePooling1D()(x)\n",
    "x = Dropout(0.1)(x)\n",
    "x = Dense(20, activation=\"relu\")(x)\n",
    "x = Dropout(0.1)(x)\n",
    "outputs = Dense(5, activation=\"softmax\")(x)\n",
    "\n",
    "nn_transformer = Model(inputs=inputs, outputs=outputs)"
   ]
  },
  {
   "cell_type": "markdown",
   "metadata": {},
   "source": [
    "#### 4.1.3 training transformer model"
   ]
  },
  {
   "cell_type": "code",
   "execution_count": 63,
   "metadata": {
    "scrolled": true
   },
   "outputs": [
    {
     "name": "stdout",
     "output_type": "stream",
     "text": [
      "Epoch 1/10\n",
      "31/31 [==============================] - 20s 625ms/step - loss: 0.0376 - accuracy: 0.9944 - val_loss: 0.1082 - val_accuracy: 0.9560\n",
      "Epoch 2/10\n",
      "31/31 [==============================] - 19s 628ms/step - loss: 0.0292 - accuracy: 0.9939 - val_loss: 0.0726 - val_accuracy: 0.9760\n",
      "Epoch 3/10\n",
      "31/31 [==============================] - 19s 624ms/step - loss: 0.0135 - accuracy: 0.9975 - val_loss: 0.0677 - val_accuracy: 0.9760\n",
      "Epoch 4/10\n",
      "31/31 [==============================] - 20s 643ms/step - loss: 0.0083 - accuracy: 0.9990 - val_loss: 0.0773 - val_accuracy: 0.9760\n",
      "Epoch 5/10\n",
      "31/31 [==============================] - 20s 647ms/step - loss: 0.0071 - accuracy: 0.9995 - val_loss: 0.0789 - val_accuracy: 0.9720\n",
      "Epoch 6/10\n",
      "31/31 [==============================] - 20s 648ms/step - loss: 0.0053 - accuracy: 0.9995 - val_loss: 0.2368 - val_accuracy: 0.9480\n",
      "Epoch 7/10\n",
      "31/31 [==============================] - 20s 637ms/step - loss: 0.0114 - accuracy: 0.9970 - val_loss: 0.0926 - val_accuracy: 0.9680\n",
      "Epoch 8/10\n",
      "31/31 [==============================] - 20s 636ms/step - loss: 0.0042 - accuracy: 0.9990 - val_loss: 0.0833 - val_accuracy: 0.9800\n",
      "Epoch 9/10\n",
      "31/31 [==============================] - 20s 655ms/step - loss: 0.0020 - accuracy: 1.0000 - val_loss: 0.0778 - val_accuracy: 0.9760\n",
      "Epoch 10/10\n",
      "31/31 [==============================] - 20s 650ms/step - loss: 0.0018 - accuracy: 1.0000 - val_loss: 0.0739 - val_accuracy: 0.9800\n"
     ]
    }
   ],
   "source": [
    "nn_transformer.compile(optimizer=\"adam\", loss=\"sparse_categorical_crossentropy\", metrics=[\"accuracy\"])\n",
    "\n",
    "history = nn_transformer.fit(X_train_encoded, y_train, \n",
    "                    batch_size=64, epochs=10, \n",
    "                    validation_data=(X_test_encoded, y_test)\n",
    "                   )"
   ]
  },
  {
   "cell_type": "markdown",
   "metadata": {},
   "source": [
    "#### 4.1.4 evaluating transformer model"
   ]
  },
  {
   "cell_type": "code",
   "execution_count": 82,
   "metadata": {},
   "outputs": [
    {
     "name": "stdout",
     "output_type": "stream",
     "text": [
      "8/8 - 1s - loss: 0.0739 - accuracy: 0.9800 - 714ms/epoch - 89ms/step\n",
      "loss: 0.074\n",
      "accuracy: 0.980\n"
     ]
    }
   ],
   "source": [
    "results = nn_transformer.evaluate(X_test_encoded, y_test, verbose=2)\n",
    "\n",
    "for name, value in zip(nn_transformer.metrics_names, results):\n",
    "    print(\"%s: %.3f\" % (name, value))"
   ]
  },
  {
   "cell_type": "code",
   "execution_count": 83,
   "metadata": {},
   "outputs": [],
   "source": [
    "def get_single_prediction(x):\n",
    "    return np.where(x == np.max(x))[0]\n",
    "\n",
    "preds = nn_transformer.predict(X_test_encoded)\n",
    "preds_modified = np.apply_along_axis(get_single_prediction, 1, preds).flatten()"
   ]
  },
  {
   "cell_type": "code",
   "execution_count": 66,
   "metadata": {},
   "outputs": [
    {
     "name": "stdout",
     "output_type": "stream",
     "text": [
      "results already stored for model: neural_network_transformer\n",
      "\n",
      "Accuracy score for neural_network_transformer: 0.976\n",
      "precision score for neural_network_transformer: 0.977\n",
      "recall score for neural_network_transformer: 0.976\n",
      "f1 score for neural_network_transformer: 0.976\n",
      "Area under the curve (neural_network_transformer): None\n"
     ]
    }
   ],
   "source": [
    "calc_and_store_eval_scores(nn_transformer, 'neural_network_transformer', X_test_encoded, y_test, predict_probs=False, provide_preds=preds_modified)\n",
    "nn_transformer_cm = conf_matrix(y_test, preds_modified)"
   ]
  },
  {
   "cell_type": "markdown",
   "metadata": {},
   "source": [
    "### 4.2 DL model (transformers - BERT framework) [incomplete]\n"
   ]
  },
  {
   "cell_type": "markdown",
   "metadata": {},
   "source": [
    "unfortunately, this section is incomplete due to model training issues that have to do with misconfiugrations and bad hyperparameter selection, that lead to many runtime-errors and poor results. coupled with the fact that DL models utilizing BERT framework take a long time to run (on my device). more time would be needed for the section to be completed."
   ]
  },
  {
   "cell_type": "markdown",
   "metadata": {},
   "source": [
    "#### 4.2.1 Data Preprocessing (tokenization, encoding, truncation) + Configuration"
   ]
  },
  {
   "cell_type": "code",
   "execution_count": 67,
   "metadata": {},
   "outputs": [],
   "source": [
    "#IMP DATA FOR CONFIG\n",
    "AUTO = tf.data.experimental.AUTOTUNE\n",
    "\n",
    "# Configuration\n",
    "EPOCHS = 3\n",
    "BATCH_SIZE = 32 \n",
    "MAX_LEN = 512"
   ]
  },
  {
   "cell_type": "code",
   "execution_count": 68,
   "metadata": {},
   "outputs": [
    {
     "name": "stderr",
     "output_type": "stream",
     "text": [
      "100%|████████████████████████████████████████████████████████████████████████████████████| 8/8 [00:00<00:00, 19.51it/s]\n",
      "100%|████████████████████████████████████████████████████████████████████████████████████| 1/1 [00:00<00:00, 18.87it/s]\n"
     ]
    }
   ],
   "source": [
    "X_train_encoded = fast_encode(X_train, fast_tokenizer, maxlen=MAX_LEN)\n",
    "X_test_encoded = fast_encode(X_test, fast_tokenizer, maxlen=MAX_LEN)"
   ]
  },
  {
   "cell_type": "code",
   "execution_count": 69,
   "metadata": {},
   "outputs": [],
   "source": [
    "train_dataset = (\n",
    "    tf.data.Dataset\n",
    "    .from_tensor_slices((X_train_encoded, y_train))\n",
    "    .repeat()\n",
    "    .shuffle(2048)\n",
    "    .batch(BATCH_SIZE)\n",
    "    .prefetch(AUTO)\n",
    ")\n",
    "\n",
    "test_dataset = (\n",
    "    tf.data.Dataset\n",
    "    .from_tensor_slices(X_test_encoded)\n",
    "    .batch(BATCH_SIZE)\n",
    ")"
   ]
  },
  {
   "cell_type": "markdown",
   "metadata": {},
   "source": [
    "#### 4.2.2 building BERT model"
   ]
  },
  {
   "cell_type": "code",
   "execution_count": 442,
   "metadata": {},
   "outputs": [],
   "source": [
    "def build_model(transformer, max_len=512):\n",
    "    \"\"\"\n",
    "    function for training the BERT model\n",
    "    \"\"\"\n",
    "    input_word_ids = Input(shape=(max_len,), dtype=tf.int32, name=\"input_word_ids\")\n",
    "    sequence_output = transformer(input_word_ids)[0]\n",
    "    print('sequence_output')\n",
    "    print(sequence_output)\n",
    "    cls_token = sequence_output[:, 0, :]\n",
    "    out = Dense(1, activation='softmax')(cls_token)\n",
    "    model = Model(inputs=input_word_ids, outputs=out)\n",
    "    model.compile(Adam(lr=1e-5), loss='categorical_crossentropy', metrics=['accuracy'])\n",
    "    \n",
    "    return model"
   ]
  },
  {
   "cell_type": "code",
   "execution_count": 443,
   "metadata": {},
   "outputs": [
    {
     "name": "stderr",
     "output_type": "stream",
     "text": [
      "Some layers from the model checkpoint at distilbert-base-multilingual-cased were not used when initializing TFDistilBertModel: ['activation_13', 'vocab_projector', 'vocab_layer_norm', 'vocab_transform']\n",
      "- This IS expected if you are initializing TFDistilBertModel from the checkpoint of a model trained on another task or with another architecture (e.g. initializing a BertForSequenceClassification model from a BertForPreTraining model).\n",
      "- This IS NOT expected if you are initializing TFDistilBertModel from the checkpoint of a model that you expect to be exactly identical (initializing a BertForSequenceClassification model from a BertForSequenceClassification model).\n",
      "All the layers of TFDistilBertModel were initialized from the model checkpoint at distilbert-base-multilingual-cased.\n",
      "If your task is similar to the task the model of the checkpoint was trained on, you can already use TFDistilBertModel for predictions without further training.\n"
     ]
    },
    {
     "name": "stdout",
     "output_type": "stream",
     "text": [
      "sequence_output\n",
      "KerasTensor(type_spec=TensorSpec(shape=(None, 512, 768), dtype=tf.float32, name=None), name='tf_distil_bert_model_6/distilbert/transformer/layer_._5/output_layer_norm/batchnorm/add_1:0', description=\"created by layer 'tf_distil_bert_model_6'\")\n"
     ]
    }
   ],
   "source": [
    "transformer_layer = (\n",
    "    transformers.TFDistilBertModel\n",
    "    .from_pretrained('distilbert-base-multilingual-cased')\n",
    ")\n",
    "nn_BERT = build_model(transformer_layer, max_len=MAX_LEN)"
   ]
  },
  {
   "cell_type": "code",
   "execution_count": 444,
   "metadata": {},
   "outputs": [
    {
     "name": "stdout",
     "output_type": "stream",
     "text": [
      "Model: \"model_15\"\n",
      "_________________________________________________________________\n",
      " Layer (type)                Output Shape              Param #   \n",
      "=================================================================\n",
      " input_word_ids (InputLayer)  [(None, 512)]            0         \n",
      "                                                                 \n",
      " tf_distil_bert_model_6 (TFD  TFBaseModelOutput(last_h  134734080\n",
      " istilBertModel)             idden_state=(None, 512,             \n",
      "                             768),                               \n",
      "                              hidden_states=None, att            \n",
      "                             entions=None)                       \n",
      "                                                                 \n",
      " tf.__operators__.getitem_6   (None, 768)              0         \n",
      " (SlicingOpLambda)                                               \n",
      "                                                                 \n",
      " dense_42 (Dense)            (None, 1)                 769       \n",
      "                                                                 \n",
      "=================================================================\n",
      "Total params: 134,734,849\n",
      "Trainable params: 134,734,849\n",
      "Non-trainable params: 0\n",
      "_________________________________________________________________\n"
     ]
    }
   ],
   "source": [
    "nn_BERT.summary()"
   ]
  },
  {
   "cell_type": "markdown",
   "metadata": {},
   "source": [
    "#### 4.2.3 training BERT model"
   ]
  },
  {
   "cell_type": "code",
   "execution_count": 445,
   "metadata": {
    "collapsed": true
   },
   "outputs": [
    {
     "name": "stdout",
     "output_type": "stream",
     "text": [
      "Epoch 1/3\n",
      "10/61 [===>..........................] - ETA: 49:39 - loss: 0.0000e+00 - accuracy: 0.1500"
     ]
    },
    {
     "ename": "KeyboardInterrupt",
     "evalue": "",
     "output_type": "error",
     "traceback": [
      "\u001b[1;31m---------------------------------------------------------------------------\u001b[0m",
      "\u001b[1;31mKeyboardInterrupt\u001b[0m                         Traceback (most recent call last)",
      "\u001b[1;32m~\\AppData\\Local\\Temp\\ipykernel_1652\\1001466375.py\u001b[0m in \u001b[0;36m<module>\u001b[1;34m\u001b[0m\n\u001b[0;32m      4\u001b[0m     \u001b[0mtrain_dataset\u001b[0m\u001b[1;33m,\u001b[0m\u001b[1;33m\u001b[0m\u001b[1;33m\u001b[0m\u001b[0m\n\u001b[0;32m      5\u001b[0m     \u001b[0msteps_per_epoch\u001b[0m\u001b[1;33m=\u001b[0m\u001b[0mn_steps\u001b[0m\u001b[1;33m,\u001b[0m\u001b[1;33m\u001b[0m\u001b[1;33m\u001b[0m\u001b[0m\n\u001b[1;32m----> 6\u001b[1;33m     \u001b[0mepochs\u001b[0m\u001b[1;33m=\u001b[0m\u001b[0mEPOCHS\u001b[0m\u001b[1;33m\u001b[0m\u001b[1;33m\u001b[0m\u001b[0m\n\u001b[0m\u001b[0;32m      7\u001b[0m )\n",
      "\u001b[1;32m~\\anaconda3\\envs\\DLdev\\lib\\site-packages\\keras\\utils\\traceback_utils.py\u001b[0m in \u001b[0;36merror_handler\u001b[1;34m(*args, **kwargs)\u001b[0m\n\u001b[0;32m     62\u001b[0m     \u001b[0mfiltered_tb\u001b[0m \u001b[1;33m=\u001b[0m \u001b[1;32mNone\u001b[0m\u001b[1;33m\u001b[0m\u001b[1;33m\u001b[0m\u001b[0m\n\u001b[0;32m     63\u001b[0m     \u001b[1;32mtry\u001b[0m\u001b[1;33m:\u001b[0m\u001b[1;33m\u001b[0m\u001b[1;33m\u001b[0m\u001b[0m\n\u001b[1;32m---> 64\u001b[1;33m       \u001b[1;32mreturn\u001b[0m \u001b[0mfn\u001b[0m\u001b[1;33m(\u001b[0m\u001b[1;33m*\u001b[0m\u001b[0margs\u001b[0m\u001b[1;33m,\u001b[0m \u001b[1;33m**\u001b[0m\u001b[0mkwargs\u001b[0m\u001b[1;33m)\u001b[0m\u001b[1;33m\u001b[0m\u001b[1;33m\u001b[0m\u001b[0m\n\u001b[0m\u001b[0;32m     65\u001b[0m     \u001b[1;32mexcept\u001b[0m \u001b[0mException\u001b[0m \u001b[1;32mas\u001b[0m \u001b[0me\u001b[0m\u001b[1;33m:\u001b[0m  \u001b[1;31m# pylint: disable=broad-except\u001b[0m\u001b[1;33m\u001b[0m\u001b[1;33m\u001b[0m\u001b[0m\n\u001b[0;32m     66\u001b[0m       \u001b[0mfiltered_tb\u001b[0m \u001b[1;33m=\u001b[0m \u001b[0m_process_traceback_frames\u001b[0m\u001b[1;33m(\u001b[0m\u001b[0me\u001b[0m\u001b[1;33m.\u001b[0m\u001b[0m__traceback__\u001b[0m\u001b[1;33m)\u001b[0m\u001b[1;33m\u001b[0m\u001b[1;33m\u001b[0m\u001b[0m\n",
      "\u001b[1;32m~\\anaconda3\\envs\\DLdev\\lib\\site-packages\\keras\\engine\\training.py\u001b[0m in \u001b[0;36mfit\u001b[1;34m(self, x, y, batch_size, epochs, verbose, callbacks, validation_split, validation_data, shuffle, class_weight, sample_weight, initial_epoch, steps_per_epoch, validation_steps, validation_batch_size, validation_freq, max_queue_size, workers, use_multiprocessing)\u001b[0m\n\u001b[0;32m   1382\u001b[0m                 _r=1):\n\u001b[0;32m   1383\u001b[0m               \u001b[0mcallbacks\u001b[0m\u001b[1;33m.\u001b[0m\u001b[0mon_train_batch_begin\u001b[0m\u001b[1;33m(\u001b[0m\u001b[0mstep\u001b[0m\u001b[1;33m)\u001b[0m\u001b[1;33m\u001b[0m\u001b[1;33m\u001b[0m\u001b[0m\n\u001b[1;32m-> 1384\u001b[1;33m               \u001b[0mtmp_logs\u001b[0m \u001b[1;33m=\u001b[0m \u001b[0mself\u001b[0m\u001b[1;33m.\u001b[0m\u001b[0mtrain_function\u001b[0m\u001b[1;33m(\u001b[0m\u001b[0miterator\u001b[0m\u001b[1;33m)\u001b[0m\u001b[1;33m\u001b[0m\u001b[1;33m\u001b[0m\u001b[0m\n\u001b[0m\u001b[0;32m   1385\u001b[0m               \u001b[1;32mif\u001b[0m \u001b[0mdata_handler\u001b[0m\u001b[1;33m.\u001b[0m\u001b[0mshould_sync\u001b[0m\u001b[1;33m:\u001b[0m\u001b[1;33m\u001b[0m\u001b[1;33m\u001b[0m\u001b[0m\n\u001b[0;32m   1386\u001b[0m                 \u001b[0mcontext\u001b[0m\u001b[1;33m.\u001b[0m\u001b[0masync_wait\u001b[0m\u001b[1;33m(\u001b[0m\u001b[1;33m)\u001b[0m\u001b[1;33m\u001b[0m\u001b[1;33m\u001b[0m\u001b[0m\n",
      "\u001b[1;32m~\\anaconda3\\envs\\DLdev\\lib\\site-packages\\tensorflow\\python\\util\\traceback_utils.py\u001b[0m in \u001b[0;36merror_handler\u001b[1;34m(*args, **kwargs)\u001b[0m\n\u001b[0;32m    148\u001b[0m     \u001b[0mfiltered_tb\u001b[0m \u001b[1;33m=\u001b[0m \u001b[1;32mNone\u001b[0m\u001b[1;33m\u001b[0m\u001b[1;33m\u001b[0m\u001b[0m\n\u001b[0;32m    149\u001b[0m     \u001b[1;32mtry\u001b[0m\u001b[1;33m:\u001b[0m\u001b[1;33m\u001b[0m\u001b[1;33m\u001b[0m\u001b[0m\n\u001b[1;32m--> 150\u001b[1;33m       \u001b[1;32mreturn\u001b[0m \u001b[0mfn\u001b[0m\u001b[1;33m(\u001b[0m\u001b[1;33m*\u001b[0m\u001b[0margs\u001b[0m\u001b[1;33m,\u001b[0m \u001b[1;33m**\u001b[0m\u001b[0mkwargs\u001b[0m\u001b[1;33m)\u001b[0m\u001b[1;33m\u001b[0m\u001b[1;33m\u001b[0m\u001b[0m\n\u001b[0m\u001b[0;32m    151\u001b[0m     \u001b[1;32mexcept\u001b[0m \u001b[0mException\u001b[0m \u001b[1;32mas\u001b[0m \u001b[0me\u001b[0m\u001b[1;33m:\u001b[0m\u001b[1;33m\u001b[0m\u001b[1;33m\u001b[0m\u001b[0m\n\u001b[0;32m    152\u001b[0m       \u001b[0mfiltered_tb\u001b[0m \u001b[1;33m=\u001b[0m \u001b[0m_process_traceback_frames\u001b[0m\u001b[1;33m(\u001b[0m\u001b[0me\u001b[0m\u001b[1;33m.\u001b[0m\u001b[0m__traceback__\u001b[0m\u001b[1;33m)\u001b[0m\u001b[1;33m\u001b[0m\u001b[1;33m\u001b[0m\u001b[0m\n",
      "\u001b[1;32m~\\anaconda3\\envs\\DLdev\\lib\\site-packages\\tensorflow\\python\\eager\\def_function.py\u001b[0m in \u001b[0;36m__call__\u001b[1;34m(self, *args, **kwds)\u001b[0m\n\u001b[0;32m    913\u001b[0m \u001b[1;33m\u001b[0m\u001b[0m\n\u001b[0;32m    914\u001b[0m       \u001b[1;32mwith\u001b[0m \u001b[0mOptionalXlaContext\u001b[0m\u001b[1;33m(\u001b[0m\u001b[0mself\u001b[0m\u001b[1;33m.\u001b[0m\u001b[0m_jit_compile\u001b[0m\u001b[1;33m)\u001b[0m\u001b[1;33m:\u001b[0m\u001b[1;33m\u001b[0m\u001b[1;33m\u001b[0m\u001b[0m\n\u001b[1;32m--> 915\u001b[1;33m         \u001b[0mresult\u001b[0m \u001b[1;33m=\u001b[0m \u001b[0mself\u001b[0m\u001b[1;33m.\u001b[0m\u001b[0m_call\u001b[0m\u001b[1;33m(\u001b[0m\u001b[1;33m*\u001b[0m\u001b[0margs\u001b[0m\u001b[1;33m,\u001b[0m \u001b[1;33m**\u001b[0m\u001b[0mkwds\u001b[0m\u001b[1;33m)\u001b[0m\u001b[1;33m\u001b[0m\u001b[1;33m\u001b[0m\u001b[0m\n\u001b[0m\u001b[0;32m    916\u001b[0m \u001b[1;33m\u001b[0m\u001b[0m\n\u001b[0;32m    917\u001b[0m       \u001b[0mnew_tracing_count\u001b[0m \u001b[1;33m=\u001b[0m \u001b[0mself\u001b[0m\u001b[1;33m.\u001b[0m\u001b[0mexperimental_get_tracing_count\u001b[0m\u001b[1;33m(\u001b[0m\u001b[1;33m)\u001b[0m\u001b[1;33m\u001b[0m\u001b[1;33m\u001b[0m\u001b[0m\n",
      "\u001b[1;32m~\\anaconda3\\envs\\DLdev\\lib\\site-packages\\tensorflow\\python\\eager\\def_function.py\u001b[0m in \u001b[0;36m_call\u001b[1;34m(self, *args, **kwds)\u001b[0m\n\u001b[0;32m    945\u001b[0m       \u001b[1;31m# In this case we have created variables on the first call, so we run the\u001b[0m\u001b[1;33m\u001b[0m\u001b[1;33m\u001b[0m\u001b[1;33m\u001b[0m\u001b[0m\n\u001b[0;32m    946\u001b[0m       \u001b[1;31m# defunned version which is guaranteed to never create variables.\u001b[0m\u001b[1;33m\u001b[0m\u001b[1;33m\u001b[0m\u001b[1;33m\u001b[0m\u001b[0m\n\u001b[1;32m--> 947\u001b[1;33m       \u001b[1;32mreturn\u001b[0m \u001b[0mself\u001b[0m\u001b[1;33m.\u001b[0m\u001b[0m_stateless_fn\u001b[0m\u001b[1;33m(\u001b[0m\u001b[1;33m*\u001b[0m\u001b[0margs\u001b[0m\u001b[1;33m,\u001b[0m \u001b[1;33m**\u001b[0m\u001b[0mkwds\u001b[0m\u001b[1;33m)\u001b[0m  \u001b[1;31m# pylint: disable=not-callable\u001b[0m\u001b[1;33m\u001b[0m\u001b[1;33m\u001b[0m\u001b[0m\n\u001b[0m\u001b[0;32m    948\u001b[0m     \u001b[1;32melif\u001b[0m \u001b[0mself\u001b[0m\u001b[1;33m.\u001b[0m\u001b[0m_stateful_fn\u001b[0m \u001b[1;32mis\u001b[0m \u001b[1;32mnot\u001b[0m \u001b[1;32mNone\u001b[0m\u001b[1;33m:\u001b[0m\u001b[1;33m\u001b[0m\u001b[1;33m\u001b[0m\u001b[0m\n\u001b[0;32m    949\u001b[0m       \u001b[1;31m# Release the lock early so that multiple threads can perform the call\u001b[0m\u001b[1;33m\u001b[0m\u001b[1;33m\u001b[0m\u001b[1;33m\u001b[0m\u001b[0m\n",
      "\u001b[1;32m~\\anaconda3\\envs\\DLdev\\lib\\site-packages\\tensorflow\\python\\eager\\function.py\u001b[0m in \u001b[0;36m__call__\u001b[1;34m(self, *args, **kwargs)\u001b[0m\n\u001b[0;32m   2955\u001b[0m        filtered_flat_args) = self._maybe_define_function(args, kwargs)\n\u001b[0;32m   2956\u001b[0m     return graph_function._call_flat(\n\u001b[1;32m-> 2957\u001b[1;33m         filtered_flat_args, captured_inputs=graph_function.captured_inputs)  # pylint: disable=protected-access\n\u001b[0m\u001b[0;32m   2958\u001b[0m \u001b[1;33m\u001b[0m\u001b[0m\n\u001b[0;32m   2959\u001b[0m   \u001b[1;33m@\u001b[0m\u001b[0mproperty\u001b[0m\u001b[1;33m\u001b[0m\u001b[1;33m\u001b[0m\u001b[0m\n",
      "\u001b[1;32m~\\anaconda3\\envs\\DLdev\\lib\\site-packages\\tensorflow\\python\\eager\\function.py\u001b[0m in \u001b[0;36m_call_flat\u001b[1;34m(self, args, captured_inputs, cancellation_manager)\u001b[0m\n\u001b[0;32m   1852\u001b[0m       \u001b[1;31m# No tape is watching; skip to running the function.\u001b[0m\u001b[1;33m\u001b[0m\u001b[1;33m\u001b[0m\u001b[1;33m\u001b[0m\u001b[0m\n\u001b[0;32m   1853\u001b[0m       return self._build_call_outputs(self._inference_function.call(\n\u001b[1;32m-> 1854\u001b[1;33m           ctx, args, cancellation_manager=cancellation_manager))\n\u001b[0m\u001b[0;32m   1855\u001b[0m     forward_backward = self._select_forward_and_backward_functions(\n\u001b[0;32m   1856\u001b[0m         \u001b[0margs\u001b[0m\u001b[1;33m,\u001b[0m\u001b[1;33m\u001b[0m\u001b[1;33m\u001b[0m\u001b[0m\n",
      "\u001b[1;32m~\\anaconda3\\envs\\DLdev\\lib\\site-packages\\tensorflow\\python\\eager\\function.py\u001b[0m in \u001b[0;36mcall\u001b[1;34m(self, ctx, args, cancellation_manager)\u001b[0m\n\u001b[0;32m    502\u001b[0m               \u001b[0minputs\u001b[0m\u001b[1;33m=\u001b[0m\u001b[0margs\u001b[0m\u001b[1;33m,\u001b[0m\u001b[1;33m\u001b[0m\u001b[1;33m\u001b[0m\u001b[0m\n\u001b[0;32m    503\u001b[0m               \u001b[0mattrs\u001b[0m\u001b[1;33m=\u001b[0m\u001b[0mattrs\u001b[0m\u001b[1;33m,\u001b[0m\u001b[1;33m\u001b[0m\u001b[1;33m\u001b[0m\u001b[0m\n\u001b[1;32m--> 504\u001b[1;33m               ctx=ctx)\n\u001b[0m\u001b[0;32m    505\u001b[0m         \u001b[1;32melse\u001b[0m\u001b[1;33m:\u001b[0m\u001b[1;33m\u001b[0m\u001b[1;33m\u001b[0m\u001b[0m\n\u001b[0;32m    506\u001b[0m           outputs = execute.execute_with_cancellation(\n",
      "\u001b[1;32m~\\anaconda3\\envs\\DLdev\\lib\\site-packages\\tensorflow\\python\\eager\\execute.py\u001b[0m in \u001b[0;36mquick_execute\u001b[1;34m(op_name, num_outputs, inputs, attrs, ctx, name)\u001b[0m\n\u001b[0;32m     53\u001b[0m     \u001b[0mctx\u001b[0m\u001b[1;33m.\u001b[0m\u001b[0mensure_initialized\u001b[0m\u001b[1;33m(\u001b[0m\u001b[1;33m)\u001b[0m\u001b[1;33m\u001b[0m\u001b[1;33m\u001b[0m\u001b[0m\n\u001b[0;32m     54\u001b[0m     tensors = pywrap_tfe.TFE_Py_Execute(ctx._handle, device_name, op_name,\n\u001b[1;32m---> 55\u001b[1;33m                                         inputs, attrs, num_outputs)\n\u001b[0m\u001b[0;32m     56\u001b[0m   \u001b[1;32mexcept\u001b[0m \u001b[0mcore\u001b[0m\u001b[1;33m.\u001b[0m\u001b[0m_NotOkStatusException\u001b[0m \u001b[1;32mas\u001b[0m \u001b[0me\u001b[0m\u001b[1;33m:\u001b[0m\u001b[1;33m\u001b[0m\u001b[1;33m\u001b[0m\u001b[0m\n\u001b[0;32m     57\u001b[0m     \u001b[1;32mif\u001b[0m \u001b[0mname\u001b[0m \u001b[1;32mis\u001b[0m \u001b[1;32mnot\u001b[0m \u001b[1;32mNone\u001b[0m\u001b[1;33m:\u001b[0m\u001b[1;33m\u001b[0m\u001b[1;33m\u001b[0m\u001b[0m\n",
      "\u001b[1;31mKeyboardInterrupt\u001b[0m: "
     ]
    }
   ],
   "source": [
    "n_steps = X_train_encoded.shape[0] // BATCH_SIZE\n",
    "\n",
    "train_history = nn_BERT.fit(\n",
    "    train_dataset,\n",
    "    steps_per_epoch=n_steps,\n",
    "    epochs=EPOCHS\n",
    ")"
   ]
  },
  {
   "cell_type": "markdown",
   "metadata": {},
   "source": [
    "#### 4.2.4 evaluating BERT model"
   ]
  },
  {
   "cell_type": "code",
   "execution_count": null,
   "metadata": {},
   "outputs": [],
   "source": [
    "results = nn_BERT.evaluate(test_dataset, y_test, verbose=2)\n",
    "\n",
    "for name, value in zip(nn_transformer.metrics_names, results):\n",
    "    print(\"%s: %.3f\" % (name, value))"
   ]
  },
  {
   "cell_type": "code",
   "execution_count": null,
   "metadata": {},
   "outputs": [],
   "source": [
    "calc_and_store_eval_scores(model, 'BERT_model', test_dataset, y_test, predict_probs=False)\n",
    "bert_cm = conf_matrix(y, preds) "
   ]
  },
  {
   "cell_type": "markdown",
   "metadata": {},
   "source": [
    "## 5- Evaluating results to determine model to be used"
   ]
  },
  {
   "cell_type": "code",
   "execution_count": 70,
   "metadata": {},
   "outputs": [
    {
     "data": {
      "text/html": [
       "<div>\n",
       "<style scoped>\n",
       "    .dataframe tbody tr th:only-of-type {\n",
       "        vertical-align: middle;\n",
       "    }\n",
       "\n",
       "    .dataframe tbody tr th {\n",
       "        vertical-align: top;\n",
       "    }\n",
       "\n",
       "    .dataframe thead th {\n",
       "        text-align: right;\n",
       "    }\n",
       "</style>\n",
       "<table border=\"1\" class=\"dataframe\">\n",
       "  <thead>\n",
       "    <tr style=\"text-align: right;\">\n",
       "      <th></th>\n",
       "      <th>accuracy</th>\n",
       "      <th>precision</th>\n",
       "      <th>recall</th>\n",
       "      <th>f1_score</th>\n",
       "      <th>roc_auc</th>\n",
       "    </tr>\n",
       "  </thead>\n",
       "  <tbody>\n",
       "    <tr>\n",
       "      <th>logistic_regression</th>\n",
       "      <td>0.980</td>\n",
       "      <td>0.980</td>\n",
       "      <td>0.980</td>\n",
       "      <td>0.980</td>\n",
       "      <td>0.999</td>\n",
       "    </tr>\n",
       "    <tr>\n",
       "      <th>decision_tree</th>\n",
       "      <td>0.784</td>\n",
       "      <td>0.790</td>\n",
       "      <td>0.784</td>\n",
       "      <td>0.784</td>\n",
       "      <td>0.865</td>\n",
       "    </tr>\n",
       "    <tr>\n",
       "      <th>random_forest</th>\n",
       "      <td>0.780</td>\n",
       "      <td>0.850</td>\n",
       "      <td>0.780</td>\n",
       "      <td>0.765</td>\n",
       "      <td>0.992</td>\n",
       "    </tr>\n",
       "    <tr>\n",
       "      <th>k_nearest_neighbors</th>\n",
       "      <td>0.936</td>\n",
       "      <td>0.944</td>\n",
       "      <td>0.936</td>\n",
       "      <td>0.936</td>\n",
       "      <td>0.991</td>\n",
       "    </tr>\n",
       "    <tr>\n",
       "      <th>multinomial_naive_bayes</th>\n",
       "      <td>0.948</td>\n",
       "      <td>0.952</td>\n",
       "      <td>0.948</td>\n",
       "      <td>0.947</td>\n",
       "      <td>1.000</td>\n",
       "    </tr>\n",
       "    <tr>\n",
       "      <th>extreme_gradient_boosting</th>\n",
       "      <td>0.968</td>\n",
       "      <td>0.968</td>\n",
       "      <td>0.968</td>\n",
       "      <td>0.968</td>\n",
       "      <td>0.998</td>\n",
       "    </tr>\n",
       "    <tr>\n",
       "      <th>linear_support_vector_classifier</th>\n",
       "      <td>0.976</td>\n",
       "      <td>0.976</td>\n",
       "      <td>0.976</td>\n",
       "      <td>0.976</td>\n",
       "      <td>1.000</td>\n",
       "    </tr>\n",
       "    <tr>\n",
       "      <th>neural_network_transformer</th>\n",
       "      <td>0.976</td>\n",
       "      <td>0.977</td>\n",
       "      <td>0.976</td>\n",
       "      <td>0.976</td>\n",
       "      <td>NaN</td>\n",
       "    </tr>\n",
       "  </tbody>\n",
       "</table>\n",
       "</div>"
      ],
      "text/plain": [
       "                                  accuracy  precision  recall  f1_score  \\\n",
       "logistic_regression                  0.980      0.980   0.980     0.980   \n",
       "decision_tree                        0.784      0.790   0.784     0.784   \n",
       "random_forest                        0.780      0.850   0.780     0.765   \n",
       "k_nearest_neighbors                  0.936      0.944   0.936     0.936   \n",
       "multinomial_naive_bayes              0.948      0.952   0.948     0.947   \n",
       "extreme_gradient_boosting            0.968      0.968   0.968     0.968   \n",
       "linear_support_vector_classifier     0.976      0.976   0.976     0.976   \n",
       "neural_network_transformer           0.976      0.977   0.976     0.976   \n",
       "\n",
       "                                  roc_auc  \n",
       "logistic_regression                 0.999  \n",
       "decision_tree                       0.865  \n",
       "random_forest                       0.992  \n",
       "k_nearest_neighbors                 0.991  \n",
       "multinomial_naive_bayes             1.000  \n",
       "extreme_gradient_boosting           0.998  \n",
       "linear_support_vector_classifier    1.000  \n",
       "neural_network_transformer            NaN  "
      ]
     },
     "execution_count": 70,
     "metadata": {},
     "output_type": "execute_result"
    }
   ],
   "source": [
    "eval_scores_df = pd.DataFrame.from_dict(models_scores)\n",
    "eval_scores_df = eval_scores_df.set_index([pd.Index(models_evaluated)])\n",
    "eval_scores_df"
   ]
  },
  {
   "cell_type": "code",
   "execution_count": 71,
   "metadata": {},
   "outputs": [
    {
     "name": "stdout",
     "output_type": "stream",
     "text": [
      " confusion matrix for model: logistic regression\n"
     ]
    },
    {
     "data": {
      "image/png": "[encoded data removed]",
      "text/plain": [
       "<Figure size 432x288 with 2 Axes>"
      ]
     },
     "metadata": {
      "needs_background": "light"
     },
     "output_type": "display_data"
    }
   ],
   "source": [
    "display_matrix(lr_cm, 'logistic regression')"
   ]
  },
  {
   "cell_type": "code",
   "execution_count": 72,
   "metadata": {},
   "outputs": [
    {
     "name": "stdout",
     "output_type": "stream",
     "text": [
      " confusion matrix for model: decision tree\n"
     ]
    },
    {
     "data": {
      "image/png": "[encoded data removed]",
      "text/plain": [
       "<Figure size 432x288 with 2 Axes>"
      ]
     },
     "metadata": {
      "needs_background": "light"
     },
     "output_type": "display_data"
    }
   ],
   "source": [
    "display_matrix(dt_cm, 'decision tree')"
   ]
  },
  {
   "cell_type": "code",
   "execution_count": 73,
   "metadata": {},
   "outputs": [
    {
     "name": "stdout",
     "output_type": "stream",
     "text": [
      " confusion matrix for model: random forest\n"
     ]
    },
    {
     "data": {
      "image/png": "[encoded data removed]",
      "text/plain": [
       "<Figure size 432x288 with 2 Axes>"
      ]
     },
     "metadata": {
      "needs_background": "light"
     },
     "output_type": "display_data"
    }
   ],
   "source": [
    "display_matrix(rf_cm, 'random forest')"
   ]
  },
  {
   "cell_type": "code",
   "execution_count": 74,
   "metadata": {},
   "outputs": [
    {
     "name": "stdout",
     "output_type": "stream",
     "text": [
      " confusion matrix for model: K-nearest neighbors\n"
     ]
    },
    {
     "data": {
      "image/png": "[encoded data removed]",
      "text/plain": [
       "<Figure size 432x288 with 2 Axes>"
      ]
     },
     "metadata": {
      "needs_background": "light"
     },
     "output_type": "display_data"
    }
   ],
   "source": [
    "display_matrix(knn_cm, 'K-nearest neighbors')"
   ]
  },
  {
   "cell_type": "code",
   "execution_count": 75,
   "metadata": {},
   "outputs": [
    {
     "name": "stdout",
     "output_type": "stream",
     "text": [
      " confusion matrix for model: multinomial naive bayes\n"
     ]
    },
    {
     "data": {
      "image/png": "[encoded data removed]",
      "text/plain": [
       "<Figure size 432x288 with 2 Axes>"
      ]
     },
     "metadata": {
      "needs_background": "light"
     },
     "output_type": "display_data"
    }
   ],
   "source": [
    "display_matrix(mnb_cm, 'multinomial naive bayes')"
   ]
  },
  {
   "cell_type": "code",
   "execution_count": 76,
   "metadata": {},
   "outputs": [
    {
     "name": "stdout",
     "output_type": "stream",
     "text": [
      " confusion matrix for model: extreme gradient boosting\n"
     ]
    },
    {
     "data": {
      "image/png": "[encoded data removed]",
      "text/plain": [
       "<Figure size 432x288 with 2 Axes>"
      ]
     },
     "metadata": {
      "needs_background": "light"
     },
     "output_type": "display_data"
    }
   ],
   "source": [
    "display_matrix(xgb_cm, 'extreme gradient boosting')"
   ]
  },
  {
   "cell_type": "code",
   "execution_count": 77,
   "metadata": {},
   "outputs": [
    {
     "name": "stdout",
     "output_type": "stream",
     "text": [
      " confusion matrix for model: linear support vector machine\n"
     ]
    },
    {
     "data": {
      "image/png": "[encoded data removed]",
      "text/plain": [
       "<Figure size 432x288 with 2 Axes>"
      ]
     },
     "metadata": {
      "needs_background": "light"
     },
     "output_type": "display_data"
    }
   ],
   "source": [
    "display_matrix(lsvc_cm, 'linear support vector machine')"
   ]
  },
  {
   "cell_type": "code",
   "execution_count": 78,
   "metadata": {},
   "outputs": [
    {
     "name": "stdout",
     "output_type": "stream",
     "text": [
      " confusion matrix for model: neural network - transformer\n"
     ]
    },
    {
     "data": {
      "image/png": "[encoded data removed]",
      "text/plain": [
       "<Figure size 432x288 with 2 Axes>"
      ]
     },
     "metadata": {
      "needs_background": "light"
     },
     "output_type": "display_data"
    }
   ],
   "source": [
    "display_matrix(nn_transformer_cm, 'neural network - transformer')"
   ]
  },
  {
   "cell_type": "markdown",
   "metadata": {},
   "source": [
    "**INSIGHT** across all metrics, logistic regression gave the best results as it had the highest scores in **accuracy**, **precision**, **recall**, and **f1 score**, while also showing near-perfect results in roc-auc and confusion matrix."
   ]
  },
  {
   "cell_type": "markdown",
   "metadata": {},
   "source": [
    "**NOTE** further hyperparameter tuning and configuration is needed for each of the models(especially DL models), so model determination process is not complete yet."
   ]
  },
  {
   "cell_type": "markdown",
   "metadata": {},
   "source": [
    "based on the results, I decided to choose logistic regression as the final model, as it provided excellent results while also being a simple and fast model to build and train."
   ]
  },
  {
   "cell_type": "code",
   "execution_count": 79,
   "metadata": {},
   "outputs": [
    {
     "data": {
      "text/plain": [
       "LogisticRegression()"
      ]
     },
     "execution_count": 79,
     "metadata": {},
     "output_type": "execute_result"
    }
   ],
   "source": [
    "determined_model = lr\n",
    "lr"
   ]
  },
  {
   "cell_type": "markdown",
   "metadata": {},
   "source": [
    "# 6- Using built model to implement the solution to the problem"
   ]
  },
  {
   "cell_type": "markdown",
   "metadata": {},
   "source": [
    "## 6.1 composing the question bank"
   ]
  },
  {
   "cell_type": "code",
   "execution_count": 80,
   "metadata": {
    "collapsed": true
   },
   "outputs": [
    {
     "data": {
      "text/html": [
       "<div>\n",
       "<style scoped>\n",
       "    .dataframe tbody tr th:only-of-type {\n",
       "        vertical-align: middle;\n",
       "    }\n",
       "\n",
       "    .dataframe tbody tr th {\n",
       "        vertical-align: top;\n",
       "    }\n",
       "\n",
       "    .dataframe thead th {\n",
       "        text-align: right;\n",
       "    }\n",
       "</style>\n",
       "<table border=\"1\" class=\"dataframe\">\n",
       "  <thead>\n",
       "    <tr style=\"text-align: right;\">\n",
       "      <th></th>\n",
       "      <th>reading_passage</th>\n",
       "    </tr>\n",
       "  </thead>\n",
       "  <tbody>\n",
       "    <tr>\n",
       "      <th>0</th>\n",
       "      <td>Ad sales boost Time Warner profit\\n\\nQuarterly...</td>\n",
       "    </tr>\n",
       "    <tr>\n",
       "      <th>1</th>\n",
       "      <td>Dollar gains on Greenspan speech\\n\\nThe dollar...</td>\n",
       "    </tr>\n",
       "    <tr>\n",
       "      <th>2</th>\n",
       "      <td>Yukos unit buyer faces loan claim\\n\\nThe owner...</td>\n",
       "    </tr>\n",
       "    <tr>\n",
       "      <th>3</th>\n",
       "      <td>High fuel prices hit BA's profits\\n\\nBritish A...</td>\n",
       "    </tr>\n",
       "    <tr>\n",
       "      <th>4</th>\n",
       "      <td>Pernod takeover talk lifts Domecq\\n\\nShares in...</td>\n",
       "    </tr>\n",
       "    <tr>\n",
       "      <th>...</th>\n",
       "      <td>...</td>\n",
       "    </tr>\n",
       "    <tr>\n",
       "      <th>2220</th>\n",
       "      <td>BT program to beat dialler scams\\n\\nBT is intr...</td>\n",
       "    </tr>\n",
       "    <tr>\n",
       "      <th>2221</th>\n",
       "      <td>Spam e-mails tempt net shoppers\\n\\nComputer us...</td>\n",
       "    </tr>\n",
       "    <tr>\n",
       "      <th>2222</th>\n",
       "      <td>Be careful how you code\\n\\nA new European dire...</td>\n",
       "    </tr>\n",
       "    <tr>\n",
       "      <th>2223</th>\n",
       "      <td>US cyber security chief resigns\\n\\nThe man mak...</td>\n",
       "    </tr>\n",
       "    <tr>\n",
       "      <th>2224</th>\n",
       "      <td>Losing yourself in online gaming\\n\\nOnline rol...</td>\n",
       "    </tr>\n",
       "  </tbody>\n",
       "</table>\n",
       "<p>2225 rows × 1 columns</p>\n",
       "</div>"
      ],
      "text/plain": [
       "                                        reading_passage\n",
       "0     Ad sales boost Time Warner profit\\n\\nQuarterly...\n",
       "1     Dollar gains on Greenspan speech\\n\\nThe dollar...\n",
       "2     Yukos unit buyer faces loan claim\\n\\nThe owner...\n",
       "3     High fuel prices hit BA's profits\\n\\nBritish A...\n",
       "4     Pernod takeover talk lifts Domecq\\n\\nShares in...\n",
       "...                                                 ...\n",
       "2220  BT program to beat dialler scams\\n\\nBT is intr...\n",
       "2221  Spam e-mails tempt net shoppers\\n\\nComputer us...\n",
       "2222  Be careful how you code\\n\\nA new European dire...\n",
       "2223  US cyber security chief resigns\\n\\nThe man mak...\n",
       "2224  Losing yourself in online gaming\\n\\nOnline rol...\n",
       "\n",
       "[2225 rows x 1 columns]"
      ]
     },
     "execution_count": 80,
     "metadata": {},
     "output_type": "execute_result"
    }
   ],
   "source": [
    "Question_bank = train_df.append(test_df)\n",
    "Question_bank = Question_bank.reset_index(drop=True)\n",
    "Question_bank = Question_bank.drop(['passage_topic'], axis=1)\n",
    "Question_bank"
   ]
  },
  {
   "cell_type": "markdown",
   "metadata": {},
   "source": [
    "## 6.2 adding new passages"
   ]
  },
  {
   "cell_type": "markdown",
   "metadata": {},
   "source": [
    "for example, if there are new passages to be added to the question bank, the new data must be processed and used to retrain the model, before being added to the system."
   ]
  },
  {
   "cell_type": "markdown",
   "metadata": {},
   "source": [
    "**NOTE** the data is used is drawn as a random sample from the data we already, as my intention is to show the implemention and mechansim of importing new data to the system, disregarding performance considerations as it would require scrapped data that is annotated by experts to make novel new data, and instead focus on how the new data should be managed when it gets imported to the new system"
   ]
  },
  {
   "cell_type": "markdown",
   "metadata": {},
   "source": [
    "### 6.2.1 fabricating the new data (in csv format)"
   ]
  },
  {
   "cell_type": "code",
   "execution_count": 101,
   "metadata": {},
   "outputs": [],
   "source": [
    "# it's only as sample of the previous data we already had\n",
    "new_data = cleaned_test_df.sample(100)\n",
    "new_data['passage_topic'] = new_data['passage_topic'].apply(lambda x: encoding_to_label(x))\n",
    "new_data.to_csv('new_data.csv', index=False)"
   ]
  },
  {
   "cell_type": "code",
   "execution_count": 103,
   "metadata": {
    "collapsed": true
   },
   "outputs": [
    {
     "data": {
      "text/html": [
       "<div>\n",
       "<style scoped>\n",
       "    .dataframe tbody tr th:only-of-type {\n",
       "        vertical-align: middle;\n",
       "    }\n",
       "\n",
       "    .dataframe tbody tr th {\n",
       "        vertical-align: top;\n",
       "    }\n",
       "\n",
       "    .dataframe thead th {\n",
       "        text-align: right;\n",
       "    }\n",
       "</style>\n",
       "<table border=\"1\" class=\"dataframe\">\n",
       "  <thead>\n",
       "    <tr style=\"text-align: right;\">\n",
       "      <th></th>\n",
       "      <th>reading_passage</th>\n",
       "      <th>passage_topic</th>\n",
       "    </tr>\n",
       "  </thead>\n",
       "  <tbody>\n",
       "    <tr>\n",
       "      <th>67</th>\n",
       "      <td>stars shine on bafta red carpet  hollywood sta...</td>\n",
       "      <td>entertainment</td>\n",
       "    </tr>\n",
       "    <tr>\n",
       "      <th>173</th>\n",
       "      <td>koubek suspended after drugs test  stefan koub...</td>\n",
       "      <td>sport</td>\n",
       "    </tr>\n",
       "    <tr>\n",
       "      <th>146</th>\n",
       "      <td>blair 'up for it' ahead of poll  tony blair sa...</td>\n",
       "      <td>politics</td>\n",
       "    </tr>\n",
       "    <tr>\n",
       "      <th>30</th>\n",
       "      <td>indonesia 'declines debt freeze'  indonesia no...</td>\n",
       "      <td>business</td>\n",
       "    </tr>\n",
       "    <tr>\n",
       "      <th>174</th>\n",
       "      <td>hewitt fights back to reach final  lleyton hew...</td>\n",
       "      <td>sport</td>\n",
       "    </tr>\n",
       "    <tr>\n",
       "      <th>...</th>\n",
       "      <td>...</td>\n",
       "      <td>...</td>\n",
       "    </tr>\n",
       "    <tr>\n",
       "      <th>125</th>\n",
       "      <td>parliament's record of scandal  in a locked ro...</td>\n",
       "      <td>politics</td>\n",
       "    </tr>\n",
       "    <tr>\n",
       "      <th>63</th>\n",
       "      <td>ray dvd beats box office takings  oscar-nomina...</td>\n",
       "      <td>entertainment</td>\n",
       "    </tr>\n",
       "    <tr>\n",
       "      <th>16</th>\n",
       "      <td>jp morgan admits us slavery links  thousands o...</td>\n",
       "      <td>business</td>\n",
       "    </tr>\n",
       "    <tr>\n",
       "      <th>197</th>\n",
       "      <td>melzer shocks agassi in san jose  second seed ...</td>\n",
       "      <td>sport</td>\n",
       "    </tr>\n",
       "    <tr>\n",
       "      <th>145</th>\n",
       "      <td>sainsbury's labour election gift  science mini...</td>\n",
       "      <td>politics</td>\n",
       "    </tr>\n",
       "  </tbody>\n",
       "</table>\n",
       "<p>100 rows × 2 columns</p>\n",
       "</div>"
      ],
      "text/plain": [
       "                                       reading_passage  passage_topic\n",
       "67   stars shine on bafta red carpet  hollywood sta...  entertainment\n",
       "173  koubek suspended after drugs test  stefan koub...          sport\n",
       "146  blair 'up for it' ahead of poll  tony blair sa...       politics\n",
       "30   indonesia 'declines debt freeze'  indonesia no...       business\n",
       "174  hewitt fights back to reach final  lleyton hew...          sport\n",
       "..                                                 ...            ...\n",
       "125  parliament's record of scandal  in a locked ro...       politics\n",
       "63   ray dvd beats box office takings  oscar-nomina...  entertainment\n",
       "16   jp morgan admits us slavery links  thousands o...       business\n",
       "197  melzer shocks agassi in san jose  second seed ...          sport\n",
       "145  sainsbury's labour election gift  science mini...       politics\n",
       "\n",
       "[100 rows x 2 columns]"
      ]
     },
     "execution_count": 103,
     "metadata": {},
     "output_type": "execute_result"
    }
   ],
   "source": [
    "new_data"
   ]
  },
  {
   "cell_type": "markdown",
   "metadata": {},
   "source": [
    "### 6.2.2 data integration"
   ]
  },
  {
   "cell_type": "code",
   "execution_count": 105,
   "metadata": {
    "collapsed": true
   },
   "outputs": [
    {
     "data": {
      "text/html": [
       "<div>\n",
       "<style scoped>\n",
       "    .dataframe tbody tr th:only-of-type {\n",
       "        vertical-align: middle;\n",
       "    }\n",
       "\n",
       "    .dataframe tbody tr th {\n",
       "        vertical-align: top;\n",
       "    }\n",
       "\n",
       "    .dataframe thead th {\n",
       "        text-align: right;\n",
       "    }\n",
       "</style>\n",
       "<table border=\"1\" class=\"dataframe\">\n",
       "  <thead>\n",
       "    <tr style=\"text-align: right;\">\n",
       "      <th></th>\n",
       "      <th>reading_passage</th>\n",
       "      <th>passage_topic</th>\n",
       "    </tr>\n",
       "  </thead>\n",
       "  <tbody>\n",
       "    <tr>\n",
       "      <th>0</th>\n",
       "      <td>stars shine on bafta red carpet  hollywood sta...</td>\n",
       "      <td>entertainment</td>\n",
       "    </tr>\n",
       "    <tr>\n",
       "      <th>1</th>\n",
       "      <td>koubek suspended after drugs test  stefan koub...</td>\n",
       "      <td>sport</td>\n",
       "    </tr>\n",
       "    <tr>\n",
       "      <th>2</th>\n",
       "      <td>blair 'up for it' ahead of poll  tony blair sa...</td>\n",
       "      <td>politics</td>\n",
       "    </tr>\n",
       "    <tr>\n",
       "      <th>3</th>\n",
       "      <td>indonesia 'declines debt freeze'  indonesia no...</td>\n",
       "      <td>business</td>\n",
       "    </tr>\n",
       "    <tr>\n",
       "      <th>4</th>\n",
       "      <td>hewitt fights back to reach final  lleyton hew...</td>\n",
       "      <td>sport</td>\n",
       "    </tr>\n",
       "    <tr>\n",
       "      <th>...</th>\n",
       "      <td>...</td>\n",
       "      <td>...</td>\n",
       "    </tr>\n",
       "    <tr>\n",
       "      <th>95</th>\n",
       "      <td>parliament's record of scandal  in a locked ro...</td>\n",
       "      <td>politics</td>\n",
       "    </tr>\n",
       "    <tr>\n",
       "      <th>96</th>\n",
       "      <td>ray dvd beats box office takings  oscar-nomina...</td>\n",
       "      <td>entertainment</td>\n",
       "    </tr>\n",
       "    <tr>\n",
       "      <th>97</th>\n",
       "      <td>jp morgan admits us slavery links  thousands o...</td>\n",
       "      <td>business</td>\n",
       "    </tr>\n",
       "    <tr>\n",
       "      <th>98</th>\n",
       "      <td>melzer shocks agassi in san jose  second seed ...</td>\n",
       "      <td>sport</td>\n",
       "    </tr>\n",
       "    <tr>\n",
       "      <th>99</th>\n",
       "      <td>sainsbury's labour election gift  science mini...</td>\n",
       "      <td>politics</td>\n",
       "    </tr>\n",
       "  </tbody>\n",
       "</table>\n",
       "<p>100 rows × 2 columns</p>\n",
       "</div>"
      ],
      "text/plain": [
       "                                      reading_passage  passage_topic\n",
       "0   stars shine on bafta red carpet  hollywood sta...  entertainment\n",
       "1   koubek suspended after drugs test  stefan koub...          sport\n",
       "2   blair 'up for it' ahead of poll  tony blair sa...       politics\n",
       "3   indonesia 'declines debt freeze'  indonesia no...       business\n",
       "4   hewitt fights back to reach final  lleyton hew...          sport\n",
       "..                                                ...            ...\n",
       "95  parliament's record of scandal  in a locked ro...       politics\n",
       "96  ray dvd beats box office takings  oscar-nomina...  entertainment\n",
       "97  jp morgan admits us slavery links  thousands o...       business\n",
       "98  melzer shocks agassi in san jose  second seed ...          sport\n",
       "99  sainsbury's labour election gift  science mini...       politics\n",
       "\n",
       "[100 rows x 2 columns]"
      ]
     },
     "execution_count": 105,
     "metadata": {},
     "output_type": "execute_result"
    }
   ],
   "source": [
    "new_df = pd.read_csv('new_data.csv')\n",
    "new_df"
   ]
  },
  {
   "cell_type": "code",
   "execution_count": 106,
   "metadata": {
    "collapsed": true
   },
   "outputs": [
    {
     "data": {
      "text/html": [
       "<div>\n",
       "<style scoped>\n",
       "    .dataframe tbody tr th:only-of-type {\n",
       "        vertical-align: middle;\n",
       "    }\n",
       "\n",
       "    .dataframe tbody tr th {\n",
       "        vertical-align: top;\n",
       "    }\n",
       "\n",
       "    .dataframe thead th {\n",
       "        text-align: right;\n",
       "    }\n",
       "</style>\n",
       "<table border=\"1\" class=\"dataframe\">\n",
       "  <thead>\n",
       "    <tr style=\"text-align: right;\">\n",
       "      <th></th>\n",
       "      <th>reading_passage</th>\n",
       "      <th>passage_topic</th>\n",
       "    </tr>\n",
       "  </thead>\n",
       "  <tbody>\n",
       "    <tr>\n",
       "      <th>0</th>\n",
       "      <td>stars shine on bafta red carpet  hollywood sta...</td>\n",
       "      <td>1</td>\n",
       "    </tr>\n",
       "    <tr>\n",
       "      <th>1</th>\n",
       "      <td>koubek suspended after drugs test  stefan koub...</td>\n",
       "      <td>3</td>\n",
       "    </tr>\n",
       "    <tr>\n",
       "      <th>2</th>\n",
       "      <td>blair 'up for it' ahead of poll  tony blair sa...</td>\n",
       "      <td>2</td>\n",
       "    </tr>\n",
       "    <tr>\n",
       "      <th>3</th>\n",
       "      <td>indonesia 'declines debt freeze'  indonesia no...</td>\n",
       "      <td>0</td>\n",
       "    </tr>\n",
       "    <tr>\n",
       "      <th>4</th>\n",
       "      <td>hewitt fights back to reach final  lleyton hew...</td>\n",
       "      <td>3</td>\n",
       "    </tr>\n",
       "    <tr>\n",
       "      <th>...</th>\n",
       "      <td>...</td>\n",
       "      <td>...</td>\n",
       "    </tr>\n",
       "    <tr>\n",
       "      <th>95</th>\n",
       "      <td>parliament's record of scandal  in a locked ro...</td>\n",
       "      <td>2</td>\n",
       "    </tr>\n",
       "    <tr>\n",
       "      <th>96</th>\n",
       "      <td>ray dvd beats box office takings  oscar-nomina...</td>\n",
       "      <td>1</td>\n",
       "    </tr>\n",
       "    <tr>\n",
       "      <th>97</th>\n",
       "      <td>jp morgan admits us slavery links  thousands o...</td>\n",
       "      <td>0</td>\n",
       "    </tr>\n",
       "    <tr>\n",
       "      <th>98</th>\n",
       "      <td>melzer shocks agassi in san jose  second seed ...</td>\n",
       "      <td>3</td>\n",
       "    </tr>\n",
       "    <tr>\n",
       "      <th>99</th>\n",
       "      <td>sainsbury's labour election gift  science mini...</td>\n",
       "      <td>2</td>\n",
       "    </tr>\n",
       "  </tbody>\n",
       "</table>\n",
       "<p>100 rows × 2 columns</p>\n",
       "</div>"
      ],
      "text/plain": [
       "                                      reading_passage  passage_topic\n",
       "0   stars shine on bafta red carpet  hollywood sta...              1\n",
       "1   koubek suspended after drugs test  stefan koub...              3\n",
       "2   blair 'up for it' ahead of poll  tony blair sa...              2\n",
       "3   indonesia 'declines debt freeze'  indonesia no...              0\n",
       "4   hewitt fights back to reach final  lleyton hew...              3\n",
       "..                                                ...            ...\n",
       "95  parliament's record of scandal  in a locked ro...              2\n",
       "96  ray dvd beats box office takings  oscar-nomina...              1\n",
       "97  jp morgan admits us slavery links  thousands o...              0\n",
       "98  melzer shocks agassi in san jose  second seed ...              3\n",
       "99  sainsbury's labour election gift  science mini...              2\n",
       "\n",
       "[100 rows x 2 columns]"
      ]
     },
     "execution_count": 106,
     "metadata": {},
     "output_type": "execute_result"
    }
   ],
   "source": [
    "new_df = encode_class(new_df, 'passage_topic')\n",
    "new_df"
   ]
  },
  {
   "cell_type": "code",
   "execution_count": 116,
   "metadata": {
    "collapsed": true
   },
   "outputs": [
    {
     "data": {
      "text/html": [
       "<div>\n",
       "<style scoped>\n",
       "    .dataframe tbody tr th:only-of-type {\n",
       "        vertical-align: middle;\n",
       "    }\n",
       "\n",
       "    .dataframe tbody tr th {\n",
       "        vertical-align: top;\n",
       "    }\n",
       "\n",
       "    .dataframe thead th {\n",
       "        text-align: right;\n",
       "    }\n",
       "</style>\n",
       "<table border=\"1\" class=\"dataframe\">\n",
       "  <thead>\n",
       "    <tr style=\"text-align: right;\">\n",
       "      <th></th>\n",
       "      <th>reading_passage</th>\n",
       "      <th>passage_topic</th>\n",
       "    </tr>\n",
       "  </thead>\n",
       "  <tbody>\n",
       "    <tr>\n",
       "      <th>0</th>\n",
       "      <td>Ad sales boost Time Warner profit\\n\\nQuarterly...</td>\n",
       "      <td>0</td>\n",
       "    </tr>\n",
       "    <tr>\n",
       "      <th>1</th>\n",
       "      <td>Dollar gains on Greenspan speech\\n\\nThe dollar...</td>\n",
       "      <td>0</td>\n",
       "    </tr>\n",
       "    <tr>\n",
       "      <th>2</th>\n",
       "      <td>Yukos unit buyer faces loan claim\\n\\nThe owner...</td>\n",
       "      <td>0</td>\n",
       "    </tr>\n",
       "    <tr>\n",
       "      <th>3</th>\n",
       "      <td>High fuel prices hit BA's profits\\n\\nBritish A...</td>\n",
       "      <td>0</td>\n",
       "    </tr>\n",
       "    <tr>\n",
       "      <th>4</th>\n",
       "      <td>Pernod takeover talk lifts Domecq\\n\\nShares in...</td>\n",
       "      <td>0</td>\n",
       "    </tr>\n",
       "    <tr>\n",
       "      <th>...</th>\n",
       "      <td>...</td>\n",
       "      <td>...</td>\n",
       "    </tr>\n",
       "    <tr>\n",
       "      <th>2320</th>\n",
       "      <td>parliament's record of scandal  in a locked ro...</td>\n",
       "      <td>2</td>\n",
       "    </tr>\n",
       "    <tr>\n",
       "      <th>2321</th>\n",
       "      <td>ray dvd beats box office takings  oscar-nomina...</td>\n",
       "      <td>1</td>\n",
       "    </tr>\n",
       "    <tr>\n",
       "      <th>2322</th>\n",
       "      <td>jp morgan admits us slavery links  thousands o...</td>\n",
       "      <td>0</td>\n",
       "    </tr>\n",
       "    <tr>\n",
       "      <th>2323</th>\n",
       "      <td>melzer shocks agassi in san jose  second seed ...</td>\n",
       "      <td>3</td>\n",
       "    </tr>\n",
       "    <tr>\n",
       "      <th>2324</th>\n",
       "      <td>sainsbury's labour election gift  science mini...</td>\n",
       "      <td>2</td>\n",
       "    </tr>\n",
       "  </tbody>\n",
       "</table>\n",
       "<p>2325 rows × 2 columns</p>\n",
       "</div>"
      ],
      "text/plain": [
       "                                        reading_passage  passage_topic\n",
       "0     Ad sales boost Time Warner profit\\n\\nQuarterly...              0\n",
       "1     Dollar gains on Greenspan speech\\n\\nThe dollar...              0\n",
       "2     Yukos unit buyer faces loan claim\\n\\nThe owner...              0\n",
       "3     High fuel prices hit BA's profits\\n\\nBritish A...              0\n",
       "4     Pernod takeover talk lifts Domecq\\n\\nShares in...              0\n",
       "...                                                 ...            ...\n",
       "2320  parliament's record of scandal  in a locked ro...              2\n",
       "2321  ray dvd beats box office takings  oscar-nomina...              1\n",
       "2322  jp morgan admits us slavery links  thousands o...              0\n",
       "2323  melzer shocks agassi in san jose  second seed ...              3\n",
       "2324  sainsbury's labour election gift  science mini...              2\n",
       "\n",
       "[2325 rows x 2 columns]"
      ]
     },
     "execution_count": 116,
     "metadata": {},
     "output_type": "execute_result"
    }
   ],
   "source": [
    "accumulated_new_df_pt = train_df.append(test_df)\n",
    "accumulated_new_df = accumulated_new_df_pt.append(new_df)\n",
    "accumulated_new_df = accumulated_new_df.reset_index(drop=True)\n",
    "accumulated_new_df"
   ]
  },
  {
   "cell_type": "markdown",
   "metadata": {},
   "source": [
    "### 6.2.3 data processing and preparation"
   ]
  },
  {
   "cell_type": "code",
   "execution_count": 127,
   "metadata": {},
   "outputs": [],
   "source": [
    "from sklearn.model_selection import train_test_split"
   ]
  },
  {
   "cell_type": "code",
   "execution_count": 120,
   "metadata": {},
   "outputs": [
    {
     "data": {
      "text/html": [
       "<div>\n",
       "<style scoped>\n",
       "    .dataframe tbody tr th:only-of-type {\n",
       "        vertical-align: middle;\n",
       "    }\n",
       "\n",
       "    .dataframe tbody tr th {\n",
       "        vertical-align: top;\n",
       "    }\n",
       "\n",
       "    .dataframe thead th {\n",
       "        text-align: right;\n",
       "    }\n",
       "</style>\n",
       "<table border=\"1\" class=\"dataframe\">\n",
       "  <thead>\n",
       "    <tr style=\"text-align: right;\">\n",
       "      <th></th>\n",
       "      <th>reading_passage</th>\n",
       "      <th>passage_topic</th>\n",
       "      <th>no_new_line</th>\n",
       "      <th>lower_case</th>\n",
       "      <th>tokenization</th>\n",
       "      <th>no_stopwords</th>\n",
       "      <th>lemmentization</th>\n",
       "    </tr>\n",
       "  </thead>\n",
       "  <tbody>\n",
       "    <tr>\n",
       "      <th>0</th>\n",
       "      <td>Ad sales boost Time Warner profit\\n\\nQuarterly...</td>\n",
       "      <td>0</td>\n",
       "      <td>Ad sales boost Time Warner profit  Quarterly p...</td>\n",
       "      <td>ad sales boost time warner profit  quarterly p...</td>\n",
       "      <td>ad sales boost time warner profit  quarterly p...</td>\n",
       "      <td>ad sales boost time warner profit  quarterly p...</td>\n",
       "      <td>ad sales boost time warner profit  quarterly p...</td>\n",
       "    </tr>\n",
       "    <tr>\n",
       "      <th>1</th>\n",
       "      <td>Dollar gains on Greenspan speech\\n\\nThe dollar...</td>\n",
       "      <td>0</td>\n",
       "      <td>Dollar gains on Greenspan speech  The dollar h...</td>\n",
       "      <td>dollar gains on greenspan speech  the dollar h...</td>\n",
       "      <td>dollar gains on greenspan speech  the dollar h...</td>\n",
       "      <td>dollar gains on greenspan speech  the dollar h...</td>\n",
       "      <td>dollar gains on greenspan speech  the dollar h...</td>\n",
       "    </tr>\n",
       "    <tr>\n",
       "      <th>2</th>\n",
       "      <td>Yukos unit buyer faces loan claim\\n\\nThe owner...</td>\n",
       "      <td>0</td>\n",
       "      <td>Yukos unit buyer faces loan claim  The owners ...</td>\n",
       "      <td>yukos unit buyer faces loan claim  the owners ...</td>\n",
       "      <td>yukos unit buyer faces loan claim  the owners ...</td>\n",
       "      <td>yukos unit buyer faces loan claim  the owners ...</td>\n",
       "      <td>yukos unit buyer faces loan claim  the owners ...</td>\n",
       "    </tr>\n",
       "    <tr>\n",
       "      <th>3</th>\n",
       "      <td>High fuel prices hit BA's profits\\n\\nBritish A...</td>\n",
       "      <td>0</td>\n",
       "      <td>High fuel prices hit BA's profits  British Air...</td>\n",
       "      <td>high fuel prices hit ba's profits  british air...</td>\n",
       "      <td>high fuel prices hit ba's profits  british air...</td>\n",
       "      <td>high fuel prices hit ba's profits  british air...</td>\n",
       "      <td>high fuel prices hit ba's profits  british air...</td>\n",
       "    </tr>\n",
       "    <tr>\n",
       "      <th>4</th>\n",
       "      <td>Pernod takeover talk lifts Domecq\\n\\nShares in...</td>\n",
       "      <td>0</td>\n",
       "      <td>Pernod takeover talk lifts Domecq  Shares in U...</td>\n",
       "      <td>pernod takeover talk lifts domecq  shares in u...</td>\n",
       "      <td>pernod takeover talk lifts domecq  shares in u...</td>\n",
       "      <td>pernod takeover talk lifts domecq  shares in u...</td>\n",
       "      <td>pernod takeover talk lifts domecq  shares in u...</td>\n",
       "    </tr>\n",
       "    <tr>\n",
       "      <th>...</th>\n",
       "      <td>...</td>\n",
       "      <td>...</td>\n",
       "      <td>...</td>\n",
       "      <td>...</td>\n",
       "      <td>...</td>\n",
       "      <td>...</td>\n",
       "      <td>...</td>\n",
       "    </tr>\n",
       "    <tr>\n",
       "      <th>2320</th>\n",
       "      <td>parliament's record of scandal  in a locked ro...</td>\n",
       "      <td>2</td>\n",
       "      <td>parliament's record of scandal  in a locked ro...</td>\n",
       "      <td>parliament's record of scandal  in a locked ro...</td>\n",
       "      <td>parliament's record of scandal  in a locked ro...</td>\n",
       "      <td>parliament's record of scandal  in a locked ro...</td>\n",
       "      <td>parliament's record of scandal  in a locked ro...</td>\n",
       "    </tr>\n",
       "    <tr>\n",
       "      <th>2321</th>\n",
       "      <td>ray dvd beats box office takings  oscar-nomina...</td>\n",
       "      <td>1</td>\n",
       "      <td>ray dvd beats box office takings  oscar-nomina...</td>\n",
       "      <td>ray dvd beats box office takings  oscar-nomina...</td>\n",
       "      <td>ray dvd beats box office takings  oscar-nomina...</td>\n",
       "      <td>ray dvd beats box office takings  oscar-nomina...</td>\n",
       "      <td>ray dvd beats box office takings  oscar-nomina...</td>\n",
       "    </tr>\n",
       "    <tr>\n",
       "      <th>2322</th>\n",
       "      <td>jp morgan admits us slavery links  thousands o...</td>\n",
       "      <td>0</td>\n",
       "      <td>jp morgan admits us slavery links  thousands o...</td>\n",
       "      <td>jp morgan admits us slavery links  thousands o...</td>\n",
       "      <td>jp morgan admits us slavery links  thousands o...</td>\n",
       "      <td>jp morgan admits us slavery links  thousands o...</td>\n",
       "      <td>jp morgan admits us slavery links  thousands o...</td>\n",
       "    </tr>\n",
       "    <tr>\n",
       "      <th>2323</th>\n",
       "      <td>melzer shocks agassi in san jose  second seed ...</td>\n",
       "      <td>3</td>\n",
       "      <td>melzer shocks agassi in san jose  second seed ...</td>\n",
       "      <td>melzer shocks agassi in san jose  second seed ...</td>\n",
       "      <td>melzer shocks agassi in san jose  second seed ...</td>\n",
       "      <td>melzer shocks agassi in san jose  second seed ...</td>\n",
       "      <td>melzer shocks agassi in san jose  second seed ...</td>\n",
       "    </tr>\n",
       "    <tr>\n",
       "      <th>2324</th>\n",
       "      <td>sainsbury's labour election gift  science mini...</td>\n",
       "      <td>2</td>\n",
       "      <td>sainsbury's labour election gift  science mini...</td>\n",
       "      <td>sainsbury's labour election gift  science mini...</td>\n",
       "      <td>sainsbury's labour election gift  science mini...</td>\n",
       "      <td>sainsbury's labour election gift  science mini...</td>\n",
       "      <td>sainsbury's labour election gift  science mini...</td>\n",
       "    </tr>\n",
       "  </tbody>\n",
       "</table>\n",
       "<p>2325 rows × 7 columns</p>\n",
       "</div>"
      ],
      "text/plain": [
       "                                        reading_passage  passage_topic  \\\n",
       "0     Ad sales boost Time Warner profit\\n\\nQuarterly...              0   \n",
       "1     Dollar gains on Greenspan speech\\n\\nThe dollar...              0   \n",
       "2     Yukos unit buyer faces loan claim\\n\\nThe owner...              0   \n",
       "3     High fuel prices hit BA's profits\\n\\nBritish A...              0   \n",
       "4     Pernod takeover talk lifts Domecq\\n\\nShares in...              0   \n",
       "...                                                 ...            ...   \n",
       "2320  parliament's record of scandal  in a locked ro...              2   \n",
       "2321  ray dvd beats box office takings  oscar-nomina...              1   \n",
       "2322  jp morgan admits us slavery links  thousands o...              0   \n",
       "2323  melzer shocks agassi in san jose  second seed ...              3   \n",
       "2324  sainsbury's labour election gift  science mini...              2   \n",
       "\n",
       "                                            no_new_line  \\\n",
       "0     Ad sales boost Time Warner profit  Quarterly p...   \n",
       "1     Dollar gains on Greenspan speech  The dollar h...   \n",
       "2     Yukos unit buyer faces loan claim  The owners ...   \n",
       "3     High fuel prices hit BA's profits  British Air...   \n",
       "4     Pernod takeover talk lifts Domecq  Shares in U...   \n",
       "...                                                 ...   \n",
       "2320  parliament's record of scandal  in a locked ro...   \n",
       "2321  ray dvd beats box office takings  oscar-nomina...   \n",
       "2322  jp morgan admits us slavery links  thousands o...   \n",
       "2323  melzer shocks agassi in san jose  second seed ...   \n",
       "2324  sainsbury's labour election gift  science mini...   \n",
       "\n",
       "                                             lower_case  \\\n",
       "0     ad sales boost time warner profit  quarterly p...   \n",
       "1     dollar gains on greenspan speech  the dollar h...   \n",
       "2     yukos unit buyer faces loan claim  the owners ...   \n",
       "3     high fuel prices hit ba's profits  british air...   \n",
       "4     pernod takeover talk lifts domecq  shares in u...   \n",
       "...                                                 ...   \n",
       "2320  parliament's record of scandal  in a locked ro...   \n",
       "2321  ray dvd beats box office takings  oscar-nomina...   \n",
       "2322  jp morgan admits us slavery links  thousands o...   \n",
       "2323  melzer shocks agassi in san jose  second seed ...   \n",
       "2324  sainsbury's labour election gift  science mini...   \n",
       "\n",
       "                                           tokenization  \\\n",
       "0     ad sales boost time warner profit  quarterly p...   \n",
       "1     dollar gains on greenspan speech  the dollar h...   \n",
       "2     yukos unit buyer faces loan claim  the owners ...   \n",
       "3     high fuel prices hit ba's profits  british air...   \n",
       "4     pernod takeover talk lifts domecq  shares in u...   \n",
       "...                                                 ...   \n",
       "2320  parliament's record of scandal  in a locked ro...   \n",
       "2321  ray dvd beats box office takings  oscar-nomina...   \n",
       "2322  jp morgan admits us slavery links  thousands o...   \n",
       "2323  melzer shocks agassi in san jose  second seed ...   \n",
       "2324  sainsbury's labour election gift  science mini...   \n",
       "\n",
       "                                           no_stopwords  \\\n",
       "0     ad sales boost time warner profit  quarterly p...   \n",
       "1     dollar gains on greenspan speech  the dollar h...   \n",
       "2     yukos unit buyer faces loan claim  the owners ...   \n",
       "3     high fuel prices hit ba's profits  british air...   \n",
       "4     pernod takeover talk lifts domecq  shares in u...   \n",
       "...                                                 ...   \n",
       "2320  parliament's record of scandal  in a locked ro...   \n",
       "2321  ray dvd beats box office takings  oscar-nomina...   \n",
       "2322  jp morgan admits us slavery links  thousands o...   \n",
       "2323  melzer shocks agassi in san jose  second seed ...   \n",
       "2324  sainsbury's labour election gift  science mini...   \n",
       "\n",
       "                                         lemmentization  \n",
       "0     ad sales boost time warner profit  quarterly p...  \n",
       "1     dollar gains on greenspan speech  the dollar h...  \n",
       "2     yukos unit buyer faces loan claim  the owners ...  \n",
       "3     high fuel prices hit ba's profits  british air...  \n",
       "4     pernod takeover talk lifts domecq  shares in u...  \n",
       "...                                                 ...  \n",
       "2320  parliament's record of scandal  in a locked ro...  \n",
       "2321  ray dvd beats box office takings  oscar-nomina...  \n",
       "2322  jp morgan admits us slavery links  thousands o...  \n",
       "2323  melzer shocks agassi in san jose  second seed ...  \n",
       "2324  sainsbury's labour election gift  science mini...  \n",
       "\n",
       "[2325 rows x 7 columns]"
      ]
     },
     "execution_count": 120,
     "metadata": {},
     "output_type": "execute_result"
    }
   ],
   "source": [
    "accumulated_new_df['no_new_line'] = accumulated_new_df['reading_passage'].apply(lambda x: x.replace('\\n', ' '))\n",
    "accumulated_new_df['lower_case'] = accumulated_new_df['no_new_line'].apply(lambda x: x.lower())\n",
    "accumulated_new_df['tokenization'] = accumulated_new_df['lower_case'].apply(lambda x: tokenization(x))\n",
    "accumulated_new_df['no_stopwords'] = accumulated_new_df['tokenization'].apply(lambda x: remove_stopwords(x))\n",
    "accumulated_new_df['lemmentization'] = accumulated_new_df['no_stopwords'].apply(lambda x: lemmatizer(x))\n",
    "accumulated_new_df['tokenization'] = accumulated_new_df['tokenization'].apply(lambda x: ' '.join(x))\n",
    "accumulated_new_df['no_stopwords'] = accumulated_new_df['no_stopwords'].apply(lambda x: ' '.join(x))\n",
    "accumulated_new_df['lemmentization'] = accumulated_new_df['lemmentization'].apply(lambda x: ' '.join(x))\n",
    "accumulated_new_df"
   ]
  },
  {
   "cell_type": "code",
   "execution_count": 126,
   "metadata": {
    "scrolled": false
   },
   "outputs": [
    {
     "data": {
      "text/html": [
       "<div>\n",
       "<style scoped>\n",
       "    .dataframe tbody tr th:only-of-type {\n",
       "        vertical-align: middle;\n",
       "    }\n",
       "\n",
       "    .dataframe tbody tr th {\n",
       "        vertical-align: top;\n",
       "    }\n",
       "\n",
       "    .dataframe thead th {\n",
       "        text-align: right;\n",
       "    }\n",
       "</style>\n",
       "<table border=\"1\" class=\"dataframe\">\n",
       "  <thead>\n",
       "    <tr style=\"text-align: right;\">\n",
       "      <th></th>\n",
       "      <th>reading_passage</th>\n",
       "      <th>passage_topic</th>\n",
       "    </tr>\n",
       "  </thead>\n",
       "  <tbody>\n",
       "    <tr>\n",
       "      <th>0</th>\n",
       "      <td>ad sales boost time warner profit  quarterly p...</td>\n",
       "      <td>0</td>\n",
       "    </tr>\n",
       "    <tr>\n",
       "      <th>1</th>\n",
       "      <td>dollar gains on greenspan speech  the dollar h...</td>\n",
       "      <td>0</td>\n",
       "    </tr>\n",
       "    <tr>\n",
       "      <th>2</th>\n",
       "      <td>yukos unit buyer faces loan claim  the owners ...</td>\n",
       "      <td>0</td>\n",
       "    </tr>\n",
       "    <tr>\n",
       "      <th>3</th>\n",
       "      <td>high fuel prices hit ba's profits  british air...</td>\n",
       "      <td>0</td>\n",
       "    </tr>\n",
       "    <tr>\n",
       "      <th>4</th>\n",
       "      <td>pernod takeover talk lifts domecq  shares in u...</td>\n",
       "      <td>0</td>\n",
       "    </tr>\n",
       "    <tr>\n",
       "      <th>...</th>\n",
       "      <td>...</td>\n",
       "      <td>...</td>\n",
       "    </tr>\n",
       "    <tr>\n",
       "      <th>2320</th>\n",
       "      <td>parliament's record of scandal  in a locked ro...</td>\n",
       "      <td>2</td>\n",
       "    </tr>\n",
       "    <tr>\n",
       "      <th>2321</th>\n",
       "      <td>ray dvd beats box office takings  oscar-nomina...</td>\n",
       "      <td>1</td>\n",
       "    </tr>\n",
       "    <tr>\n",
       "      <th>2322</th>\n",
       "      <td>jp morgan admits us slavery links  thousands o...</td>\n",
       "      <td>0</td>\n",
       "    </tr>\n",
       "    <tr>\n",
       "      <th>2323</th>\n",
       "      <td>melzer shocks agassi in san jose  second seed ...</td>\n",
       "      <td>3</td>\n",
       "    </tr>\n",
       "    <tr>\n",
       "      <th>2324</th>\n",
       "      <td>sainsbury's labour election gift  science mini...</td>\n",
       "      <td>2</td>\n",
       "    </tr>\n",
       "  </tbody>\n",
       "</table>\n",
       "<p>2325 rows × 2 columns</p>\n",
       "</div>"
      ],
      "text/plain": [
       "                                        reading_passage  passage_topic\n",
       "0     ad sales boost time warner profit  quarterly p...              0\n",
       "1     dollar gains on greenspan speech  the dollar h...              0\n",
       "2     yukos unit buyer faces loan claim  the owners ...              0\n",
       "3     high fuel prices hit ba's profits  british air...              0\n",
       "4     pernod takeover talk lifts domecq  shares in u...              0\n",
       "...                                                 ...            ...\n",
       "2320  parliament's record of scandal  in a locked ro...              2\n",
       "2321  ray dvd beats box office takings  oscar-nomina...              1\n",
       "2322  jp morgan admits us slavery links  thousands o...              0\n",
       "2323  melzer shocks agassi in san jose  second seed ...              3\n",
       "2324  sainsbury's labour election gift  science mini...              2\n",
       "\n",
       "[2325 rows x 2 columns]"
      ]
     },
     "execution_count": 126,
     "metadata": {},
     "output_type": "execute_result"
    }
   ],
   "source": [
    "new_processed_df = accumulated_new_df.copy()\n",
    "new_processed_df['reading_passage'] = new_processed_df['lemmentization']\n",
    "new_processed_df = new_processed_df[['reading_passage', 'passage_topic']]\n",
    "new_processed_df\n",
    "\n",
    "# LATER: add mechanism to prevent updating data to its processed version if it results in information loss"
   ]
  },
  {
   "cell_type": "code",
   "execution_count": 133,
   "metadata": {},
   "outputs": [
    {
     "data": {
      "text/plain": [
       "((1999,), (326,), (1999,), (326,))"
      ]
     },
     "execution_count": 133,
     "metadata": {},
     "output_type": "execute_result"
    }
   ],
   "source": [
    "X = new_processed_df['reading_passage'].values\n",
    "y = new_processed_df['passage_topic'].values\n",
    "X_train, X_test, y_train, y_test = train_test_split(X, y, test_size=0.14, random_state=1)\n",
    "\n",
    "X_train.shape, X_test.shape, y_train.shape, y_test.shape"
   ]
  },
  {
   "cell_type": "code",
   "execution_count": 134,
   "metadata": {
    "collapsed": true
   },
   "outputs": [
    {
     "data": {
      "text/plain": [
       "array(['pupils to get anti-piracy lessons  lessons on music piracy and copyright issues are to be taught to secondary school pupils in the uk.  the lessons, aimed at 11 to 14-year-olds, will introduce them to copyright - including the issues of downloading from the internet and the illegal copying of cds - and its role in protecting creativity.  music piracy, including illegally swapping music online, costs the uk music industry millions every year and has been blamed for a decline in world-wide cd sales. british music rights (bmr) - which was formed to represent the interests of songwriters and composers - worked with education experts to put together a learning pack.  songwriter guy chambers, who has worked with stars including robbie williams, has thrown his support behind the scheme. he said as well as educating children about music piracy, it would also protect young people planning a career in the music industry from \"unscrupulous\" individuals. at a debate in london to launch the scheme, chambers said: \"i think it is important that young people receive practical and engaging learning in schools. \"these lessons will give them an insight into how the creative industries work which will help them in possible future careers.\" the education pack, which has already been requested by more than 1,600 secondary schools, is aimed at giving children an understanding of copyright in relation to the music industry. it will also teach children about the importance of royalties and raises awareness of different careers in the music industry, particularly in the digital age.  henri yoxall, general manager of british music rights, told bbc news schools had been crying out for a resource to help them educate pupils about the issues. the scheme - which is an extension of bmr\\'s respect the value of music campaign - is also being backed by singer-songwriters feargal sharkey, lucie silvas and grammy award-winning composer david arnold. silvas said: \"i think it is so important that students gain an understanding of how the music industry works when they are at a young age. \"i wish i had been given an opportunity like this when i was at school.\" emma pike, director general of british music rights, said: \"we believe that copyright is an essential part of teaching music in schools. it is vital that the creatives of the future know how to turn their ideas into value. \"copyright education has always been important... creatives are facing more challenges and more opportunities from technological change. \"technology is allowing people to create music and distribute their music to the public in a whole host of new ways.\" ',\n",
       "       'fox attacks blair\\'s tory \\'lies\\'  tony blair lied when he took the uk to war so has no qualms about lying in the election campaign, say the tories.  tory co-chairman liam fox was speaking after mr blair told labour members the tories offered a \"hard right agenda\". dr fox told bbc radio: \"if you are willing to lie about the reasons for going to war, i guess you are going to lie about anything at all.\" he would not discuss reports the party repaid â£500,000 to lord ashcroft after he predicted an election defeat.  the prime minister ratcheted up labour\\'s pre-election campaigning at the weekend with a helicopter tour of the country and his speech at the party\\'s spring conference. he insisted he did not know the poll date, but it is widely expected to be 5 may.  in what was seen as a highly personal speech in gateshead on sunday, mr blair said: \"i have the same passion and hunger as when i first walked through the door of 10 downing street.\" he described his relationship with the public as starting euphoric, then struggling to live up to the expectations, and reaching the point of raised voices and \"throwing crockery\". he warned his supporters against complacency, saying: \"it\\'s a fight for the future of our country, it\\'s a fight that for britain and the people of britain we have to win.\"  mr blair said that whether the public chose michael howard or mr kennedy, it would result in \"a tory government not a labour government and a country that goes back and does not move forward\". dr fox accused mr blair and other cabinet ministers of telling lies about their opponents\\' policies and then attacking the lies. \"what we learned at the weekend is what labour tactics are going to be and it\\'s going to be fear and smear,\" he told bbc news. the tory co-chairman attacked labour\\'s six new pledges as \"vacuous\" and said mr blair was very worried voters would take revenge for his failure to deliver. dr fox refused to discuss weekend newspaper reports that the party had repaid â£500,000 to former tory treasurer lord ashcroft after he said the party could not win the election. \"we repay loans when they are due but do not comment to individual financial matters,\" he said, insisting he enjoyed a \"warm and constructive\" relationship to lord ashcroft.  meanwhile lib dem leader charles kennedy is expected to attack mr blair\\'s words as he begins a nationwide tour on monday. mr kennedy is accelerating lib dem election preparations this week as he visits manchester, liverpool, leicester, somerset, basingstoke, shrewsbury, dorset and torbay. he said: \"this is three-party politics. in the northern cities, the contest is between labour and the liberal democrats. \"in southern and rural seats - especially in the south west - the principal contenders are the liberal democrats and the conservatives, who are out of the running in scotland and wales.\" the lib dems accuse mr blair of making a \"touchy-feely\" speech to labour delegates which will not help him regain public trust. ',\n",
       "       'research fears over kelly\\'s views  scientists have expressed concerns that new education secretary ruth kelly\\'s religious views could hamper vital scientific research.  ms kelly, who is catholic, is reported to be \"pro-life\" and has opposed embryo research. medical research council professor nancy rothwell said ms kelly\\'s views mattered as she was responsible for training future scientists. the department for education and skills would not comment on the concerns.  a spokeswoman said: \"it is not news that ms kelly is a catholic but we are not going into any details on this.\" but she added that claims ms kelly was in charge of a â£1bn university research budget were not true. it was down to the higher education funding council and the research councils to decide on universities\\' research allocations. british law is open to the cloning of human embryos to create stem cells, master cells that can develop into all the body\\'s tissue types. this cloning activity is not permitted for reproductive purposes - only for research into new disease treatments. however, it is controversial because it involves the destruction of embryos.  professor rothwell, who is also vice-president of research at manchester university, told the times higher education supplement it would worry her \"a great deal\" if ministers were anti-stem cell. she said: \"the views of ministers in the dfes do matter as they are responsible for training the next generation of scientists. \"you can\\'t have a higher education policy that is at odds with the government\\'s science policy.\" head of developmental genetics at the national institute of medical research, professor robin lovell-badge, said he had witnessed the confused situation in the us where many religious groups opposed the practice. he said: \"if someone as senior as ruth kelly is not going to favour stem cell research we will end up with a similarly schizophrenic system in this country. it is very worrying.\" but fertility expert lord winston said he thought it was \"rather good\" ministers held ethical views. concerns have also been raised by \"pro-choice\" organisations that ms kelly\\'s views might affect sex education policy in schools.  family planning association chief executive, anne weyman, said teaching pupils about contraception and abortion were key. \"young people must be informed about all the issues within sexual health, which include contraception and abortion. \"i think it is very important that the government maintains its commitment to the teenage pregnancy strategy.\" currently, individual schools devise their own sex education policies based on a framework provided by the dfes. ms kelly has not set out her detailed views on either issue yet, but has said she intends to put parents first in education policy. this would include the quality of teaching, classroom discipline and academic standards in schools, she said. ',\n",
       "       ...,\n",
       "       'taxes must be trusted - kennedy  public trust in taxes is breaking down because labour and tories are not being straight with people on the issue, lib dem leader charles kennedy has said.  a day ahead of the government\\'s pre-budget report, mr kennedy used a speech to say his party was facing up to \"painful economic realities\". he said the current level of taxation was about right, although he would put a new 50% tax on top earners. other parties have accused the lib dems of making uncosted promises. mr kennedy made it clear he was determined to counter that accusation. the lib dems have already published what they say are the full costings for all their plans and wednesday\\'s speech did not announce new policies.  speaking at the commonwealth club, mr kennedy said it was critical for a political party to have economic credibility, both on what it promised and what it was expected to deliver. he said. \"budgets have to add up. tough choices are needed in public spending.\" the lib dems would cut \"low priority\" spending, including the government\\'s id cards scheme and the child trust fund.  those cutbacks would free up funds for increasing basic state pensions for over-75s, putting more police on the streets and reintroducing fee eye and dental checks, he said. the lib dems argue they were honest about taxes in the past by calling for a 1p rise on income tax. now they say the only simple tax rise they want is a new 50% tax band for top earners to pay for scrapping university tuition fees, providing free personal care for elderly and disabled people and keeping local taxes down. there would also be a local income tax to replace council tax and a number of changes to environmental taxes to ensure it is the \"polluter who pays\".  the lib dems say the tories have only laid out possible options for cutting taxes to grab headlines while labour has hidden most of its tax rises. mr kennedy said: \"that contract with the people - that the government will only tax fairly and will spend their money wisely - can only be sustained if the political parties are straightforward about their plans. \"with the stealth tax strategy of gordon brown, the obvious unfairness of our current tax system - especially the council tax, and the empty promises of the conservative party on this issue - it is no wonder that trust in taxation is breaking down.\" he challenged the treasury to open up its books so the national audit office can report on the government\\'s performance.  conservative co-chairman liam fox said: liam fox said \"if charles kennedy is serious about making his budgets add up he should start by explaining how they would fund their 100 spending commitments. \"the reality is, the lib dems lack the courage to tackle waste and bureaucracy, and the only people who would face \\'tough choices\\' would be the families who would be â£630 worse off a year. \" and chancellor gordon brown said the lib dem figures did not add up. he accused the party of claiming it would spend less while across the country committing itself to spend more. ',\n",
       "       'card fraudsters \\'targeting web\\'  new safeguards on credit and debit card payments in shops has led fraudsters to focus on internet and phone payments, an anti-fraud agency has said.  anti-fraud consultancy retail decisions says \\'card-not-present\\' fraud, where goods are paid for online or by phone, has risen since the start of 2005. the introduction of \\'chip and pin\\' cards has tightened security for transactions on the high street. but the clampdown has caused fraudsters to change tack, retail decisions said.  the introduction of chip and pin cards aimed to cut down on credit card fraud in stores by asking shoppers to verify their identity with a confidential personal pin number, instead of a signature. retail decisions chief executive carl clump told the bbc that there was \"no doubt\" that chip and pin would \"reduce card fraud in the card-present environment\". \"however, it is important to monitor what happens in the card-not-present environment as fraudsters will turn their attention to the internet, mail order, telephone order and interactive tv,\" he said. \"we have seen a 22% uplift in card-not-present fraud here in the uk... since the start of the year. \"fraud doesn\\'t just disappear, it mutates to the next weakest link in the chain,\" he said.  retail decisions\\' survey on the implementation of chip and pin found that shoppers had adapted easily to the new system, but that banks\\' performance in distributing the new cards had been patchy, at best. \"the main issue is that not everyone has the pins they need,\" said mr clump. nearly two thirds - 65% - of the 1,000 people interviewed said they had used chip and pin to make payments. of these, 83% were happy with the experience, though nearly a quarter said they struggled to remember their pin number. however, only 34% said they had received replacement cards with the necessary \\'chip\\' technology from all their card providers. furthermore, 16% said that none of their cards had been replaced, while 30% said only some had. uk shoppers spent â£5.3bn on plastic cards in 2003, the last full year for which figures are available from the association of payment clearing services (apacs). altogether, card scams on uk-issued cards totalled â£402.4m in 2003. card-not-present fraud rose an annual 6% to â£116.4m, making it the biggest category even then. within this, internet fraud totalled â£43m, apacs\\' figures show. ',\n",
       "       'peers debate crown succession law  peers are debating proposals to change the rules governing the succession to the throne.  labour peer lord dubs\\' succession to the crown bill aims to end the right of male heirs to succeed to the crown even if they have an older sister. the private member\\'s bill would also abolish the ban on heirs to the throne marrying roman catholics. the fabian society\\'s sundar katwala said the change was \"long overdue\" and that he expected a \"warm response\". the political reform group\\'s general secretary told bbc radio 4\\'s today programme there were some \"very out-dated features\" at the heart of britain\\'s constitution.  \"in 1998 the government said in principle it supported the idea of ending gender discrimination and that it would consult on how to come forward with its own measures. \"we hope they are warm towards it and don\\'t say this is the wrong time.\" he pointed out that it was 30 years since the sex discrimination act and urged politicians on all sides to back the bill. mr katwala added: \"this is long overdue. parliament will have to do it eventually, the government, and i hope all of the political parties, might think this is a very simple thing to have in their manifestos.\"  but he acknowledged that even if the bill did win support, it was unlikely to become law because the legislative programme is likely to be squeezed by the coming general election. he said he hoped the bill would be a \"gentle nudge\" to the government and suggested it would \"demand a response\". the bill, which is in the lords for its second reading, has been adopted by former chief whip ann taylor in the commons. the rule of succession is regulated not only through descent and tradition but also by the act of settlement which confirmed in 1701 that it was for parliament to determine the title to the throne. '],\n",
       "      dtype=object)"
      ]
     },
     "execution_count": 134,
     "metadata": {},
     "output_type": "execute_result"
    }
   ],
   "source": [
    "X_train"
   ]
  },
  {
   "cell_type": "markdown",
   "metadata": {},
   "source": [
    "### 6.2.3 model retrain"
   ]
  },
  {
   "cell_type": "code",
   "execution_count": 135,
   "metadata": {},
   "outputs": [],
   "source": [
    "tfv = TfidfVectorizer(ngram_range=(1,2))\n",
    "X_train_new = tfv.fit_transform(X_train)\n",
    "X_test_new = tfv.transform(X_test)\n",
    "y_train_new = y_train\n",
    "y_test_new = y_test"
   ]
  },
  {
   "cell_type": "code",
   "execution_count": 136,
   "metadata": {},
   "outputs": [
    {
     "data": {
      "text/plain": [
       "((1999, 327328), (326, 327328), (1999,), (326,))"
      ]
     },
     "execution_count": 136,
     "metadata": {},
     "output_type": "execute_result"
    }
   ],
   "source": [
    "X_train_new.shape, X_test_new.shape, y_train_new.shape, y_test_new.shape"
   ]
  },
  {
   "cell_type": "code",
   "execution_count": 137,
   "metadata": {},
   "outputs": [
    {
     "data": {
      "text/plain": [
       "LogisticRegression()"
      ]
     },
     "execution_count": 137,
     "metadata": {},
     "output_type": "execute_result"
    }
   ],
   "source": [
    "lr = LogisticRegression()\n",
    "lr.fit(X_train_new, y_train_new)"
   ]
  },
  {
   "cell_type": "code",
   "execution_count": 140,
   "metadata": {},
   "outputs": [
    {
     "name": "stdout",
     "output_type": "stream",
     "text": [
      "Accuracy score for logistic_regression: 0.982\n",
      "precision score for logistic_regression: 0.981\n",
      "recall score for logistic_regression: 0.982\n",
      "f1 score for logistic_regression: 0.981\n",
      "Area under the curve (logistic_regression): 0.997\n"
     ]
    }
   ],
   "source": [
    "calc_and_store_eval_scores(lr, 'logistic_regression', X_test_new, y_test_new, update=True)\n",
    "preds = lr.predict(X_test_new)"
   ]
  },
  {
   "cell_type": "code",
   "execution_count": 145,
   "metadata": {},
   "outputs": [],
   "source": [
    "# replace deployed model with new one\n",
    "determined_model = lr"
   ]
  },
  {
   "cell_type": "markdown",
   "metadata": {},
   "source": [
    "### 6.2.4 replace old question bank with new one"
   ]
  },
  {
   "cell_type": "code",
   "execution_count": 143,
   "metadata": {},
   "outputs": [
    {
     "data": {
      "text/html": [
       "<div>\n",
       "<style scoped>\n",
       "    .dataframe tbody tr th:only-of-type {\n",
       "        vertical-align: middle;\n",
       "    }\n",
       "\n",
       "    .dataframe tbody tr th {\n",
       "        vertical-align: top;\n",
       "    }\n",
       "\n",
       "    .dataframe thead th {\n",
       "        text-align: right;\n",
       "    }\n",
       "</style>\n",
       "<table border=\"1\" class=\"dataframe\">\n",
       "  <thead>\n",
       "    <tr style=\"text-align: right;\">\n",
       "      <th></th>\n",
       "      <th>reading_passage</th>\n",
       "    </tr>\n",
       "  </thead>\n",
       "  <tbody>\n",
       "    <tr>\n",
       "      <th>0</th>\n",
       "      <td>Ad sales boost Time Warner profit\\n\\nQuarterly...</td>\n",
       "    </tr>\n",
       "    <tr>\n",
       "      <th>1</th>\n",
       "      <td>Dollar gains on Greenspan speech\\n\\nThe dollar...</td>\n",
       "    </tr>\n",
       "    <tr>\n",
       "      <th>2</th>\n",
       "      <td>Yukos unit buyer faces loan claim\\n\\nThe owner...</td>\n",
       "    </tr>\n",
       "    <tr>\n",
       "      <th>3</th>\n",
       "      <td>High fuel prices hit BA's profits\\n\\nBritish A...</td>\n",
       "    </tr>\n",
       "    <tr>\n",
       "      <th>4</th>\n",
       "      <td>Pernod takeover talk lifts Domecq\\n\\nShares in...</td>\n",
       "    </tr>\n",
       "    <tr>\n",
       "      <th>...</th>\n",
       "      <td>...</td>\n",
       "    </tr>\n",
       "    <tr>\n",
       "      <th>2320</th>\n",
       "      <td>parliament's record of scandal  in a locked ro...</td>\n",
       "    </tr>\n",
       "    <tr>\n",
       "      <th>2321</th>\n",
       "      <td>ray dvd beats box office takings  oscar-nomina...</td>\n",
       "    </tr>\n",
       "    <tr>\n",
       "      <th>2322</th>\n",
       "      <td>jp morgan admits us slavery links  thousands o...</td>\n",
       "    </tr>\n",
       "    <tr>\n",
       "      <th>2323</th>\n",
       "      <td>melzer shocks agassi in san jose  second seed ...</td>\n",
       "    </tr>\n",
       "    <tr>\n",
       "      <th>2324</th>\n",
       "      <td>sainsbury's labour election gift  science mini...</td>\n",
       "    </tr>\n",
       "  </tbody>\n",
       "</table>\n",
       "<p>2325 rows × 1 columns</p>\n",
       "</div>"
      ],
      "text/plain": [
       "                                        reading_passage\n",
       "0     Ad sales boost Time Warner profit\\n\\nQuarterly...\n",
       "1     Dollar gains on Greenspan speech\\n\\nThe dollar...\n",
       "2     Yukos unit buyer faces loan claim\\n\\nThe owner...\n",
       "3     High fuel prices hit BA's profits\\n\\nBritish A...\n",
       "4     Pernod takeover talk lifts Domecq\\n\\nShares in...\n",
       "...                                                 ...\n",
       "2320  parliament's record of scandal  in a locked ro...\n",
       "2321  ray dvd beats box office takings  oscar-nomina...\n",
       "2322  jp morgan admits us slavery links  thousands o...\n",
       "2323  melzer shocks agassi in san jose  second seed ...\n",
       "2324  sainsbury's labour election gift  science mini...\n",
       "\n",
       "[2325 rows x 1 columns]"
      ]
     },
     "execution_count": 143,
     "metadata": {},
     "output_type": "execute_result"
    }
   ],
   "source": [
    "Question_bank = accumulated_new_df[['reading_passage', 'passage_topic']]\n",
    "Question_bank = Question_bank.drop(['passage_topic'], axis=1)\n",
    "Question_bank"
   ]
  },
  {
   "cell_type": "markdown",
   "metadata": {},
   "source": [
    "## 6.3 drawing 2 passages from the question bank"
   ]
  },
  {
   "cell_type": "markdown",
   "metadata": {},
   "source": [
    "we must guarantee that the two randomly drawn passages are from different topics"
   ]
  },
  {
   "cell_type": "code",
   "execution_count": 148,
   "metadata": {},
   "outputs": [
    {
     "name": "stdout",
     "output_type": "stream",
     "text": [
      "passage topic encodings: [4 4]\n",
      "both passage are from the same topic!\n",
      "drawing again..\n",
      "\n",
      "passage topic encodings: [1 3]\n",
      "**************************************************\n",
      "drawing passages from Question Bank: DONE\n",
      "**************************************************\n",
      "\n",
      "\n",
      "\n",
      "passage number 1 (topic: entertainment)\n",
      "Jackson film 'absolute disaster'\n",
      "\n",
      "A PR expert has told the Michael Jackson child abuse trial that the TV documentary at the heart of the case was an \"absolute disaster\".\n",
      "\n",
      "Ann Kite told the court in the Californian town of Santa Maria she was hired to \"crisis manage\" the fallout after the programme had aired in 2003. Jurors saw the film, in which the pop star held hands with the alleged victim, on Tuesday. Mr Jackson denies 10 charges of child abuse and false imprisonment. If convicted, he could face up to 21 years in prison.\n",
      "\n",
      "Ms Kite suggested Jackson's associates had been intent on launching a smear campaign against the accuser's family after the airing of Martin Bashir's film Living with Michael Jackson. She told the court that in the aftermath of the broadcast, a Jackson lawyer had told her the boy's mother would be made to look like a \"crack whore\". Jackson's defence questioned Ms Kite's credibility, pointing that she worked for the singer's team for less than a week before being fired, and had never met or spoken to the star.\n",
      "\n",
      "Ms Kite said she received a phone call on 13 February 2003 from a Jackson associate, Marc Schaffel, who said the boy and his family had left the Neverland ranch where they had been staying.\n",
      "\n",
      "Ms Kite told the court she had later asked Jackson's lawyer, David LeGrand, what had happened. \"I said, `Don't make me believe that these people were hunted down like dogs and brought back to the ranch',\" she said. Ms Kite began to work for Mr Jackson in February 2003, after the controversial film was televised in the US and Europe. The documentary sparked a media storm and the subsequent investigation into Mr Jackson's relationship with the boy. In the film, the singer said he did not see anything wrong with sharing a bed with a child.\n",
      "\n",
      "Questioned by the prosecution, Ms Kite said her plan had been to move media coverage of the star away from a focus on his human frailties to concentrate more on his musical genius. Ms Kite said that an additional problem was the release of documents relating to a previous allegation of child abuse against Mr Jackson. The Smoking Gun website publication was \"beyond disaster\", Ms Kite said. Correspondents say the reference is important because it was unclear whether the prosecution would be able to bring up the previous case in front of the jury.\n",
      "\n",
      "The judge is studying whether the prosecution's first witness, reporter Martin Bashir, is in contempt of court. The defence protested after Mr Bashir, who interviewed Jackson for the TV documentary, refused to answer nearly all their questions, citing a California \"shield\" law intended to allow journalists to protect their sources. In the prosecution's opening statement on Monday, Tom Sneddon told the court that Mr Jackson had shown the boy porn and plied him with wine, in order to molest him. He said the singer had visited sexually explicit websites and showed the boy - who was 13 at the time - and his younger brother pornography at his ranch.\n",
      "\n",
      "--------------------------------------------------\n",
      "\n",
      "passage number 2 (topic: sport)\n",
      "Wilkinson to miss Ireland match\n",
      "\n",
      "England will have to take on Ireland in the Six Nations without captain and goal-kicker Jonny Wilkinson, according to his Newcastle boss Rob Andrew.\n",
      "\n",
      "Wilkinson - who had targeted the 27 February match for his international comeback - has been missed by England, not least for his goal-kicking. \"Jonny's not fit yet,\" Falcons chief Andrew told BBC Radio Five Live. \"He won't be fit for Dublin, there's no doubt about that, but he might be fit for Scotland and Italy.\" The 25-year-old has not played for England since the 2003 World Cup final after a succession of injuries. England, who have lost three Six Nations games in a row, wasted a 17-6 half-time lead in their 18-17 defeat to France. Goal-kickers Charlie Hodgson and Olly Barkley missed six penalty attempts and a drop-goal between them. \"They've probably got two of the best English kickers in the Premiership in Hodgson and Barkley,\" added Andrew, a former England fly-half and goal-kicker.\n",
      "\n",
      "\"They're both pretty good kickers. Charlie is a good kicker week-in, week-out. \"But it's all about pressure and unfortunately England are just not handling the pressure at the moment.\" Andrew also blamed England's poor run of recent results on a lack of leadership in the side following several high-profile retirements and injuries. \"They just didn't have that leadership that would have seen them through. Martin Johnson, Lawrence Dallaglio and Jonny are obviously huge losses and leadership is so important in those situations,\" he said. \"I think it is really difficult for Jason Robinson to lead the side effectively from full-back.\" Meanwhile, former England full-back Dusty Hare put England's mistakes down to a lack of mental toughness.\n",
      "\n",
      "\"Jonny Wilkinson has proved himself a cool customer with around an 80% kicking success rate,\" Hare told BBC Radio Five Live. \"But natural-born toughness comes into it as well as all the practice you do. \"You have to be able to shut out all the outside elements and concentrate on putting the ball between the posts.\" Hodgson, who has an excellent kicking record with club side Sale Sharks, has introduced crowd noise into his practice routine of late. \"The top golfers don't hit the fairway every time, and it is the same with goal-kicking,\" Hare added. \"You need that mental toughness as well to put the ball over, but great goal-kickers like Jonny Wilkinson come along very rarely.\"\n",
      "\n",
      "--------------------------------------------------\n",
      "\n"
     ]
    }
   ],
   "source": [
    "def draw_two_passages():\n",
    "    passages = Question_bank.sample(2)\n",
    "    passages_processed = tfv.transform(passages['reading_passage'])\n",
    "    passages_processed_preds = determined_model.predict(passages_processed)\n",
    "    \n",
    "    # verfication process\n",
    "    print(f'passage topic encodings: {passages_processed_preds}')\n",
    "    if (passages_processed_preds[0] == passages_processed_preds[1]):\n",
    "        print('both passage are from the same topic!')\n",
    "        return -1\n",
    "        \n",
    "    \n",
    "    passages = passages['reading_passage'].to_list()\n",
    "    passages_topic = []\n",
    "    passages_topic.append(encoding_to_label(passages_processed_preds[0])) # first passage (with index 0)\n",
    "    passages_topic.append(encoding_to_label(passages_processed_preds[1])) # second passage (with index 1)\n",
    "    return (passages, passages_topic)\n",
    "\n",
    "output = draw_two_passages()\n",
    "while output == -1:\n",
    "    print('drawing again..')\n",
    "    print()\n",
    "    output = draw_two_passages()\n",
    "print('*' * 50)\n",
    "print('drawing passages from Question Bank: DONE')\n",
    "print('*' * 50)\n",
    "print(\"\", end='\\n\\n\\n')\n",
    "\n",
    "passages_drawn = output[0]\n",
    "passages_topics = output[1]\n",
    "for i in range(len(passages_topics)):\n",
    "    print(f'passage number {i+1} (topic: {passages_topics[i]})')\n",
    "    print(passages_drawn[i])\n",
    "    print('-' * 50, end='\\n\\n')"
   ]
  }
 ],
 "metadata": {
  "kernelspec": {
   "display_name": "Python 3",
   "language": "python",
   "name": "python3"
  },
  "language_info": {
   "codemirror_mode": {
    "name": "ipython",
    "version": 3
   },
   "file_extension": ".py",
   "mimetype": "text/x-python",
   "name": "python",
   "nbconvert_exporter": "python",
   "pygments_lexer": "ipython3",
   "version": "3.6.5"
  }
 },
 "nbformat": 4,
 "nbformat_minor": 5
}
